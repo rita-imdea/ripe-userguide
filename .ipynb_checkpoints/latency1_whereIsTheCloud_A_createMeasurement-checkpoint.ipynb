{
 "cells": [
  {
   "cell_type": "markdown",
   "id": "0003e40b",
   "metadata": {},
   "source": [
    "# RIPE Atlas:  Can we find where the Cloud is?\n",
    "This project is accesible at: https://github.com/rita-imdea/ripe-userguide\n",
    "\n",
    "Please read the guide document at https://github.com/rita-imdea/ripe-userguide/blob/main/latency1_whereIsTheCloud_GUIDE_student.pdf to help you understand this notebook.\n",
    "\n",
    "## I) Creating your own customized measurements\n",
    "\n",
    "In this notebook, we are going to see how to create new measurements. We can freely select the probes and the IP or URL of the destination. We recommend the reader to first take a look at the PDF document that contains the guide for the whole course. \n",
    "This notebook is divided in four different steps:\n",
    "\n",
    "1. We import the required packages and libraries\n",
    "2. We provide the correct values for the API key, and the list of probes and destinations. \n",
    "3. Next, we transform the input data (IDs and URLs) into the correct format. \n",
    "4. We create the measurement and we set the parameters "
   ]
  },
  {
   "cell_type": "markdown",
   "id": "a3d1c191",
   "metadata": {},
   "source": [
    "----------------------------------------------"
   ]
  },
  {
   "cell_type": "markdown",
   "id": "0e800eee",
   "metadata": {},
   "source": [
    "##### 1. Packages\n",
    "We start by adding the required packages\n"
   ]
  },
  {
   "cell_type": "code",
   "execution_count": null,
   "id": "734a0090",
   "metadata": {},
   "outputs": [],
   "source": [
    "import csv # To read from CSV files \n",
    "\n",
    "from datetime import datetime # To check the current time\n",
    "from datetime import timedelta # To compute distance in time\n",
    "\n",
    "# RIPE Atlas API: the package to interact with RIPE Atlas platform\n",
    "from ripe.atlas.cousteau import (\n",
    "    Ping,\n",
    "    Traceroute,\n",
    "    AtlasSource,\n",
    "    AtlasCreateRequest\n",
    ")"
   ]
  },
  {
   "cell_type": "markdown",
   "id": "0b8015e5",
   "metadata": {},
   "source": [
    " #### 2. API  + lists\n",
    " Now it is time to include your API Key to be able to run the measurements. You find it in https://atlas.ripe.net/keys/ <br>\n",
    " We also provide the file that contains the list of probe's IDs and destination's urls. \n",
    " Note that the example assumes that the lists are given in a <strong>CSV format</strong>."
   ]
  },
  {
   "cell_type": "code",
   "execution_count": null,
   "id": "3eea0667",
   "metadata": {},
   "outputs": [],
   "source": [
    "ATLAS_API_KEY = \"\" ## IMPORTANT! You need this to create a measurement\n",
    "\n",
    "my_probes_file = \"list_id_probes.csv\"\n",
    "my_urls_file   = \"list_url_ip_destination.csv\""
   ]
  },
  {
   "cell_type": "markdown",
   "id": "5396632f",
   "metadata": {},
   "source": [
    "#### 3. Formatting\n",
    "Next, we have to transform the input data (CSV files) into the format that is required by the RIPE Atlas API. For that, we read the CSV files row by row, extracting the first column (where the useful information is stored), and then:\n",
    "\n",
    "   a) For the probes, we save them as a string containing the ids separated by commas.<br>\n",
    "   b) For the destinations, we save them as a list since we need to run a different experiment for each destination. "
   ]
  },
  {
   "cell_type": "code",
   "execution_count": null,
   "id": "b8763242",
   "metadata": {},
   "outputs": [],
   "source": [
    "# Putting the source probes in a comma-separated string\n",
    "with open(my_probes_file,\"r\") as probes: ### the file with the IDs of the probes you want to use.\n",
    "    probesReader= csv.reader(probes,delimiter=\";\") ### Reading CSV file with the probes IDs in the first column of the file.\n",
    "    next(probes)\n",
    "    probesList= []\n",
    "    for i in probesReader:\n",
    "        probesList.append(i[0]) # Saving the IDs\n",
    "    probesStr = \",\".join(probesList) # join the IDs as a comma-separated string"
   ]
  },
  {
   "cell_type": "code",
   "execution_count": null,
   "id": "ed955286",
   "metadata": {},
   "outputs": [],
   "source": [
    "# As for the probes, we obtain list of destinations that we are targetting. \n",
    "with open(my_urls_file,\"r\") as urls:\n",
    "    urlsReader = csv.reader(urls,delimiter=\"\\n\")\n",
    "    urlsList = []\n",
    "    for i in urlsReader:\n",
    "        urlsList.append(i[0])"
   ]
  },
  {
   "cell_type": "markdown",
   "id": "89e53e36",
   "metadata": {},
   "source": [
    "We can check that the values have been correctly saved:"
   ]
  },
  {
   "cell_type": "code",
   "execution_count": null,
   "id": "b00eb794",
   "metadata": {},
   "outputs": [],
   "source": [
    "print(\"List of probes' IDs: \", probesStr)\n",
    "print(\"List of destinations: \", urlsList)"
   ]
  },
  {
   "cell_type": "markdown",
   "id": "223fb74e",
   "metadata": {},
   "source": [
    "###### 4. Creating measurement\n",
    "\n",
    "Finally, for each one of the URLs or IP addresses that we are targeting (i.e., that we are considering as a destination), we have to call the API to set and start the experiment. \n",
    "\n",
    "   Note that <strong>RIPE Atlas' experiments only allow us to set one destination</strong>. Thus, if we want to do the same measurement for different URLs/IPs, we need to create different measurements with the same parameters. This is easily done in Python with a loop, while in the web interface it would become a tedious task. "
   ]
  },
  {
   "cell_type": "markdown",
   "id": "977e838f",
   "metadata": {},
   "source": [
    "In the following, we first set the parameters of the measurement. We use two different types of measurement: with PING packets (providing information only of the round-trip time), and TRACEROUTE, which provides information about the IP path followed by the packets. \n",
    "\n",
    "We can also set the starting time for the measurement and how long it lasts. "
   ]
  },
  {
   "cell_type": "code",
   "execution_count": null,
   "id": "b210251f",
   "metadata": {},
   "outputs": [],
   "source": [
    "## Now, for each url that we target, we create the experiment.\n",
    "measurement_dict = {}\n",
    "for url_i in urlsList: # for each destination\n",
    "    \n",
    "    # We set a first measurement with Ping packets, that is repeated every 5 minutes (300 seconds)\n",
    "    ping = Ping(\n",
    "                    af=4,\n",
    "                    target=url_i,\n",
    "                    interval=300, #run ping every 5 minutes \n",
    "                    description=\"Ping Test\"\n",
    "                )\n",
    "    \n",
    "    # We set a measurement with Traceroute protocol, that is repeated every 2 hours (7200 seconds)\n",
    "    traceroute = Traceroute(\n",
    "                                af=4,\n",
    "                                target=url_i,\n",
    "                                interval=7200, # run traceroute every 2 hours\n",
    "                                description=\"Traceroute Test\",\n",
    "                                protocol=\"ICMP\",\n",
    "                            )\n",
    "    \n",
    "    # We set the source probes from our list.\n",
    "    source = AtlasSource(\n",
    "                                type=\"probes\",\n",
    "                                requested=len(probesList),\n",
    "                                value= probesStr,\n",
    "                                tags={\"exclude\": [\"system-anchor\"]}\n",
    "                            )\n",
    "    \n",
    "    # We create the request for the measurement indicating the starting and finishing time\n",
    "    atlas_request = AtlasCreateRequest(\n",
    "                                                start_time=datetime.utcnow()+ timedelta(seconds=300),\n",
    "                                                stop_time= datetime.utcnow()+ timedelta(seconds=300)+timedelta(days=2),\n",
    "                                                key=ATLAS_API_KEY,\n",
    "                                                measurements=[ping, traceroute],\n",
    "                                                sources=[source, source]\n",
    "                                        )\n",
    "\n",
    "    # We make the request trhough the API.\n",
    "    (is_success, response) = atlas_request.create()\n",
    "    \n",
    "    # We can finally check if the measurement has been successfully started. \n",
    "    if is_success:\n",
    "        measurement_dict.update(response) \n",
    "    else:\n",
    "        print(response)\n",
    "        \n",
    "    print(measurement_dict)"
   ]
  },
  {
   "cell_type": "markdown",
   "id": "c5ec6eff",
   "metadata": {},
   "source": [
    "When the previous code has finished, if the measurement has been successful, the code will print the <strong>IDs of the measurements</strong>. These IDs are important because they identify the measurement and allow you to later retrieve the data from the database, even when the measurements are still running. \n",
    "\n",
    "Accessing public measurements and/or accessing your own measurements follows the same procedure. Such procedure is explained in the other Jupyter Notebook of the course, which can be found at https://github.com/rita-imdea/ripe-userguide/blob/main/latency1_whereIsTheCloud_B_getMeasurement.ipynb  "
   ]
  },
  {
   "cell_type": "markdown",
   "id": "33528380",
   "metadata": {},
   "source": [
    "----------------------------------------------"
   ]
  },
  {
   "cell_type": "markdown",
   "id": "11f6d37e",
   "metadata": {},
   "source": [
    "----------------------------------------------"
   ]
  }
 ],
 "metadata": {
  "kernelspec": {
   "display_name": "Python 3 (ipykernel)",
   "language": "python",
   "name": "python3"
  },
  "language_info": {
   "codemirror_mode": {
    "name": "ipython",
    "version": 3
   },
   "file_extension": ".py",
   "mimetype": "text/x-python",
   "name": "python",
   "nbconvert_exporter": "python",
   "pygments_lexer": "ipython3",
   "version": "3.9.15"
  }
 },
 "nbformat": 4,
 "nbformat_minor": 5
}
