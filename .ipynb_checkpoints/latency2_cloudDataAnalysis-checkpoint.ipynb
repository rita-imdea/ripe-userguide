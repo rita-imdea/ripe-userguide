{
 "cells": [
  {
   "cell_type": "markdown",
   "metadata": {},
   "source": [
    "# Understanding the Cloud through data analysis\n",
    "This project is accesible at: https://github.com/rita-imdea/ripe-userguide \n",
    "The supplementary PDF file can be found at https://github.com/rita-imdea/ripe-userguide/blob/main/latency2guide.pdf\n",
    "\n",
    "In this notebook, we are going to see how to retrieve measurements fron RIPE Atlas and also how to parse measurements from JSON files (which have been pre-downloaded from RIPE Atlas). \n",
    "We recommend the reader to first take a look at the PDF document that contains the guide for the whole course. \n",
    "\n",
    "------------------------------\n",
    "\n",
    "This notebook is divided in 2 parts. \n",
    "\n",
    "    \n",
    "#### A) PARSING YOUR MEASUREMENTS\n",
    "    We will explain how to clean and pre-process the data, which are *essential* steps to obtain good results.\n",
    "    \n",
    "#### B) ANALYZING YOUR MEASUREMENTS \n",
    "    The statistical analysis of the data\n",
    "    \n",
    "------------------------------\n",
    "\n",
    "This project makes use of data from RIPE Atlas, a measurement platform that contains public measurements. These measurements consists of the parameters and statististics of all the messages sent from some source devices, named \"probes\", towards some IP addresses or urls, named \"destinations\". These data allow us to understand how Internet works and how time and space impact on latency. \n",
    "\n",
    "Let's start!"
   ]
  },
  {
   "cell_type": "markdown",
   "metadata": {},
   "source": [
    "------------------------------\n",
    "------------------------------\n",
    "\n",
    "First of all, we need to install some python packages that are required to contact with the RIPE Atlas server and to parse JSON files. Some other packages will be imported later on when they are needed. Make sure that you have installed the packages (see the guide that is accessible from the link on top of this file)"
   ]
  },
  {
   "cell_type": "code",
   "execution_count": 1,
   "metadata": {},
   "outputs": [],
   "source": [
    "import requests # to create http requests from Python\n",
    "import json     # Library to write and ready JSON files in PYthon"
   ]
  },
  {
   "cell_type": "markdown",
   "metadata": {},
   "source": [
    "Next, we check how to pass from a retrieved JSON file to a meaningful format in Python to work with the data.\n"
   ]
  },
  {
   "cell_type": "markdown",
   "metadata": {},
   "source": [
    "### A) PARSING YOUR MEASUREMENTS\n",
    "\n",
    "Wwe are going to get the data from the JSON files, which are already present in the course directory; you can also obtain other measurements from https://atlas.ripe.net/measurements/, as explained in Section III.B of latency2guide.pdf\n",
    "\n",
    "The next steps are:\n",
    "\n",
    "1. Initially, we parse the JSON files and store the data in a Python structure \n",
    "2. We clean the data\n",
    "\n",
    "-----------------------------------------\n",
    "\n",
    "!!!!!!!!!!!!!!!! To complete\n",
    "\n",
    "3. Finally you can plot the probability distribution to see how the data is spread "
   ]
  },
  {
   "cell_type": "markdown",
   "metadata": {},
   "source": [
    "First, we set the IDs of the measurements we are interested in. \n",
    "In this case, the IDs provided below refer to the measurements taken for this course. "
   ]
  },
  {
   "cell_type": "code",
   "execution_count": 2,
   "metadata": {},
   "outputs": [],
   "source": [
    "#measurement_ids = [\"48819905\", \"48819907\", \"48819909\"] # example of measurement ID -- PING MEASUREMENTS\n",
    "#measurement_ids = [\"48819906\", \"48819908\", \"48819910\"] # example of measurement ID -- TRACEROUTE MEASUREMENTS\n",
    "measurement_ids = [\"48819905\",  \"48819907\",  \"48819909\"] # example of measurement ID\n"
   ]
  },
  {
   "cell_type": "markdown",
   "metadata": {},
   "source": [
    "### a) Reading JSON files in Python\n",
    "\n",
    "Next, we use the Python library \"json\", which allows us to ready and write JSON files with Python.\n",
    "Furthermore, we use two of the most used packages for data processing in PYthon: Pandas and Numpy. \n",
    "\n",
    "1. Pandas is a Python library that provides a data structure called a DataFrame (https://pandas.pydata.org/pandas-docs/stable/reference/api/pandas.DataFrame.html), which is a structure that facilitates data processing and manipulation. We can visualize it as a matrix that contains data of different format. We shall use it to parse our data because it provides a number of useful functions for manipulation and visualization of data.\n",
    "\n",
    "2. Numpy is a Python library that facilitates mathematical operations, in particular for arrays and matrices. \n",
    "\n",
    "3. We also import datetime to work with different time formats."
   ]
  },
  {
   "cell_type": "code",
   "execution_count": 3,
   "metadata": {},
   "outputs": [],
   "source": [
    "# We first import the necessary libraries \n",
    "import pandas as pd\n",
    "import numpy  as np\n",
    "from datetime import datetime"
   ]
  },
  {
   "cell_type": "markdown",
   "metadata": {},
   "source": [
    "For each one of the measurements, we read the JSON file and store it in a pandas DataFrame (df) structure.\n",
    "\n",
    "Then, we create a list of DataFrames (df) with all the measurements. "
   ]
  },
  {
   "cell_type": "code",
   "execution_count": 4,
   "metadata": {},
   "outputs": [],
   "source": [
    "# Loop through the measurement IDs experiment files and create a DataFrame for each\n",
    "\n",
    "dfs = [] # creating an empty vector for DataFrame elements\n",
    "\n",
    "for measurement_id in measurement_ids: # For each of the measurements that we are considering:\n",
    "    \n",
    "    # Read the JSON data from the file\n",
    "    with open(f\"RIPE-Atlas-measurement-{measurement_id}.json\", \"r\") as f:\n",
    "        json_data = json.load(f)\n",
    "    \n",
    "    # Normalize the JSON data into a pandas DataFrame\n",
    "    df = pd.json_normalize(json_data)\n",
    "    \n",
    "    # Append the DataFrame to the list of DataFrames\n",
    "    dfs.append(df)\n"
   ]
  },
  {
   "cell_type": "markdown",
   "metadata": {},
   "source": [
    "We would like to have all the DataFrames together to analyze all the measurements at the same time. Thus, we concatenate the list of dataframes."
   ]
  },
  {
   "cell_type": "code",
   "execution_count": 5,
   "metadata": {},
   "outputs": [],
   "source": [
    "# Concatenate all the DataFrames into a single one\n",
    "result_df = pd.concat(dfs, ignore_index=True)"
   ]
  },
  {
   "cell_type": "markdown",
   "metadata": {},
   "source": [
    "We can visualize the current data structure thanks to the pandas function \"head\", which prints the first 5 rows of the DataFrame with the value of all the columns."
   ]
  },
  {
   "cell_type": "code",
   "execution_count": 6,
   "metadata": {},
   "outputs": [
    {
     "data": {
      "text/html": [
       "<div>\n",
       "<style scoped>\n",
       "    .dataframe tbody tr th:only-of-type {\n",
       "        vertical-align: middle;\n",
       "    }\n",
       "\n",
       "    .dataframe tbody tr th {\n",
       "        vertical-align: top;\n",
       "    }\n",
       "\n",
       "    .dataframe thead th {\n",
       "        text-align: right;\n",
       "    }\n",
       "</style>\n",
       "<table border=\"1\" class=\"dataframe\">\n",
       "  <thead>\n",
       "    <tr style=\"text-align: right;\">\n",
       "      <th></th>\n",
       "      <th>fw</th>\n",
       "      <th>mver</th>\n",
       "      <th>lts</th>\n",
       "      <th>dst_name</th>\n",
       "      <th>af</th>\n",
       "      <th>dst_addr</th>\n",
       "      <th>src_addr</th>\n",
       "      <th>proto</th>\n",
       "      <th>ttl</th>\n",
       "      <th>size</th>\n",
       "      <th>...</th>\n",
       "      <th>avg</th>\n",
       "      <th>msm_id</th>\n",
       "      <th>prb_id</th>\n",
       "      <th>timestamp</th>\n",
       "      <th>msm_name</th>\n",
       "      <th>from</th>\n",
       "      <th>type</th>\n",
       "      <th>group_id</th>\n",
       "      <th>step</th>\n",
       "      <th>stored_timestamp</th>\n",
       "    </tr>\n",
       "  </thead>\n",
       "  <tbody>\n",
       "    <tr>\n",
       "      <th>0</th>\n",
       "      <td>5040</td>\n",
       "      <td>2.4.1</td>\n",
       "      <td>14</td>\n",
       "      <td>52.46.72.50</td>\n",
       "      <td>4</td>\n",
       "      <td>52.46.72.50</td>\n",
       "      <td>10.18.246.209</td>\n",
       "      <td>ICMP</td>\n",
       "      <td>234.0</td>\n",
       "      <td>64</td>\n",
       "      <td>...</td>\n",
       "      <td>14.612530</td>\n",
       "      <td>48819905</td>\n",
       "      <td>1003454</td>\n",
       "      <td>1673864005</td>\n",
       "      <td>Ping</td>\n",
       "      <td>51.15.99.8</td>\n",
       "      <td>ping</td>\n",
       "      <td>48819905</td>\n",
       "      <td>300</td>\n",
       "      <td>1673864050</td>\n",
       "    </tr>\n",
       "    <tr>\n",
       "      <th>1</th>\n",
       "      <td>5040</td>\n",
       "      <td>2.4.1</td>\n",
       "      <td>20</td>\n",
       "      <td>52.46.72.50</td>\n",
       "      <td>4</td>\n",
       "      <td>52.46.72.50</td>\n",
       "      <td>10.109.0.30</td>\n",
       "      <td>ICMP</td>\n",
       "      <td>233.0</td>\n",
       "      <td>64</td>\n",
       "      <td>...</td>\n",
       "      <td>24.125096</td>\n",
       "      <td>48819905</td>\n",
       "      <td>1003747</td>\n",
       "      <td>1673864003</td>\n",
       "      <td>Ping</td>\n",
       "      <td>45.137.88.145</td>\n",
       "      <td>ping</td>\n",
       "      <td>48819905</td>\n",
       "      <td>300</td>\n",
       "      <td>1673864114</td>\n",
       "    </tr>\n",
       "    <tr>\n",
       "      <th>2</th>\n",
       "      <td>5080</td>\n",
       "      <td>2.6.2</td>\n",
       "      <td>96</td>\n",
       "      <td>52.46.72.50</td>\n",
       "      <td>4</td>\n",
       "      <td>52.46.72.50</td>\n",
       "      <td>192.168.250.65</td>\n",
       "      <td>ICMP</td>\n",
       "      <td>233.0</td>\n",
       "      <td>64</td>\n",
       "      <td>...</td>\n",
       "      <td>22.542065</td>\n",
       "      <td>48819905</td>\n",
       "      <td>20757</td>\n",
       "      <td>1673863991</td>\n",
       "      <td>Ping</td>\n",
       "      <td>82.116.160.225</td>\n",
       "      <td>ping</td>\n",
       "      <td>48819905</td>\n",
       "      <td>300</td>\n",
       "      <td>1673864089</td>\n",
       "    </tr>\n",
       "    <tr>\n",
       "      <th>3</th>\n",
       "      <td>5080</td>\n",
       "      <td>2.6.2</td>\n",
       "      <td>12</td>\n",
       "      <td>52.46.72.50</td>\n",
       "      <td>4</td>\n",
       "      <td>52.46.72.50</td>\n",
       "      <td>192.168.1.38</td>\n",
       "      <td>ICMP</td>\n",
       "      <td>234.0</td>\n",
       "      <td>64</td>\n",
       "      <td>...</td>\n",
       "      <td>26.183208</td>\n",
       "      <td>48819905</td>\n",
       "      <td>53229</td>\n",
       "      <td>1673864019</td>\n",
       "      <td>Ping</td>\n",
       "      <td>83.54.157.101</td>\n",
       "      <td>ping</td>\n",
       "      <td>48819905</td>\n",
       "      <td>300</td>\n",
       "      <td>1673864090</td>\n",
       "    </tr>\n",
       "    <tr>\n",
       "      <th>4</th>\n",
       "      <td>5080</td>\n",
       "      <td>2.6.2</td>\n",
       "      <td>33</td>\n",
       "      <td>52.46.72.50</td>\n",
       "      <td>4</td>\n",
       "      <td>52.46.72.50</td>\n",
       "      <td>192.168.0.101</td>\n",
       "      <td>ICMP</td>\n",
       "      <td>232.0</td>\n",
       "      <td>64</td>\n",
       "      <td>...</td>\n",
       "      <td>171.458986</td>\n",
       "      <td>48819905</td>\n",
       "      <td>51381</td>\n",
       "      <td>1673864074</td>\n",
       "      <td>Ping</td>\n",
       "      <td>102.34.0.4</td>\n",
       "      <td>ping</td>\n",
       "      <td>48819905</td>\n",
       "      <td>300</td>\n",
       "      <td>1673864205</td>\n",
       "    </tr>\n",
       "  </tbody>\n",
       "</table>\n",
       "<p>5 rows × 26 columns</p>\n",
       "</div>"
      ],
      "text/plain": [
       "     fw   mver  lts     dst_name  af     dst_addr        src_addr proto  \\\n",
       "0  5040  2.4.1   14  52.46.72.50   4  52.46.72.50   10.18.246.209  ICMP   \n",
       "1  5040  2.4.1   20  52.46.72.50   4  52.46.72.50     10.109.0.30  ICMP   \n",
       "2  5080  2.6.2   96  52.46.72.50   4  52.46.72.50  192.168.250.65  ICMP   \n",
       "3  5080  2.6.2   12  52.46.72.50   4  52.46.72.50    192.168.1.38  ICMP   \n",
       "4  5080  2.6.2   33  52.46.72.50   4  52.46.72.50   192.168.0.101  ICMP   \n",
       "\n",
       "     ttl  size  ...         avg    msm_id   prb_id   timestamp  msm_name  \\\n",
       "0  234.0    64  ...   14.612530  48819905  1003454  1673864005      Ping   \n",
       "1  233.0    64  ...   24.125096  48819905  1003747  1673864003      Ping   \n",
       "2  233.0    64  ...   22.542065  48819905    20757  1673863991      Ping   \n",
       "3  234.0    64  ...   26.183208  48819905    53229  1673864019      Ping   \n",
       "4  232.0    64  ...  171.458986  48819905    51381  1673864074      Ping   \n",
       "\n",
       "             from  type  group_id  step  stored_timestamp  \n",
       "0      51.15.99.8  ping  48819905   300        1673864050  \n",
       "1   45.137.88.145  ping  48819905   300        1673864114  \n",
       "2  82.116.160.225  ping  48819905   300        1673864089  \n",
       "3   83.54.157.101  ping  48819905   300        1673864090  \n",
       "4      102.34.0.4  ping  48819905   300        1673864205  \n",
       "\n",
       "[5 rows x 26 columns]"
      ]
     },
     "execution_count": 6,
     "metadata": {},
     "output_type": "execute_result"
    }
   ],
   "source": [
    "# Print the resulting DataFrame\n",
    "result_df.head()"
   ]
  },
  {
   "cell_type": "markdown",
   "metadata": {},
   "source": [
    "### b) Data cleaning and pre-processing\n",
    "\n",
    "The following step is to clean the data collection. \n",
    "\n",
    "For that, we should first know that the RIPE Atlas measurements may include negative values for latency (-1.0), which represent samples for which it was not possible to store the value (Due to, for example, timeouts in the network protocols). \n"
   ]
  },
  {
   "cell_type": "markdown",
   "metadata": {},
   "source": [
    "To avoid that these values impact the later analysis, we remove those samples. We first transform the negative values into Not-a-Number values (NaN), and we make use of the function \"dropna\" from Pandas library to remove those samples.  "
   ]
  },
  {
   "cell_type": "code",
   "execution_count": 7,
   "metadata": {},
   "outputs": [
    {
     "name": "stdout",
     "output_type": "stream",
     "text": [
      "Original size: (17265, 26) /// Processed size = (17119, 26)\n"
     ]
    }
   ],
   "source": [
    "## Cleaning the data \n",
    "\n",
    "original_data_size = result_df.shape # saving the number of rows and columns for later\n",
    "\n",
    "# Change the negative values to NaN\n",
    "result_df['avg'].replace(-1.0, np.nan, inplace=True)\n",
    "\n",
    "# Remove NaN values \n",
    "result_df = result_df.dropna(how='any',axis=0) \n",
    "\n",
    "print(f\"Original size: {original_data_size} /// Processed size = {result_df.shape}\")\n"
   ]
  },
  {
   "cell_type": "markdown",
   "metadata": {},
   "source": [
    "We can easily check the percentage of \"broken\" samples that there were:"
   ]
  },
  {
   "cell_type": "code",
   "execution_count": 8,
   "metadata": {},
   "outputs": [
    {
     "name": "stdout",
     "output_type": "stream",
     "text": [
      "We have 146 bad samples 17265 among total samples.\n",
      "That means that 0.85% of the samples have been discarded\n"
     ]
    }
   ],
   "source": [
    "\n",
    "\n",
    "print(f\"We have {original_data_size[0]-result_df.shape[0]} bad samples {original_data_size[0]} among total samples.\")\n",
    "\n",
    "print(f\"That means that {(original_data_size[0]-result_df.shape[0])/original_data_size[0]*100:.2f}% of the samples have been discarded\")\n"
   ]
  },
  {
   "cell_type": "markdown",
   "metadata": {},
   "source": [
    "We further pre-process the data to facilitate the plotting, visualization and readability of the data.\n",
    "\n",
    "For that, we change the probe ID with an acronym that represents the country where the probe is located, plus an index in case there are several probes in the same country. "
   ]
  },
  {
   "cell_type": "code",
   "execution_count": 9,
   "metadata": {},
   "outputs": [],
   "source": [
    "# Renaming the probe_id column for easy plotting \n",
    "nprb_id = []\n",
    "\n",
    "for value in result_df[\"prb_id\"]:\n",
    "    if value == 1004991:\n",
    "        nprb_id.append('es1')\n",
    "    if value == 53229:\n",
    "        nprb_id.append('es2')\n",
    "    if value == 1004997:\n",
    "        nprb_id.append(\"pt1\")\n",
    "    if value == 1004102:\n",
    "        nprb_id.append(\"pt2\")\n",
    "    if value == 20757:\n",
    "        nprb_id.append(\"es3\")\n",
    "    if value == 1003454:\n",
    "        nprb_id.append(\"nl1\")\n",
    "    if value == 1003158:\n",
    "        nprb_id.append(\"nl2\")\n",
    "    if value == 1003747:\n",
    "        nprb_id.append(\"nl3\")\n",
    "    if value == 1004200:\n",
    "        nprb_id.append(\"es4\")\n",
    "    if value == 51381:\n",
    "        nprb_id.append(\"ug1\")\n",
    "    if value == 54470:\n",
    "        nprb_id.append(\"us1\")\n",
    "    if value == 1002914:\n",
    "        nprb_id.append(\"us2\")\n",
    "        \n",
    "# Saving the new IDs in the column \"nprb_id\"\n",
    "result_df[\"nprb_id\"] = nprb_id\n"
   ]
  },
  {
   "cell_type": "markdown",
   "metadata": {},
   "source": [
    "Now, we edit the format in which the time is saved. By default, the time units provided by RIPE Atlas are UNIX timestamps, i.e., the number of seconds passed since 1st January 1970 at 00:00h."
   ]
  },
  {
   "cell_type": "code",
   "execution_count": 10,
   "metadata": {},
   "outputs": [],
   "source": [
    "## Changing the time column from epoch to date time format for time series processing\n",
    "\n",
    "new_timestamp = [] # initializing the new array\n",
    "\n",
    "# populating the new array\n",
    "for i in result_df['timestamp']:\n",
    "    my_datetime = datetime.fromtimestamp(i) # transforming the timestamp in standard time\n",
    "    new_timestamp.append(my_datetime) # adding the value to the array\n",
    "\n",
    "# Saving the new time format in the column \"new_time\"\n",
    "result_df['new_time'] = new_timestamp\n"
   ]
  },
  {
   "cell_type": "markdown",
   "metadata": {},
   "source": [
    "The last pre-processing is to save the code of the country in which the probe is located. "
   ]
  },
  {
   "cell_type": "code",
   "execution_count": 11,
   "metadata": {},
   "outputs": [],
   "source": [
    "# itializing the country code array\n",
    "country_name = []\n",
    "\n",
    "for value in result_df[\"nprb_id\"]:\n",
    "    if (value == 'es1') or (value == 'es2') or(value == 'es3') or( value == 'es4'):\n",
    "        country_name.append('Spain')\n",
    "    if(value == 'nl1') or (value == 'nl2')or (value == 'nl3'):\n",
    "        country_name.append('Netherlands')\n",
    "    if(value == 'pt1') or (value == 'pt2'):\n",
    "        country_name.append('Portugal')\n",
    "    if(value == 'us1') or (value == 'us2'):\n",
    "        country_name.append('USA')\n",
    "    if(value == 'ug1'):\n",
    "        country_name.append('Uganda')\n",
    "\n",
    "# Saving the new country code in the column \"country_name\"\n",
    "result_df['country_name'] = country_name\n"
   ]
  },
  {
   "cell_type": "markdown",
   "metadata": {},
   "source": [
    "We can visualize if the new additions are correct by calling again the method df.head(). You will see that the last three columns coincide with the content that we have just added."
   ]
  },
  {
   "cell_type": "code",
   "execution_count": 12,
   "metadata": {},
   "outputs": [
    {
     "data": {
      "text/html": [
       "<div>\n",
       "<style scoped>\n",
       "    .dataframe tbody tr th:only-of-type {\n",
       "        vertical-align: middle;\n",
       "    }\n",
       "\n",
       "    .dataframe tbody tr th {\n",
       "        vertical-align: top;\n",
       "    }\n",
       "\n",
       "    .dataframe thead th {\n",
       "        text-align: right;\n",
       "    }\n",
       "</style>\n",
       "<table border=\"1\" class=\"dataframe\">\n",
       "  <thead>\n",
       "    <tr style=\"text-align: right;\">\n",
       "      <th></th>\n",
       "      <th>fw</th>\n",
       "      <th>mver</th>\n",
       "      <th>lts</th>\n",
       "      <th>dst_name</th>\n",
       "      <th>af</th>\n",
       "      <th>dst_addr</th>\n",
       "      <th>src_addr</th>\n",
       "      <th>proto</th>\n",
       "      <th>ttl</th>\n",
       "      <th>size</th>\n",
       "      <th>...</th>\n",
       "      <th>timestamp</th>\n",
       "      <th>msm_name</th>\n",
       "      <th>from</th>\n",
       "      <th>type</th>\n",
       "      <th>group_id</th>\n",
       "      <th>step</th>\n",
       "      <th>stored_timestamp</th>\n",
       "      <th>nprb_id</th>\n",
       "      <th>new_time</th>\n",
       "      <th>country_name</th>\n",
       "    </tr>\n",
       "  </thead>\n",
       "  <tbody>\n",
       "    <tr>\n",
       "      <th>0</th>\n",
       "      <td>5040</td>\n",
       "      <td>2.4.1</td>\n",
       "      <td>14</td>\n",
       "      <td>52.46.72.50</td>\n",
       "      <td>4</td>\n",
       "      <td>52.46.72.50</td>\n",
       "      <td>10.18.246.209</td>\n",
       "      <td>ICMP</td>\n",
       "      <td>234.0</td>\n",
       "      <td>64</td>\n",
       "      <td>...</td>\n",
       "      <td>1673864005</td>\n",
       "      <td>Ping</td>\n",
       "      <td>51.15.99.8</td>\n",
       "      <td>ping</td>\n",
       "      <td>48819905</td>\n",
       "      <td>300</td>\n",
       "      <td>1673864050</td>\n",
       "      <td>nl1</td>\n",
       "      <td>2023-01-16 11:13:25</td>\n",
       "      <td>Netherlands</td>\n",
       "    </tr>\n",
       "    <tr>\n",
       "      <th>1</th>\n",
       "      <td>5040</td>\n",
       "      <td>2.4.1</td>\n",
       "      <td>20</td>\n",
       "      <td>52.46.72.50</td>\n",
       "      <td>4</td>\n",
       "      <td>52.46.72.50</td>\n",
       "      <td>10.109.0.30</td>\n",
       "      <td>ICMP</td>\n",
       "      <td>233.0</td>\n",
       "      <td>64</td>\n",
       "      <td>...</td>\n",
       "      <td>1673864003</td>\n",
       "      <td>Ping</td>\n",
       "      <td>45.137.88.145</td>\n",
       "      <td>ping</td>\n",
       "      <td>48819905</td>\n",
       "      <td>300</td>\n",
       "      <td>1673864114</td>\n",
       "      <td>nl3</td>\n",
       "      <td>2023-01-16 11:13:23</td>\n",
       "      <td>Netherlands</td>\n",
       "    </tr>\n",
       "    <tr>\n",
       "      <th>2</th>\n",
       "      <td>5080</td>\n",
       "      <td>2.6.2</td>\n",
       "      <td>96</td>\n",
       "      <td>52.46.72.50</td>\n",
       "      <td>4</td>\n",
       "      <td>52.46.72.50</td>\n",
       "      <td>192.168.250.65</td>\n",
       "      <td>ICMP</td>\n",
       "      <td>233.0</td>\n",
       "      <td>64</td>\n",
       "      <td>...</td>\n",
       "      <td>1673863991</td>\n",
       "      <td>Ping</td>\n",
       "      <td>82.116.160.225</td>\n",
       "      <td>ping</td>\n",
       "      <td>48819905</td>\n",
       "      <td>300</td>\n",
       "      <td>1673864089</td>\n",
       "      <td>es3</td>\n",
       "      <td>2023-01-16 11:13:11</td>\n",
       "      <td>Spain</td>\n",
       "    </tr>\n",
       "    <tr>\n",
       "      <th>3</th>\n",
       "      <td>5080</td>\n",
       "      <td>2.6.2</td>\n",
       "      <td>12</td>\n",
       "      <td>52.46.72.50</td>\n",
       "      <td>4</td>\n",
       "      <td>52.46.72.50</td>\n",
       "      <td>192.168.1.38</td>\n",
       "      <td>ICMP</td>\n",
       "      <td>234.0</td>\n",
       "      <td>64</td>\n",
       "      <td>...</td>\n",
       "      <td>1673864019</td>\n",
       "      <td>Ping</td>\n",
       "      <td>83.54.157.101</td>\n",
       "      <td>ping</td>\n",
       "      <td>48819905</td>\n",
       "      <td>300</td>\n",
       "      <td>1673864090</td>\n",
       "      <td>es2</td>\n",
       "      <td>2023-01-16 11:13:39</td>\n",
       "      <td>Spain</td>\n",
       "    </tr>\n",
       "    <tr>\n",
       "      <th>4</th>\n",
       "      <td>5080</td>\n",
       "      <td>2.6.2</td>\n",
       "      <td>33</td>\n",
       "      <td>52.46.72.50</td>\n",
       "      <td>4</td>\n",
       "      <td>52.46.72.50</td>\n",
       "      <td>192.168.0.101</td>\n",
       "      <td>ICMP</td>\n",
       "      <td>232.0</td>\n",
       "      <td>64</td>\n",
       "      <td>...</td>\n",
       "      <td>1673864074</td>\n",
       "      <td>Ping</td>\n",
       "      <td>102.34.0.4</td>\n",
       "      <td>ping</td>\n",
       "      <td>48819905</td>\n",
       "      <td>300</td>\n",
       "      <td>1673864205</td>\n",
       "      <td>ug1</td>\n",
       "      <td>2023-01-16 11:14:34</td>\n",
       "      <td>Uganda</td>\n",
       "    </tr>\n",
       "  </tbody>\n",
       "</table>\n",
       "<p>5 rows × 29 columns</p>\n",
       "</div>"
      ],
      "text/plain": [
       "     fw   mver  lts     dst_name  af     dst_addr        src_addr proto  \\\n",
       "0  5040  2.4.1   14  52.46.72.50   4  52.46.72.50   10.18.246.209  ICMP   \n",
       "1  5040  2.4.1   20  52.46.72.50   4  52.46.72.50     10.109.0.30  ICMP   \n",
       "2  5080  2.6.2   96  52.46.72.50   4  52.46.72.50  192.168.250.65  ICMP   \n",
       "3  5080  2.6.2   12  52.46.72.50   4  52.46.72.50    192.168.1.38  ICMP   \n",
       "4  5080  2.6.2   33  52.46.72.50   4  52.46.72.50   192.168.0.101  ICMP   \n",
       "\n",
       "     ttl  size  ...   timestamp  msm_name            from  type  group_id  \\\n",
       "0  234.0    64  ...  1673864005      Ping      51.15.99.8  ping  48819905   \n",
       "1  233.0    64  ...  1673864003      Ping   45.137.88.145  ping  48819905   \n",
       "2  233.0    64  ...  1673863991      Ping  82.116.160.225  ping  48819905   \n",
       "3  234.0    64  ...  1673864019      Ping   83.54.157.101  ping  48819905   \n",
       "4  232.0    64  ...  1673864074      Ping      102.34.0.4  ping  48819905   \n",
       "\n",
       "   step  stored_timestamp  nprb_id            new_time  country_name  \n",
       "0   300        1673864050      nl1 2023-01-16 11:13:25   Netherlands  \n",
       "1   300        1673864114      nl3 2023-01-16 11:13:23   Netherlands  \n",
       "2   300        1673864089      es3 2023-01-16 11:13:11         Spain  \n",
       "3   300        1673864090      es2 2023-01-16 11:13:39         Spain  \n",
       "4   300        1673864205      ug1 2023-01-16 11:14:34        Uganda  \n",
       "\n",
       "[5 rows x 29 columns]"
      ]
     },
     "execution_count": 12,
     "metadata": {},
     "output_type": "execute_result"
    }
   ],
   "source": [
    "result_df.head()"
   ]
  },
  {
   "cell_type": "markdown",
   "metadata": {},
   "source": [
    "------------------------------\n",
    "\n",
    "We have already cleaned and structured our data. Now, it's time to analyze and extract valuable information from it. "
   ]
  },
  {
   "cell_type": "markdown",
   "metadata": {},
   "source": [
    "------------------------------\n",
    "------------------------------\n",
    "------------------------------\n",
    "\n",
    "### B) ANALYZING YOUR MEASUREMENTS \n",
    "\n",
    "We split this\n",
    "\n",
    "1. Check how latency varies over time, how mean and standard deviation vary over distance or any other interesting scenarios you can come up with \n",
    "2. Finally you can do some predictions based using established mathematical models or machine learning models and see what gives you best results.  "
   ]
  },
  {
   "cell_type": "markdown",
   "metadata": {},
   "source": [
    "### a) Understanding the data\n",
    "The first step is to take a look at the data we have and try to obtain insights that can help us with the later analysis.\n",
    "\n",
    "Let us first check what is the probability distribution of the latency for the whole dataset."
   ]
  },
  {
   "cell_type": "markdown",
   "metadata": {},
   "source": [
    "For that, we plot the discrete PDF based on the histogram of the data."
   ]
  },
  {
   "cell_type": "code",
   "execution_count": 13,
   "metadata": {},
   "outputs": [
    {
     "data": {
      "text/plain": [
       "Text(0.5, 0, 'Latency (ms)')"
      ]
     },
     "execution_count": 13,
     "metadata": {},
     "output_type": "execute_result"
    },
    {
     "data": {
      "image/png": "[encoded data removed]",
      "text/plain": [
       "<Figure size 640x480 with 1 Axes>"
      ]
     },
     "metadata": {},
     "output_type": "display_data"
    }
   ],
   "source": [
    "# Computing the discrete PDF from the histogram\n",
    "\n",
    "axx = result_df['avg'].hist(density=True, bins=100, alpha = 0.8) \n",
    "# bins = Number of points in the histogram.\n",
    "# alpha = a parameter for color transparency\n",
    "\n",
    "# We can add information into the graph\n",
    "axx.set_ylabel(\"Probability Density Function\")\n",
    "axx.set_xlabel(\"Latency (ms)\")"
   ]
  },
  {
   "cell_type": "markdown",
   "metadata": {},
   "source": [
    "We realize that the shape is quite curious, with several peaks, looking like a decreasing wave. \n",
    "\n",
    "**What can be the reason?**<br>\n",
    "\n",
    "**Please, take a moment to think about it and comment in group what you think about the graph above**<br> \n",
    "\n",
    "Don't continue further down until you took your time to talk about it.\n",
    "\n",
    "---------------------------------------------------------------\n",
    "\n",
    "**... \n",
    "<br><br>\n",
    "...\n",
    "<br><br>\n",
    "...\n",
    "<br><br>\n",
    "...\n",
    "<br><br>\n",
    "...\n",
    "<br><br>\n",
    "...\n",
    "<br><br>**"
   ]
  },
  {
   "cell_type": "markdown",
   "metadata": {},
   "source": [
    "Have you already thought about it? Let us see if we can dive a bit deeper into the data."
   ]
  },
  {
   "cell_type": "markdown",
   "metadata": {},
   "source": [
    "Let us consider now some of the information we have to try to get more insights.<br>\n",
    "\n",
    "First, let us check what is the PDF for the data originated in each probe, separately.\n"
   ]
  },
  {
   "cell_type": "code",
   "execution_count": 14,
   "metadata": {},
   "outputs": [
    {
     "data": {
      "text/plain": [
       "Text(0.5, 0, 'Latency (ms)')"
      ]
     },
     "execution_count": 14,
     "metadata": {},
     "output_type": "execute_result"
    },
    {
     "data": {
      "image/png": "[encoded data removed]",
      "text/plain": [
       "<Figure size 640x480 with 1 Axes>"
      ]
     },
     "metadata": {},
     "output_type": "display_data"
    }
   ],
   "source": [
    "## checking PDF for each of the probes\n",
    "\n",
    "# First, we recover the array of probe IDs. These IDs are identifiers used for RIPE Atlas, the measurements platform. \n",
    "probes = [1004991,53229,20757,1004200,1003454,1003747,1004102,51381,54470,1002914]\n",
    "         \n",
    "# We extract the data corresponding to each probe, and plot it separately but in the same plot\n",
    "for probe in probes:\n",
    "    df_cdf = result_df[(result_df['prb_id'] == probe)]  # Get the data that corresponds to one probe\n",
    "    axx = df_cdf['avg'].hist(density=True, bins=100, alpha = 0.3) # Draw the histogram\n",
    "\n",
    "# We add the probe IDs as legend\n",
    "axx.legend(probes)\n",
    "axx.set_xlabel(\"Latency (ms)\")"
   ]
  },
  {
   "cell_type": "markdown",
   "metadata": {},
   "source": [
    "What can we observe?<br>\n",
    "\n",
    "**Any ideas??**<br>\n",
    "\n",
    "\n",
    "Take a moment to propose ideas before continuing. \n",
    "<br>\n",
    "\n",
    "---------------------------------------------------------------\n",
    "\n",
    "**... \n",
    "<br><br>\n",
    "...\n",
    "<br><br>\n",
    "...\n",
    "<br><br>\n",
    "...\n",
    "<br><br>\n",
    "...\n",
    "<br><br>\n",
    "...\n",
    "<br><br>**"
   ]
  },
  {
   "cell_type": "markdown",
   "metadata": {},
   "source": [
    "(...)\n",
    "\n",
    "\n",
    " \n",
    "<br><br>\n",
    "\n",
    "<br><br>\n",
    "\n",
    "<br><br>\n",
    "\n",
    "<br><br>\n",
    "\n",
    "<br><br>\n",
    "\n",
    "<br><br>\n"
   ]
  },
  {
   "cell_type": "markdown",
   "metadata": {},
   "source": [
    "So, it seems that there are some probes that are easily differentiable from the rest of the probes.\n",
    "But that plot shows us little information about **why**.\n",
    "\n",
    "Also, the probe IDs is not a very meaningful value. We can use the attibute that we have previously added identifying probes with the country where they are located. Let us know plot the same graph with the new ID."
   ]
  },
  {
   "cell_type": "code",
   "execution_count": 15,
   "metadata": {},
   "outputs": [
    {
     "data": {
      "text/plain": [
       "Text(0.5, 0, 'Latency (ms)')"
      ]
     },
     "execution_count": 15,
     "metadata": {},
     "output_type": "execute_result"
    },
    {
     "data": {
      "image/png": "[encoded data removed]",
      "text/plain": [
       "<Figure size 640x480 with 1 Axes>"
      ]
     },
     "metadata": {},
     "output_type": "display_data"
    }
   ],
   "source": [
    "## checking PDF for each of the probes\n",
    "\n",
    "# First, we recover the array of probe IDs\n",
    "probes = ['es1','es2','es3','es4','nl1','nl3','pt2','ug1','us1','us2']\n",
    "         \n",
    "# We extract the data corresponding to each probe, and plot it separately but in the same plot\n",
    "for probe in probes:\n",
    "    df_cdf = result_df[(result_df['nprb_id'] == probe)] # Get the data that corresponds to one probe\n",
    "    axx = df_cdf['avg'].hist(density=True, bins=100, alpha = 0.3) # Draw the histogram\n",
    "\n",
    "# We add the probe IDs as legend\n",
    "axx.legend(probes)\n",
    "axx.set_xlabel(\"Latency (ms)\")"
   ]
  },
  {
   "cell_type": "markdown",
   "metadata": {},
   "source": [
    "It is clear that the country of location have an important impact. In order to better verify it, we can show the results aggregated by country. Let us see what is the outcome of this visualization."
   ]
  },
  {
   "cell_type": "code",
   "execution_count": 16,
   "metadata": {},
   "outputs": [
    {
     "data": {
      "text/plain": [
       "Text(0.5, 0, 'Latency (ms)')"
      ]
     },
     "execution_count": 16,
     "metadata": {},
     "output_type": "execute_result"
    },
    {
     "data": {
      "image/png": "[encoded data removed]",
      "text/plain": [
       "<Figure size 640x480 with 1 Axes>"
      ]
     },
     "metadata": {},
     "output_type": "display_data"
    }
   ],
   "source": [
    "## Obtaining PDF per country\n",
    "\n",
    "# Retrieving list of countries from the data\n",
    "countries = result_df['country_name'].unique()\n",
    "\n",
    "for country in countries:\n",
    "    df_pdf = result_df[(result_df['country_name'] == country)] # Get the data that corresponds to one country\n",
    "    axx = df_pdf['avg'].hist(density=True, bins=100, alpha = 0.3) # Draw the histogram \n",
    "\n",
    "axx.legend(countries)\n",
    "axx.set_xlabel(\"Latency (ms)\")"
   ]
  },
  {
   "cell_type": "markdown",
   "metadata": {},
   "source": [
    "Now we see more clearly that **location matters** for latency and internet. This, which is expected by all of us, it is not necessary true if we do not corroborate it with data. \n",
    "\n",
    "More in detail, Portugal and Spain obtain the same performance, as they are next to each other and the servers are located in further places such us Netherlads, U.S., and other countries. \n",
    "\n",
    "This results showcases the fact that, if we want to know whether some edge-cutting application can be deployed in a certain place, we need to first make sure that the network has a sufficiently good performance to actually allow for the service to work.\n",
    "\n",
    "In the following, we advance a bit deeper on the characterization of the data. \n"
   ]
  },
  {
   "cell_type": "markdown",
   "metadata": {},
   "source": [
    "-----------------------------------"
   ]
  },
  {
   "cell_type": "markdown",
   "metadata": {},
   "source": [
    "One crucial value to understand the latency values is to know where each of the probes and destinations are located. \n",
    "\n",
    "For that, we now obtain the coordinates of all the devices (sources and destinations) participating in the experiment, and we include it in the DataFrame object. "
   ]
  },
  {
   "cell_type": "code",
   "execution_count": 17,
   "metadata": {},
   "outputs": [],
   "source": [
    "## Obtaining geographical information of the probes \n",
    "\n",
    "# Import the package needed to format the metadata of RIPE's probes.\n",
    "from ripe.atlas.cousteau import Probe \n",
    "\n",
    "#Getting all the ripe atlas probes\n",
    "probe_id_list = result_df['prb_id'].unique()\n",
    "probe_nid_list = result_df['nprb_id'].unique()\n",
    "\n",
    "# Collect the source probe latitude/longitude information from ripe atlas \n",
    "probe_coordinates = []\n",
    "probe_country = []\n",
    "\n",
    "for id_i in probe_id_list: # for each one of the probes:\n",
    "    probe = Probe(id=id_i) # Obtains all metadata of probe id_i\n",
    "    #print(probe.geometry) #probe.geometry is a GeoJSON https://en.wikipedia.org/wiki/GeoJSON\n",
    "    probe_coordinates.append(probe.geometry['coordinates']) # saving the coordinates to the list of coordinates\n",
    "    probe_country.append(probe.country_code)\n",
    "\n"
   ]
  },
  {
   "cell_type": "markdown",
   "metadata": {},
   "source": [
    "We now have a list with the information of coordinates for each of the probes. Next, we tranform it into latitude and longitude, and we add the country in which they are located. "
   ]
  },
  {
   "cell_type": "code",
   "execution_count": 18,
   "metadata": {},
   "outputs": [
    {
     "data": {
      "text/html": [
       "<div>\n",
       "<style scoped>\n",
       "    .dataframe tbody tr th:only-of-type {\n",
       "        vertical-align: middle;\n",
       "    }\n",
       "\n",
       "    .dataframe tbody tr th {\n",
       "        vertical-align: top;\n",
       "    }\n",
       "\n",
       "    .dataframe thead th {\n",
       "        text-align: right;\n",
       "    }\n",
       "</style>\n",
       "<table border=\"1\" class=\"dataframe\">\n",
       "  <thead>\n",
       "    <tr style=\"text-align: right;\">\n",
       "      <th></th>\n",
       "      <th>prb_id</th>\n",
       "      <th>longitude</th>\n",
       "      <th>latitude</th>\n",
       "      <th>probe_country</th>\n",
       "    </tr>\n",
       "  </thead>\n",
       "  <tbody>\n",
       "    <tr>\n",
       "      <th>0</th>\n",
       "      <td>nl1</td>\n",
       "      <td>4.8995</td>\n",
       "      <td>52.3695</td>\n",
       "      <td>NL</td>\n",
       "    </tr>\n",
       "    <tr>\n",
       "      <th>1</th>\n",
       "      <td>nl3</td>\n",
       "      <td>4.3695</td>\n",
       "      <td>51.8505</td>\n",
       "      <td>NL</td>\n",
       "    </tr>\n",
       "    <tr>\n",
       "      <th>2</th>\n",
       "      <td>es3</td>\n",
       "      <td>-1.9805</td>\n",
       "      <td>43.2905</td>\n",
       "      <td>ES</td>\n",
       "    </tr>\n",
       "    <tr>\n",
       "      <th>3</th>\n",
       "      <td>es2</td>\n",
       "      <td>-5.5915</td>\n",
       "      <td>42.6115</td>\n",
       "      <td>ES</td>\n",
       "    </tr>\n",
       "    <tr>\n",
       "      <th>4</th>\n",
       "      <td>ug1</td>\n",
       "      <td>32.5615</td>\n",
       "      <td>0.2575</td>\n",
       "      <td>UG</td>\n",
       "    </tr>\n",
       "    <tr>\n",
       "      <th>5</th>\n",
       "      <td>us1</td>\n",
       "      <td>-122.0795</td>\n",
       "      <td>37.3875</td>\n",
       "      <td>US</td>\n",
       "    </tr>\n",
       "    <tr>\n",
       "      <th>6</th>\n",
       "      <td>us2</td>\n",
       "      <td>-73.9625</td>\n",
       "      <td>40.6495</td>\n",
       "      <td>US</td>\n",
       "    </tr>\n",
       "    <tr>\n",
       "      <th>7</th>\n",
       "      <td>pt2</td>\n",
       "      <td>-8.6225</td>\n",
       "      <td>41.2285</td>\n",
       "      <td>PT</td>\n",
       "    </tr>\n",
       "    <tr>\n",
       "      <th>8</th>\n",
       "      <td>es4</td>\n",
       "      <td>-15.5025</td>\n",
       "      <td>28.0275</td>\n",
       "      <td>ES</td>\n",
       "    </tr>\n",
       "    <tr>\n",
       "      <th>9</th>\n",
       "      <td>es1</td>\n",
       "      <td>-0.9085</td>\n",
       "      <td>41.5975</td>\n",
       "      <td>ES</td>\n",
       "    </tr>\n",
       "  </tbody>\n",
       "</table>\n",
       "</div>"
      ],
      "text/plain": [
       "  prb_id  longitude  latitude probe_country\n",
       "0    nl1     4.8995   52.3695            NL\n",
       "1    nl3     4.3695   51.8505            NL\n",
       "2    es3    -1.9805   43.2905            ES\n",
       "3    es2    -5.5915   42.6115            ES\n",
       "4    ug1    32.5615    0.2575            UG\n",
       "5    us1  -122.0795   37.3875            US\n",
       "6    us2   -73.9625   40.6495            US\n",
       "7    pt2    -8.6225   41.2285            PT\n",
       "8    es4   -15.5025   28.0275            ES\n",
       "9    es1    -0.9085   41.5975            ES"
      ]
     },
     "execution_count": 18,
     "metadata": {},
     "output_type": "execute_result"
    }
   ],
   "source": [
    "longitude = []\n",
    "latitude = []\n",
    "\n",
    "for i in probe_coordinates:\n",
    "    longitude.append(i[0])\n",
    "    latitude.append(i[1])\n",
    "\n",
    "# create a probe metadata dataframe\n",
    "srcprobes_df = pd.DataFrame({'prb_id': probe_nid_list,'longitude': longitude, 'latitude': latitude,'probe_country': probe_country})\n",
    "srcprobes_df"
   ]
  },
  {
   "cell_type": "markdown",
   "metadata": {},
   "source": [
    "We have done this for the probes (source nodes). We can repeat the procedure for the destination addresses."
   ]
  },
  {
   "cell_type": "code",
   "execution_count": 19,
   "metadata": {},
   "outputs": [
    {
     "data": {
      "text/html": [
       "<div>\n",
       "<style scoped>\n",
       "    .dataframe tbody tr th:only-of-type {\n",
       "        vertical-align: middle;\n",
       "    }\n",
       "\n",
       "    .dataframe tbody tr th {\n",
       "        vertical-align: top;\n",
       "    }\n",
       "\n",
       "    .dataframe thead th {\n",
       "        text-align: right;\n",
       "    }\n",
       "</style>\n",
       "<table border=\"1\" class=\"dataframe\">\n",
       "  <thead>\n",
       "    <tr style=\"text-align: right;\">\n",
       "      <th></th>\n",
       "      <th>Server_ip</th>\n",
       "      <th>latitude</th>\n",
       "      <th>longitude</th>\n",
       "    </tr>\n",
       "  </thead>\n",
       "  <tbody>\n",
       "    <tr>\n",
       "      <th>0</th>\n",
       "      <td>52.46.72.50</td>\n",
       "      <td>48.8534</td>\n",
       "      <td>2.3488</td>\n",
       "    </tr>\n",
       "    <tr>\n",
       "      <th>1</th>\n",
       "      <td>54.239.55.167</td>\n",
       "      <td>50.1155</td>\n",
       "      <td>8.6842</td>\n",
       "    </tr>\n",
       "    <tr>\n",
       "      <th>2</th>\n",
       "      <td>67.220.226.67</td>\n",
       "      <td>53.3331</td>\n",
       "      <td>-6.2489</td>\n",
       "    </tr>\n",
       "  </tbody>\n",
       "</table>\n",
       "</div>"
      ],
      "text/plain": [
       "       Server_ip latitude longitude\n",
       "0    52.46.72.50  48.8534    2.3488\n",
       "1  54.239.55.167  50.1155    8.6842\n",
       "2  67.220.226.67  53.3331   -6.2489"
      ]
     },
     "execution_count": 19,
     "metadata": {},
     "output_type": "execute_result"
    }
   ],
   "source": [
    "## Obtaining geographical information of the destinations \n",
    "\n",
    "#Getting all the destination ip addresses\n",
    "dest_ip_list = result_df['dst_addr'].unique()\n",
    "\n",
    "# Create empty lists to store the data\n",
    "server_ip = []\n",
    "latitudes = []\n",
    "longitudes = []\n",
    "\n",
    "# Query the \"ipinfo.io\" API for geolocation information\n",
    "for ip in dest_ip_list:\n",
    "    response = requests.get(f'https://ipinfo.io/{ip}/json')\n",
    "    if response.status_code == 200:\n",
    "        data = response.json()\n",
    "        latitude, longitude = data.get('loc', '').split(',')\n",
    "        server_ip.append(ip)\n",
    "        latitudes.append(latitude)\n",
    "        longitudes.append(longitude)\n",
    "\n",
    "# Create a dataframe with the geophraphical information of the destinatiuon addresses. Remember that this infomation is approximate for privacy reasons\n",
    "a_server_df = pd.DataFrame({ 'Server_ip': server_ip,'latitude': latitudes, 'longitude': longitudes})\n",
    "a_server_df"
   ]
  },
  {
   "cell_type": "markdown",
   "metadata": {},
   "source": [
    "We have now all the information regarding the location of the addresses participating in the experiment. Thus, we can now calculate the distance between sources and destinations. "
   ]
  },
  {
   "cell_type": "code",
   "execution_count": 29,
   "metadata": {},
   "outputs": [],
   "source": [
    "## Obtaining the distance between nodes. \n",
    "\n",
    "# We first define the function that computes the Euclidean distance between two points\n",
    "distance_data = []\n",
    "def euclidean_distance(lat1, lon1, lat2, lon2):\n",
    "    # Convert latitude and longitude from degrees to radians\n",
    "    return np.sqrt((lat1 - lat2)**2 + (lon1 - lon2)**2)\n",
    "\n",
    "# Create an empty dataframe to store distance information\n",
    "distance_df = pd.DataFrame(columns=['prb_id', 'ip_address', 'distance'])\n",
    "\n",
    "# Calculate Euclidean distances between all probes and destination addresses\n",
    "for index_probe, row_probe in srcprobes_df.iterrows():\n",
    "    for index_dst, row_dst in a_server_df.iterrows():\n",
    "        distance = euclidean_distance(float(row_probe['latitude']), float(row_probe['longitude']), float(row_dst['latitude']), float(row_dst['longitude']))\n",
    "        distance_data.append({\n",
    "            'nprb_id': row_probe['prb_id'],\n",
    "            'dst_addr': row_dst['Server_ip'],\n",
    "            'distance': distance})\n",
    "        \n",
    "# Create a DataFrame from the list of distance information\n",
    "distance_df = pd.DataFrame(distance_data)\n"
   ]
  },
  {
   "cell_type": "markdown",
   "metadata": {},
   "source": [
    "We can show the distance between all probes and destinations as follows: "
   ]
  },
  {
   "cell_type": "code",
   "execution_count": 30,
   "metadata": {},
   "outputs": [
    {
     "data": {
      "text/html": [
       "<div>\n",
       "<style scoped>\n",
       "    .dataframe tbody tr th:only-of-type {\n",
       "        vertical-align: middle;\n",
       "    }\n",
       "\n",
       "    .dataframe tbody tr th {\n",
       "        vertical-align: top;\n",
       "    }\n",
       "\n",
       "    .dataframe thead th {\n",
       "        text-align: right;\n",
       "    }\n",
       "</style>\n",
       "<table border=\"1\" class=\"dataframe\">\n",
       "  <thead>\n",
       "    <tr style=\"text-align: right;\">\n",
       "      <th></th>\n",
       "      <th>nprb_id</th>\n",
       "      <th>dst_addr</th>\n",
       "      <th>distance</th>\n",
       "    </tr>\n",
       "  </thead>\n",
       "  <tbody>\n",
       "    <tr>\n",
       "      <th>0</th>\n",
       "      <td>nl1</td>\n",
       "      <td>52.46.72.50</td>\n",
       "      <td>4.343850</td>\n",
       "    </tr>\n",
       "    <tr>\n",
       "      <th>1</th>\n",
       "      <td>nl1</td>\n",
       "      <td>54.239.55.167</td>\n",
       "      <td>4.405051</td>\n",
       "    </tr>\n",
       "    <tr>\n",
       "      <th>2</th>\n",
       "      <td>nl1</td>\n",
       "      <td>67.220.226.67</td>\n",
       "      <td>11.189966</td>\n",
       "    </tr>\n",
       "    <tr>\n",
       "      <th>3</th>\n",
       "      <td>nl3</td>\n",
       "      <td>52.46.72.50</td>\n",
       "      <td>3.614670</td>\n",
       "    </tr>\n",
       "    <tr>\n",
       "      <th>4</th>\n",
       "      <td>nl3</td>\n",
       "      <td>54.239.55.167</td>\n",
       "      <td>4.650469</td>\n",
       "    </tr>\n",
       "    <tr>\n",
       "      <th>5</th>\n",
       "      <td>nl3</td>\n",
       "      <td>67.220.226.67</td>\n",
       "      <td>10.721405</td>\n",
       "    </tr>\n",
       "    <tr>\n",
       "      <th>6</th>\n",
       "      <td>es3</td>\n",
       "      <td>52.46.72.50</td>\n",
       "      <td>7.049021</td>\n",
       "    </tr>\n",
       "    <tr>\n",
       "      <th>7</th>\n",
       "      <td>es3</td>\n",
       "      <td>54.239.55.167</td>\n",
       "      <td>12.661613</td>\n",
       "    </tr>\n",
       "    <tr>\n",
       "      <th>8</th>\n",
       "      <td>es3</td>\n",
       "      <td>67.220.226.67</td>\n",
       "      <td>10.912060</td>\n",
       "    </tr>\n",
       "    <tr>\n",
       "      <th>9</th>\n",
       "      <td>es2</td>\n",
       "      <td>52.46.72.50</td>\n",
       "      <td>10.099984</td>\n",
       "    </tr>\n",
       "    <tr>\n",
       "      <th>10</th>\n",
       "      <td>es2</td>\n",
       "      <td>54.239.55.167</td>\n",
       "      <td>16.127791</td>\n",
       "    </tr>\n",
       "    <tr>\n",
       "      <th>11</th>\n",
       "      <td>es2</td>\n",
       "      <td>67.220.226.67</td>\n",
       "      <td>10.741735</td>\n",
       "    </tr>\n",
       "    <tr>\n",
       "      <th>12</th>\n",
       "      <td>ug1</td>\n",
       "      <td>52.46.72.50</td>\n",
       "      <td>57.222100</td>\n",
       "    </tr>\n",
       "    <tr>\n",
       "      <th>13</th>\n",
       "      <td>ug1</td>\n",
       "      <td>54.239.55.167</td>\n",
       "      <td>55.280608</td>\n",
       "    </tr>\n",
       "    <tr>\n",
       "      <th>14</th>\n",
       "      <td>ug1</td>\n",
       "      <td>67.220.226.67</td>\n",
       "      <td>65.751551</td>\n",
       "    </tr>\n",
       "    <tr>\n",
       "      <th>15</th>\n",
       "      <td>us1</td>\n",
       "      <td>52.46.72.50</td>\n",
       "      <td>124.955467</td>\n",
       "    </tr>\n",
       "    <tr>\n",
       "      <th>16</th>\n",
       "      <td>us1</td>\n",
       "      <td>54.239.55.167</td>\n",
       "      <td>131.381685</td>\n",
       "    </tr>\n",
       "    <tr>\n",
       "      <th>17</th>\n",
       "      <td>us1</td>\n",
       "      <td>67.220.226.67</td>\n",
       "      <td>116.923009</td>\n",
       "    </tr>\n",
       "    <tr>\n",
       "      <th>18</th>\n",
       "      <td>us2</td>\n",
       "      <td>52.46.72.50</td>\n",
       "      <td>76.751016</td>\n",
       "    </tr>\n",
       "    <tr>\n",
       "      <th>19</th>\n",
       "      <td>us2</td>\n",
       "      <td>54.239.55.167</td>\n",
       "      <td>83.187031</td>\n",
       "    </tr>\n",
       "    <tr>\n",
       "      <th>20</th>\n",
       "      <td>us2</td>\n",
       "      <td>67.220.226.67</td>\n",
       "      <td>68.891257</td>\n",
       "    </tr>\n",
       "    <tr>\n",
       "      <th>21</th>\n",
       "      <td>pt2</td>\n",
       "      <td>52.46.72.50</td>\n",
       "      <td>13.360708</td>\n",
       "    </tr>\n",
       "    <tr>\n",
       "      <th>22</th>\n",
       "      <td>pt2</td>\n",
       "      <td>54.239.55.167</td>\n",
       "      <td>19.455093</td>\n",
       "    </tr>\n",
       "    <tr>\n",
       "      <th>23</th>\n",
       "      <td>pt2</td>\n",
       "      <td>67.220.226.67</td>\n",
       "      <td>12.335125</td>\n",
       "    </tr>\n",
       "    <tr>\n",
       "      <th>24</th>\n",
       "      <td>es4</td>\n",
       "      <td>52.46.72.50</td>\n",
       "      <td>27.429674</td>\n",
       "    </tr>\n",
       "    <tr>\n",
       "      <th>25</th>\n",
       "      <td>es4</td>\n",
       "      <td>54.239.55.167</td>\n",
       "      <td>32.754789</td>\n",
       "    </tr>\n",
       "    <tr>\n",
       "      <th>26</th>\n",
       "      <td>es4</td>\n",
       "      <td>67.220.226.67</td>\n",
       "      <td>26.944434</td>\n",
       "    </tr>\n",
       "    <tr>\n",
       "      <th>27</th>\n",
       "      <td>es1</td>\n",
       "      <td>52.46.72.50</td>\n",
       "      <td>7.953495</td>\n",
       "    </tr>\n",
       "    <tr>\n",
       "      <th>28</th>\n",
       "      <td>es1</td>\n",
       "      <td>54.239.55.167</td>\n",
       "      <td>12.828726</td>\n",
       "    </tr>\n",
       "    <tr>\n",
       "      <th>29</th>\n",
       "      <td>es1</td>\n",
       "      <td>67.220.226.67</td>\n",
       "      <td>12.893571</td>\n",
       "    </tr>\n",
       "  </tbody>\n",
       "</table>\n",
       "</div>"
      ],
      "text/plain": [
       "   nprb_id       dst_addr    distance\n",
       "0      nl1    52.46.72.50    4.343850\n",
       "1      nl1  54.239.55.167    4.405051\n",
       "2      nl1  67.220.226.67   11.189966\n",
       "3      nl3    52.46.72.50    3.614670\n",
       "4      nl3  54.239.55.167    4.650469\n",
       "5      nl3  67.220.226.67   10.721405\n",
       "6      es3    52.46.72.50    7.049021\n",
       "7      es3  54.239.55.167   12.661613\n",
       "8      es3  67.220.226.67   10.912060\n",
       "9      es2    52.46.72.50   10.099984\n",
       "10     es2  54.239.55.167   16.127791\n",
       "11     es2  67.220.226.67   10.741735\n",
       "12     ug1    52.46.72.50   57.222100\n",
       "13     ug1  54.239.55.167   55.280608\n",
       "14     ug1  67.220.226.67   65.751551\n",
       "15     us1    52.46.72.50  124.955467\n",
       "16     us1  54.239.55.167  131.381685\n",
       "17     us1  67.220.226.67  116.923009\n",
       "18     us2    52.46.72.50   76.751016\n",
       "19     us2  54.239.55.167   83.187031\n",
       "20     us2  67.220.226.67   68.891257\n",
       "21     pt2    52.46.72.50   13.360708\n",
       "22     pt2  54.239.55.167   19.455093\n",
       "23     pt2  67.220.226.67   12.335125\n",
       "24     es4    52.46.72.50   27.429674\n",
       "25     es4  54.239.55.167   32.754789\n",
       "26     es4  67.220.226.67   26.944434\n",
       "27     es1    52.46.72.50    7.953495\n",
       "28     es1  54.239.55.167   12.828726\n",
       "29     es1  67.220.226.67   12.893571"
      ]
     },
     "execution_count": 30,
     "metadata": {},
     "output_type": "execute_result"
    }
   ],
   "source": [
    "distance_df"
   ]
  },
  {
   "cell_type": "markdown",
   "metadata": {},
   "source": [
    "We now add this information to our general DataFrame."
   ]
  },
  {
   "cell_type": "code",
   "execution_count": 33,
   "metadata": {},
   "outputs": [],
   "source": [
    "# Adding the distance data to the result_df.\n",
    "# For that, for each of the points that have the same ['nprb_id', 'dst_addr'] tuple, we add the field of distance between those nodes. \n",
    "analysis_df  = pd.merge(result_df,distance_df, left_on=['nprb_id', 'dst_addr'], right_on=['nprb_id', 'dst_addr'], how='inner')\n"
   ]
  },
  {
   "cell_type": "markdown",
   "metadata": {},
   "source": [
    "We can visualize the first 5 rows to check that the value is there. "
   ]
  },
  {
   "cell_type": "code",
   "execution_count": 34,
   "metadata": {},
   "outputs": [
    {
     "data": {
      "text/html": [
       "<div>\n",
       "<style scoped>\n",
       "    .dataframe tbody tr th:only-of-type {\n",
       "        vertical-align: middle;\n",
       "    }\n",
       "\n",
       "    .dataframe tbody tr th {\n",
       "        vertical-align: top;\n",
       "    }\n",
       "\n",
       "    .dataframe thead th {\n",
       "        text-align: right;\n",
       "    }\n",
       "</style>\n",
       "<table border=\"1\" class=\"dataframe\">\n",
       "  <thead>\n",
       "    <tr style=\"text-align: right;\">\n",
       "      <th></th>\n",
       "      <th>fw</th>\n",
       "      <th>mver</th>\n",
       "      <th>lts</th>\n",
       "      <th>dst_name</th>\n",
       "      <th>af</th>\n",
       "      <th>dst_addr</th>\n",
       "      <th>src_addr</th>\n",
       "      <th>proto</th>\n",
       "      <th>ttl</th>\n",
       "      <th>size</th>\n",
       "      <th>...</th>\n",
       "      <th>msm_name</th>\n",
       "      <th>from</th>\n",
       "      <th>type</th>\n",
       "      <th>group_id</th>\n",
       "      <th>step</th>\n",
       "      <th>stored_timestamp</th>\n",
       "      <th>nprb_id</th>\n",
       "      <th>new_time</th>\n",
       "      <th>country_name</th>\n",
       "      <th>distance</th>\n",
       "    </tr>\n",
       "  </thead>\n",
       "  <tbody>\n",
       "    <tr>\n",
       "      <th>0</th>\n",
       "      <td>5040</td>\n",
       "      <td>2.4.1</td>\n",
       "      <td>14</td>\n",
       "      <td>52.46.72.50</td>\n",
       "      <td>4</td>\n",
       "      <td>52.46.72.50</td>\n",
       "      <td>10.18.246.209</td>\n",
       "      <td>ICMP</td>\n",
       "      <td>234.0</td>\n",
       "      <td>64</td>\n",
       "      <td>...</td>\n",
       "      <td>Ping</td>\n",
       "      <td>51.15.99.8</td>\n",
       "      <td>ping</td>\n",
       "      <td>48819905</td>\n",
       "      <td>300</td>\n",
       "      <td>1673864050</td>\n",
       "      <td>nl1</td>\n",
       "      <td>2023-01-16 11:13:25</td>\n",
       "      <td>Netherlands</td>\n",
       "      <td>4.34385</td>\n",
       "    </tr>\n",
       "    <tr>\n",
       "      <th>1</th>\n",
       "      <td>5040</td>\n",
       "      <td>2.4.1</td>\n",
       "      <td>16</td>\n",
       "      <td>52.46.72.50</td>\n",
       "      <td>4</td>\n",
       "      <td>52.46.72.50</td>\n",
       "      <td>10.18.246.209</td>\n",
       "      <td>ICMP</td>\n",
       "      <td>234.0</td>\n",
       "      <td>64</td>\n",
       "      <td>...</td>\n",
       "      <td>Ping</td>\n",
       "      <td>51.15.99.8</td>\n",
       "      <td>ping</td>\n",
       "      <td>48819905</td>\n",
       "      <td>300</td>\n",
       "      <td>1673864355</td>\n",
       "      <td>nl1</td>\n",
       "      <td>2023-01-16 11:18:34</td>\n",
       "      <td>Netherlands</td>\n",
       "      <td>4.34385</td>\n",
       "    </tr>\n",
       "    <tr>\n",
       "      <th>2</th>\n",
       "      <td>5040</td>\n",
       "      <td>2.4.1</td>\n",
       "      <td>2</td>\n",
       "      <td>52.46.72.50</td>\n",
       "      <td>4</td>\n",
       "      <td>52.46.72.50</td>\n",
       "      <td>10.18.246.209</td>\n",
       "      <td>ICMP</td>\n",
       "      <td>234.0</td>\n",
       "      <td>64</td>\n",
       "      <td>...</td>\n",
       "      <td>Ping</td>\n",
       "      <td>51.15.99.8</td>\n",
       "      <td>ping</td>\n",
       "      <td>48819905</td>\n",
       "      <td>300</td>\n",
       "      <td>1673864662</td>\n",
       "      <td>nl1</td>\n",
       "      <td>2023-01-16 11:23:26</td>\n",
       "      <td>Netherlands</td>\n",
       "      <td>4.34385</td>\n",
       "    </tr>\n",
       "    <tr>\n",
       "      <th>3</th>\n",
       "      <td>5040</td>\n",
       "      <td>2.4.1</td>\n",
       "      <td>14</td>\n",
       "      <td>52.46.72.50</td>\n",
       "      <td>4</td>\n",
       "      <td>52.46.72.50</td>\n",
       "      <td>10.18.246.209</td>\n",
       "      <td>ICMP</td>\n",
       "      <td>234.0</td>\n",
       "      <td>64</td>\n",
       "      <td>...</td>\n",
       "      <td>Ping</td>\n",
       "      <td>51.15.99.8</td>\n",
       "      <td>ping</td>\n",
       "      <td>48819905</td>\n",
       "      <td>300</td>\n",
       "      <td>1673864959</td>\n",
       "      <td>nl1</td>\n",
       "      <td>2023-01-16 11:28:34</td>\n",
       "      <td>Netherlands</td>\n",
       "      <td>4.34385</td>\n",
       "    </tr>\n",
       "    <tr>\n",
       "      <th>4</th>\n",
       "      <td>5040</td>\n",
       "      <td>2.4.1</td>\n",
       "      <td>14</td>\n",
       "      <td>52.46.72.50</td>\n",
       "      <td>4</td>\n",
       "      <td>52.46.72.50</td>\n",
       "      <td>10.18.246.209</td>\n",
       "      <td>ICMP</td>\n",
       "      <td>234.0</td>\n",
       "      <td>64</td>\n",
       "      <td>...</td>\n",
       "      <td>Ping</td>\n",
       "      <td>51.15.99.8</td>\n",
       "      <td>ping</td>\n",
       "      <td>48819905</td>\n",
       "      <td>300</td>\n",
       "      <td>1673865254</td>\n",
       "      <td>nl1</td>\n",
       "      <td>2023-01-16 11:33:34</td>\n",
       "      <td>Netherlands</td>\n",
       "      <td>4.34385</td>\n",
       "    </tr>\n",
       "  </tbody>\n",
       "</table>\n",
       "<p>5 rows × 30 columns</p>\n",
       "</div>"
      ],
      "text/plain": [
       "     fw   mver  lts     dst_name  af     dst_addr       src_addr proto    ttl  \\\n",
       "0  5040  2.4.1   14  52.46.72.50   4  52.46.72.50  10.18.246.209  ICMP  234.0   \n",
       "1  5040  2.4.1   16  52.46.72.50   4  52.46.72.50  10.18.246.209  ICMP  234.0   \n",
       "2  5040  2.4.1    2  52.46.72.50   4  52.46.72.50  10.18.246.209  ICMP  234.0   \n",
       "3  5040  2.4.1   14  52.46.72.50   4  52.46.72.50  10.18.246.209  ICMP  234.0   \n",
       "4  5040  2.4.1   14  52.46.72.50   4  52.46.72.50  10.18.246.209  ICMP  234.0   \n",
       "\n",
       "   size  ... msm_name        from  type  group_id  step  stored_timestamp  \\\n",
       "0    64  ...     Ping  51.15.99.8  ping  48819905   300        1673864050   \n",
       "1    64  ...     Ping  51.15.99.8  ping  48819905   300        1673864355   \n",
       "2    64  ...     Ping  51.15.99.8  ping  48819905   300        1673864662   \n",
       "3    64  ...     Ping  51.15.99.8  ping  48819905   300        1673864959   \n",
       "4    64  ...     Ping  51.15.99.8  ping  48819905   300        1673865254   \n",
       "\n",
       "   nprb_id            new_time  country_name  distance  \n",
       "0      nl1 2023-01-16 11:13:25   Netherlands   4.34385  \n",
       "1      nl1 2023-01-16 11:18:34   Netherlands   4.34385  \n",
       "2      nl1 2023-01-16 11:23:26   Netherlands   4.34385  \n",
       "3      nl1 2023-01-16 11:28:34   Netherlands   4.34385  \n",
       "4      nl1 2023-01-16 11:33:34   Netherlands   4.34385  \n",
       "\n",
       "[5 rows x 30 columns]"
      ]
     },
     "execution_count": 34,
     "metadata": {},
     "output_type": "execute_result"
    }
   ],
   "source": [
    "analysis_df.head()"
   ]
  },
  {
   "cell_type": "markdown",
   "metadata": {},
   "source": [
    "------------------------------------\n",
    "\n",
    "### b) Predicting the data\n",
    "\n",
    "Now it is turn to see whether we can actually predict the latency on Internet!\n"
   ]
  },
  {
   "cell_type": "code",
   "execution_count": 56,
   "metadata": {},
   "outputs": [
    {
     "data": {
      "text/plain": [
       "6600.607397353303"
      ]
     },
     "execution_count": 56,
     "metadata": {},
     "output_type": "execute_result"
    }
   ],
   "source": [
    "# Applying some simple forecasting methods\n",
    "\n",
    "# Using the naive forecast\n",
    "result_df = result_df.assign(naive=df['avg'].shift(1))\n",
    "# Replace NaN at top of value column with 0\n",
    "result_df['naive'] = result_df['naive'].fillna(method='ffill').fillna(0)\n",
    "\n",
    "# Testing the prediction accuracy for naive forecast\n",
    "se = (result_df['avg'] - result_df['naive']) ** 2\n",
    "mse_naive = se.mean()\n",
    "mse_naive\n"
   ]
  },
  {
   "cell_type": "code",
   "execution_count": 57,
   "metadata": {},
   "outputs": [
    {
     "name": "stderr",
     "output_type": "stream",
     "text": [
      "C:\\Users\\anton\\anaconda3\\envs\\cloud\\lib\\site-packages\\statsmodels\\tsa\\base\\tsa_model.py:471: ValueWarning: An unsupported index was provided and will be ignored when e.g. forecasting.\n",
      "  self._init_dates(dates, freq)\n",
      "C:\\Users\\anton\\anaconda3\\envs\\cloud\\lib\\site-packages\\statsmodels\\tsa\\base\\tsa_model.py:471: ValueWarning: An unsupported index was provided and will be ignored when e.g. forecasting.\n",
      "  self._init_dates(dates, freq)\n"
     ]
    },
    {
     "data": {
      "text/plain": [
       "<AxesSubplot:title={'center':'Exponential Smoothing'}>"
      ]
     },
     "execution_count": 57,
     "metadata": {},
     "output_type": "execute_result"
    },
    {
     "data": {
      "image/png": "[encoded data removed]",
      "text/plain": [
       "<Figure size 640x480 with 1 Axes>"
      ]
     },
     "metadata": {},
     "output_type": "display_data"
    }
   ],
   "source": [
    "# Exponential smoothing method\n",
    "from statsmodels.tsa.api import SimpleExpSmoothing\n",
    "fit1 = SimpleExpSmoothing(result_df['avg']).fit()\n",
    "result_df['Simple-smoothing'] = SimpleExpSmoothing(result_df['avg']).fit().fittedvalues\n",
    "result_df[['avg','Simple-smoothing']].plot(title='Exponential Smoothing')"
   ]
  },
  {
   "cell_type": "code",
   "execution_count": 58,
   "metadata": {},
   "outputs": [
    {
     "data": {
      "text/plain": [
       "3718.827871934434"
      ]
     },
     "execution_count": 58,
     "metadata": {},
     "output_type": "execute_result"
    }
   ],
   "source": [
    "se = (result_df['avg'] - result_df['Simple-smoothing']) ** 2\n",
    "mse_esm = se.mean()\n",
    "mse_esm"
   ]
  },
  {
   "cell_type": "code",
   "execution_count": 23,
   "metadata": {},
   "outputs": [],
   "source": [
    "# Using the machine learning models\n",
    "# First we randomise the dataset and then split it into training and testing sets before applying the models\n",
    "\n",
    "# Randomising the dataset\n",
    "import itertools\n",
    "import random\n",
    "\n",
    "df2 = analysis_df.copy()\n",
    "\n",
    "test_indices = []\n",
    "train_indices = []\n",
    "        \n",
    "array1 = df2['nprb_id'].unique()\n",
    "array2 = df2['dst_addr'].unique()\n",
    "\n",
    "# Creating all possible pairs\n",
    "pairs = list(itertools.product(array1, array2))\n",
    "\n",
    "# Randomly selecting 10 pairs\n",
    "selected_pairs = random.sample(pairs, 10)\n",
    "\n",
    "# Removing selected pairs from the original list\n",
    "for pair in selected_pairs:\n",
    "    pairs.remove(pair)\n",
    "\n",
    "# Creating separate lists\n",
    "selected_list = selected_pairs\n",
    "remaining_list = pairs\n",
    "\n",
    "train_dfs = []\n",
    "for i,k in remaining_list:\n",
    "    temp_df = df2.loc[(df2['nprb_id'] == i) & (df2['dst_addr'] == k)]\n",
    "            \n",
    "    # Append the piece to the selected data\n",
    "    train_dfs.append(temp_df)\n",
    "\n",
    "train_df = pd.concat(train_dfs)\n",
    "        \n",
    "test_dfs = []\n",
    "for i,k in selected_list:\n",
    "    temp_df = df2.loc[(df2['nprb_id'] == i) & (df2['dst_addr'] == k)]\n",
    "            \n",
    "    # Append the piece to the selected data\n",
    "    test_dfs.append(temp_df)\n",
    "\n",
    "test_df = pd.concat(train_dfs)\n",
    "        "
   ]
  },
  {
   "cell_type": "code",
   "execution_count": 24,
   "metadata": {},
   "outputs": [],
   "source": [
    "#normalise the rtt values \n",
    "train_df['normalizzed_avg'] = (train_df['avg'] - train_df['avg'].mean()) / train_df['avg'].std()\n",
    "test_df['normalizzed_avg'] = (test_df['avg'] - test_df['avg'].mean()) / test_df['avg'].std()\n",
    "\n",
    "# normalize the 'distance' column\n",
    "test_df['normalizzed_distance'] = (test_df['distance'] - train_df['distance'].mean()) / train_df['distance'].mean()\n",
    "train_df['normalizzed_distance'] = (train_df['distance'] - train_df['distance'].mean()) / train_df['distance'].mean()"
   ]
  },
  {
   "cell_type": "code",
   "execution_count": 25,
   "metadata": {},
   "outputs": [
    {
     "name": "stdout",
     "output_type": "stream",
     "text": [
      "Mean Squared Error: 0.025426599955889376\n"
     ]
    }
   ],
   "source": [
    "# Select your features and target\n",
    "X_train = train_df['normalizzed_distance'].values.reshape(-1,1)\n",
    "y_train = train_df['normalizzed_avg'].values\n",
    "\n",
    "X_test = test_df['normalizzed_distance'].values.reshape(-1,1)\n",
    "y_test = test_df['normalizzed_avg'].values\n",
    "\n",
    "# Import the Machine learning libraries\n",
    "from sklearn.tree import DecisionTreeRegressor\n",
    "from sklearn.metrics import mean_squared_error\n",
    "\n",
    "# Create a Decision Tree Regressor\n",
    "model = DecisionTreeRegressor()\n",
    "# Train the model\n",
    "model.fit(X_train, y_train)\n",
    "# Make predictions on the testing set\n",
    "y_pred = model.predict(X_test)\n",
    "\n",
    "# Evaluate the accuracy of the model\n",
    "mse = mean_squared_error(y_test, y_pred)\n",
    "print(f\"Mean Squared Error: {mse}\")"
   ]
  },
  {
   "cell_type": "code",
   "execution_count": 26,
   "metadata": {},
   "outputs": [
    {
     "ename": "ModuleNotFoundError",
     "evalue": "No module named 'graphviz'",
     "output_type": "error",
     "traceback": [
      "\u001b[1;31m---------------------------------------------------------------------------\u001b[0m",
      "\u001b[1;31mModuleNotFoundError\u001b[0m                       Traceback (most recent call last)",
      "\u001b[1;32m~\\AppData\\Local\\Temp\\ipykernel_29060\\1666712695.py\u001b[0m in \u001b[0;36m<module>\u001b[1;34m\u001b[0m\n\u001b[0;32m      1\u001b[0m \u001b[1;31m# Viewing the Decision Tree\u001b[0m\u001b[1;33m\u001b[0m\u001b[1;33m\u001b[0m\u001b[0m\n\u001b[0;32m      2\u001b[0m \u001b[1;32mfrom\u001b[0m \u001b[0msklearn\u001b[0m\u001b[1;33m.\u001b[0m\u001b[0mtree\u001b[0m \u001b[1;32mimport\u001b[0m \u001b[0mexport_graphviz\u001b[0m\u001b[1;33m\u001b[0m\u001b[1;33m\u001b[0m\u001b[0m\n\u001b[1;32m----> 3\u001b[1;33m \u001b[1;32mimport\u001b[0m \u001b[0mgraphviz\u001b[0m\u001b[1;33m\u001b[0m\u001b[1;33m\u001b[0m\u001b[0m\n\u001b[0m\u001b[0;32m      4\u001b[0m \u001b[1;33m\u001b[0m\u001b[0m\n\u001b[0;32m      5\u001b[0m \u001b[0mtree_dot\u001b[0m \u001b[1;33m=\u001b[0m \u001b[0mexport_graphviz\u001b[0m\u001b[1;33m(\u001b[0m\u001b[0mmodel\u001b[0m\u001b[1;33m,\u001b[0m\u001b[0mfeature_names\u001b[0m \u001b[1;33m=\u001b[0m\u001b[1;33m[\u001b[0m\u001b[1;34m\"distance\"\u001b[0m\u001b[1;33m]\u001b[0m\u001b[1;33m,\u001b[0m\u001b[0mout_file\u001b[0m\u001b[1;33m=\u001b[0m\u001b[1;32mNone\u001b[0m\u001b[1;33m,\u001b[0m\u001b[0mrounded\u001b[0m\u001b[1;33m=\u001b[0m\u001b[1;32mTrue\u001b[0m\u001b[1;33m,\u001b[0m \u001b[0mfilled\u001b[0m\u001b[1;33m=\u001b[0m\u001b[1;32mTrue\u001b[0m\u001b[1;33m)\u001b[0m\u001b[1;33m\u001b[0m\u001b[1;33m\u001b[0m\u001b[0m\n",
      "\u001b[1;31mModuleNotFoundError\u001b[0m: No module named 'graphviz'"
     ]
    }
   ],
   "source": [
    "# Viewing the Decision Tree\n",
    "from sklearn.tree import export_graphviz\n",
    "import graphviz\n",
    "\n",
    "tree_dot = export_graphviz(model,feature_names =[\"distance\"],out_file=None,rounded=True, filled=True)\n",
    "\n",
    "# Visualize the tree using Graphviz\n",
    "graph = graphviz.Source(tree_dot)\n",
    "graph"
   ]
  },
  {
   "cell_type": "code",
   "execution_count": 27,
   "metadata": {},
   "outputs": [],
   "source": [
    "# LSTM Modelling \n",
    "# This code is from this tutorial https://www.youtube.com/watch?v=BSpXCRTOLJA\n",
    "# please watch the tutorial to understand the code better. It explains how to feed your time series data to the LSTM model\n",
    "import tensorflow as tf\n",
    "from tensorflow. keras.models import Sequential\n",
    "from tensorflow.keras.layers import Dense, LSTM\n",
    "from sklearn.metrics import mean_squared_error"
   ]
  },
  {
   "cell_type": "code",
   "execution_count": 28,
   "metadata": {},
   "outputs": [
    {
     "data": {
      "text/plain": [
       "(11358, 10, 1)"
      ]
     },
     "execution_count": 28,
     "metadata": {},
     "output_type": "execute_result"
    }
   ],
   "source": [
    "from numpy import array\n",
    "def split_sequence(sequence, n_steps):\n",
    "    X = list()\n",
    "    for i in range(len(sequence)):\n",
    "        # find the end of this pattern\n",
    "        end_ix = i + n_steps\n",
    "        # check if we are beyond the sequence\n",
    "        if end_ix > len(sequence)-1:\n",
    "            break\n",
    "    # gather input and output parts of the pattern\n",
    "        seq_x = sequence[i:end_ix]\n",
    "        X.append(seq_x)\n",
    "    return array(X)\n",
    "\n",
    "\n",
    "Xtrain_3d = split_sequence(X_train,10)\n",
    "Xtest_3d = split_sequence(X_test,10)\n",
    "Xtrain_3d.shape"
   ]
  },
  {
   "cell_type": "code",
   "execution_count": 29,
   "metadata": {},
   "outputs": [
    {
     "data": {
      "text/plain": [
       "(10, 1)"
      ]
     },
     "execution_count": 29,
     "metadata": {},
     "output_type": "execute_result"
    }
   ],
   "source": [
    "n_features = 1\n",
    "Xtrain_3d  = Xtrain_3d .reshape((Xtrain_3d.shape[0], Xtrain_3d.shape[1], n_features))\n",
    "Xtest_3d = Xtest_3d .reshape((Xtest_3d.shape[0], Xtest_3d.shape[1], n_features))\n",
    "Xtrain_3d[0].shape"
   ]
  },
  {
   "cell_type": "code",
   "execution_count": 30,
   "metadata": {},
   "outputs": [
    {
     "name": "stderr",
     "output_type": "stream",
     "text": [
      "2023-10-10 10:20:08.994142: W tensorflow/tsl/platform/profile_utils/cpu_utils.cc:128] Failed to get CPU frequency: 0 Hz\n"
     ]
    },
    {
     "data": {
      "text/plain": [
       "<keras.callbacks.History at 0x285ab6d10>"
      ]
     },
     "execution_count": 30,
     "metadata": {},
     "output_type": "execute_result"
    }
   ],
   "source": [
    "# define model\n",
    "n_steps = 10 \n",
    "\n",
    "model = Sequential()\n",
    "model.add(LSTM(100, activation='relu', input_shape=(n_steps, n_features)))\n",
    "model.add(Dense(1))\n",
    "model.compile(optimizer='adam', loss='mse')\n",
    "\n",
    "# fit model\n",
    "model.fit(Xtrain_3d, y_train[0:len(Xtrain_3d)], epochs=20, verbose=0)"
   ]
  },
  {
   "cell_type": "code",
   "execution_count": 31,
   "metadata": {},
   "outputs": [
    {
     "data": {
      "text/plain": [
       "0.02722562206243606"
      ]
     },
     "execution_count": 31,
     "metadata": {},
     "output_type": "execute_result"
    }
   ],
   "source": [
    "y_pred = model.predict(Xtest_3d, verbose=0)\n",
    "from sklearn.metrics import mean_squared_error\n",
    "mse = mean_squared_error(y_pred,y_test[0:len(y_pred)])\n",
    "mse"
   ]
  }
 ],
 "metadata": {
  "kernelspec": {
   "display_name": "Python 3 (ipykernel)",
   "language": "python",
   "name": "python3"
  },
  "language_info": {
   "codemirror_mode": {
    "name": "ipython",
    "version": 3
   },
   "file_extension": ".py",
   "mimetype": "text/x-python",
   "name": "python",
   "nbconvert_exporter": "python",
   "pygments_lexer": "ipython3",
   "version": "3.9.15"
  }
 },
 "nbformat": 4,
 "nbformat_minor": 2
}
