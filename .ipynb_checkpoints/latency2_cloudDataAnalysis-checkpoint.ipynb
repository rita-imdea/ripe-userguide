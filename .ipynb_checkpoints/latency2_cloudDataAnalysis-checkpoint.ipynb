{
 "cells": [
  {
   "cell_type": "markdown",
   "metadata": {},
   "source": [
    "# Understanding the Cloud through data analysis\n",
    "This project is accesible at: https://github.com/rita-imdea/ripe-userguide \n",
    "The supplementary PDF file can be found at https://github.com/rita-imdea/ripe-userguide/blob/main/latency2guide.pdf\n",
    "\n",
    "In this notebook, we are going to see how to retrieve measurements fron RIPE Atlas and also how to parse measurements from JSON files (which have been pre-downloaded from RIPE Atlas). \n",
    "We recommend the reader to first take a look at the PDF document that contains the guide for the whole course. \n",
    "\n",
    "------------------------------\n",
    "\n",
    "This notebook is divided in 2 parts. \n",
    "\n",
    "    \n",
    "#### A) PARSING YOUR MEASUREMENTS\n",
    "    We will explain how to clean and pre-process the data, which are *essential* steps to obtain good results.\n",
    "    \n",
    "#### B) ANALYZING YOUR MEASUREMENTS \n",
    "    The statistical analysis of the data, where we will see both simple statistical models and machine learning models based on training.\n",
    "    \n",
    "------------------------------\n",
    "\n",
    "This project makes use of data from RIPE Atlas, a measurement platform that contains public measurements. These measurements consists of the parameters and statististics of all the messages sent from some source devices, named \"probes\", towards some IP addresses or urls, named \"destinations\". These data allow us to understand how Internet works and how time and space impact on latency. \n",
    "\n",
    "Let's start!"
   ]
  },
  {
   "cell_type": "markdown",
   "metadata": {},
   "source": [
    "------------------------------\n",
    "------------------------------\n",
    "\n",
    "First of all, we need to install some python packages that are required to contact with the RIPE Atlas server and to parse JSON files. Some other packages will be imported later on when they are needed. Make sure that you have installed the packages (see the guide that is accessible from the link on top of this file)"
   ]
  },
  {
   "cell_type": "code",
   "execution_count": 1,
   "metadata": {},
   "outputs": [],
   "source": [
    "import requests # to create http requests from Python\n",
    "import json     # Library to write and ready JSON files in Python\n",
    "from matplotlib import pyplot as plt # To plot the results"
   ]
  },
  {
   "cell_type": "markdown",
   "metadata": {},
   "source": [
    "Next, we check how to pass from a retrieved JSON file to a meaningful format in Python to work with the data.\n"
   ]
  },
  {
   "cell_type": "markdown",
   "metadata": {},
   "source": [
    "### A) PARSING YOUR MEASUREMENTS\n",
    "\n",
    "Wwe are going to get the data from the JSON files, which are already present in the course directory; you can also obtain other measurements from https://atlas.ripe.net/measurements/, as explained in Section III.B of latency2guide.pdf\n",
    "\n",
    "The next steps are:\n",
    "\n",
    "1. Initially, we parse the JSON files and store the data in a Python structure \n",
    "2. We clean the data\n",
    "\n",
    "-----------------------------------------\n",
    "\n",
    "!!!!!!!!!!!!!!!! To complete\n",
    "\n",
    "3. Finally you can plot the probability distribution to see how the data is spread "
   ]
  },
  {
   "cell_type": "markdown",
   "metadata": {},
   "source": [
    "First, we set the IDs of the measurements we are interested in. \n",
    "In this case, the IDs provided below refer to the measurements taken for this course. "
   ]
  },
  {
   "cell_type": "code",
   "execution_count": 2,
   "metadata": {},
   "outputs": [],
   "source": [
    "#measurement_ids = [\"48819905\", \"48819907\", \"48819909\"] # example of measurement ID -- PING MEASUREMENTS\n",
    "#measurement_ids = [\"48819906\", \"48819908\", \"48819910\"] # example of measurement ID -- TRACEROUTE MEASUREMENTS\n",
    "measurement_ids = [\"48819905\",  \"48819907\",  \"48819909\"] # example of measurement ID\n"
   ]
  },
  {
   "cell_type": "markdown",
   "metadata": {},
   "source": [
    "### a) Reading JSON files in Python\n",
    "\n",
    "Next, we use the Python library \"json\", which allows us to ready and write JSON files with Python.\n",
    "Furthermore, we use two of the most used packages for data processing in PYthon: Pandas and Numpy. \n",
    "\n",
    "1. Pandas is a Python library that provides a data structure called a DataFrame (https://pandas.pydata.org/pandas-docs/stable/reference/api/pandas.DataFrame.html), which is a structure that facilitates data processing and manipulation. We can visualize it as a matrix that contains data of different format. We shall use it to parse our data because it provides a number of useful functions for manipulation and visualization of data.\n",
    "\n",
    "2. Numpy is a Python library that facilitates mathematical operations, in particular for arrays and matrices. \n",
    "\n",
    "3. We also import datetime to work with different time formats."
   ]
  },
  {
   "cell_type": "code",
   "execution_count": 3,
   "metadata": {},
   "outputs": [],
   "source": [
    "# We first import the necessary libraries \n",
    "import pandas as pd\n",
    "import numpy  as np\n",
    "from datetime import datetime"
   ]
  },
  {
   "cell_type": "markdown",
   "metadata": {},
   "source": [
    "For each one of the measurements, we read the JSON file and store it in a pandas DataFrame (df) structure.\n",
    "\n",
    "Then, we create a list of DataFrames (df) with all the measurements. "
   ]
  },
  {
   "cell_type": "code",
   "execution_count": 4,
   "metadata": {},
   "outputs": [],
   "source": [
    "# Loop through the measurement IDs experiment files and create a DataFrame for each\n",
    "\n",
    "dfs = [] # creating an empty vector for DataFrame elements\n",
    "\n",
    "for measurement_id in measurement_ids: # For each of the measurements that we are considering:\n",
    "    \n",
    "    # Read the JSON data from the file\n",
    "    with open(f\"RIPE-Atlas-measurement-{measurement_id}.json\", \"r\") as f:\n",
    "        json_data = json.load(f)\n",
    "    \n",
    "    # Normalize the JSON data into a pandas DataFrame\n",
    "    df = pd.json_normalize(json_data)\n",
    "    \n",
    "    # Append the DataFrame to the list of DataFrames\n",
    "    dfs.append(df)\n"
   ]
  },
  {
   "cell_type": "markdown",
   "metadata": {},
   "source": [
    "We would like to have all the DataFrames together to analyze all the measurements at the same time. Thus, we concatenate the list of dataframes."
   ]
  },
  {
   "cell_type": "code",
   "execution_count": 5,
   "metadata": {},
   "outputs": [],
   "source": [
    "# Concatenate all the DataFrames into a single one\n",
    "result_df = pd.concat(dfs, ignore_index=True)"
   ]
  },
  {
   "cell_type": "markdown",
   "metadata": {},
   "source": [
    "We can visualize the current data structure thanks to the pandas function \"head\", which prints the first 5 rows of the DataFrame with the value of all the columns."
   ]
  },
  {
   "cell_type": "code",
   "execution_count": 6,
   "metadata": {},
   "outputs": [
    {
     "data": {
      "text/html": [
       "<div>\n",
       "<style scoped>\n",
       "    .dataframe tbody tr th:only-of-type {\n",
       "        vertical-align: middle;\n",
       "    }\n",
       "\n",
       "    .dataframe tbody tr th {\n",
       "        vertical-align: top;\n",
       "    }\n",
       "\n",
       "    .dataframe thead th {\n",
       "        text-align: right;\n",
       "    }\n",
       "</style>\n",
       "<table border=\"1\" class=\"dataframe\">\n",
       "  <thead>\n",
       "    <tr style=\"text-align: right;\">\n",
       "      <th></th>\n",
       "      <th>fw</th>\n",
       "      <th>mver</th>\n",
       "      <th>lts</th>\n",
       "      <th>dst_name</th>\n",
       "      <th>af</th>\n",
       "      <th>dst_addr</th>\n",
       "      <th>src_addr</th>\n",
       "      <th>proto</th>\n",
       "      <th>ttl</th>\n",
       "      <th>size</th>\n",
       "      <th>...</th>\n",
       "      <th>avg</th>\n",
       "      <th>msm_id</th>\n",
       "      <th>prb_id</th>\n",
       "      <th>timestamp</th>\n",
       "      <th>msm_name</th>\n",
       "      <th>from</th>\n",
       "      <th>type</th>\n",
       "      <th>group_id</th>\n",
       "      <th>step</th>\n",
       "      <th>stored_timestamp</th>\n",
       "    </tr>\n",
       "  </thead>\n",
       "  <tbody>\n",
       "    <tr>\n",
       "      <th>0</th>\n",
       "      <td>5040</td>\n",
       "      <td>2.4.1</td>\n",
       "      <td>14</td>\n",
       "      <td>52.46.72.50</td>\n",
       "      <td>4</td>\n",
       "      <td>52.46.72.50</td>\n",
       "      <td>10.18.246.209</td>\n",
       "      <td>ICMP</td>\n",
       "      <td>234.0</td>\n",
       "      <td>64</td>\n",
       "      <td>...</td>\n",
       "      <td>14.612530</td>\n",
       "      <td>48819905</td>\n",
       "      <td>1003454</td>\n",
       "      <td>1673864005</td>\n",
       "      <td>Ping</td>\n",
       "      <td>51.15.99.8</td>\n",
       "      <td>ping</td>\n",
       "      <td>48819905</td>\n",
       "      <td>300</td>\n",
       "      <td>1673864050</td>\n",
       "    </tr>\n",
       "    <tr>\n",
       "      <th>1</th>\n",
       "      <td>5040</td>\n",
       "      <td>2.4.1</td>\n",
       "      <td>20</td>\n",
       "      <td>52.46.72.50</td>\n",
       "      <td>4</td>\n",
       "      <td>52.46.72.50</td>\n",
       "      <td>10.109.0.30</td>\n",
       "      <td>ICMP</td>\n",
       "      <td>233.0</td>\n",
       "      <td>64</td>\n",
       "      <td>...</td>\n",
       "      <td>24.125096</td>\n",
       "      <td>48819905</td>\n",
       "      <td>1003747</td>\n",
       "      <td>1673864003</td>\n",
       "      <td>Ping</td>\n",
       "      <td>45.137.88.145</td>\n",
       "      <td>ping</td>\n",
       "      <td>48819905</td>\n",
       "      <td>300</td>\n",
       "      <td>1673864114</td>\n",
       "    </tr>\n",
       "    <tr>\n",
       "      <th>2</th>\n",
       "      <td>5080</td>\n",
       "      <td>2.6.2</td>\n",
       "      <td>96</td>\n",
       "      <td>52.46.72.50</td>\n",
       "      <td>4</td>\n",
       "      <td>52.46.72.50</td>\n",
       "      <td>192.168.250.65</td>\n",
       "      <td>ICMP</td>\n",
       "      <td>233.0</td>\n",
       "      <td>64</td>\n",
       "      <td>...</td>\n",
       "      <td>22.542065</td>\n",
       "      <td>48819905</td>\n",
       "      <td>20757</td>\n",
       "      <td>1673863991</td>\n",
       "      <td>Ping</td>\n",
       "      <td>82.116.160.225</td>\n",
       "      <td>ping</td>\n",
       "      <td>48819905</td>\n",
       "      <td>300</td>\n",
       "      <td>1673864089</td>\n",
       "    </tr>\n",
       "    <tr>\n",
       "      <th>3</th>\n",
       "      <td>5080</td>\n",
       "      <td>2.6.2</td>\n",
       "      <td>12</td>\n",
       "      <td>52.46.72.50</td>\n",
       "      <td>4</td>\n",
       "      <td>52.46.72.50</td>\n",
       "      <td>192.168.1.38</td>\n",
       "      <td>ICMP</td>\n",
       "      <td>234.0</td>\n",
       "      <td>64</td>\n",
       "      <td>...</td>\n",
       "      <td>26.183208</td>\n",
       "      <td>48819905</td>\n",
       "      <td>53229</td>\n",
       "      <td>1673864019</td>\n",
       "      <td>Ping</td>\n",
       "      <td>83.54.157.101</td>\n",
       "      <td>ping</td>\n",
       "      <td>48819905</td>\n",
       "      <td>300</td>\n",
       "      <td>1673864090</td>\n",
       "    </tr>\n",
       "    <tr>\n",
       "      <th>4</th>\n",
       "      <td>5080</td>\n",
       "      <td>2.6.2</td>\n",
       "      <td>33</td>\n",
       "      <td>52.46.72.50</td>\n",
       "      <td>4</td>\n",
       "      <td>52.46.72.50</td>\n",
       "      <td>192.168.0.101</td>\n",
       "      <td>ICMP</td>\n",
       "      <td>232.0</td>\n",
       "      <td>64</td>\n",
       "      <td>...</td>\n",
       "      <td>171.458986</td>\n",
       "      <td>48819905</td>\n",
       "      <td>51381</td>\n",
       "      <td>1673864074</td>\n",
       "      <td>Ping</td>\n",
       "      <td>102.34.0.4</td>\n",
       "      <td>ping</td>\n",
       "      <td>48819905</td>\n",
       "      <td>300</td>\n",
       "      <td>1673864205</td>\n",
       "    </tr>\n",
       "  </tbody>\n",
       "</table>\n",
       "<p>5 rows × 26 columns</p>\n",
       "</div>"
      ],
      "text/plain": [
       "     fw   mver  lts     dst_name  af     dst_addr        src_addr proto  \\\n",
       "0  5040  2.4.1   14  52.46.72.50   4  52.46.72.50   10.18.246.209  ICMP   \n",
       "1  5040  2.4.1   20  52.46.72.50   4  52.46.72.50     10.109.0.30  ICMP   \n",
       "2  5080  2.6.2   96  52.46.72.50   4  52.46.72.50  192.168.250.65  ICMP   \n",
       "3  5080  2.6.2   12  52.46.72.50   4  52.46.72.50    192.168.1.38  ICMP   \n",
       "4  5080  2.6.2   33  52.46.72.50   4  52.46.72.50   192.168.0.101  ICMP   \n",
       "\n",
       "     ttl  size  ...         avg    msm_id   prb_id   timestamp  msm_name  \\\n",
       "0  234.0    64  ...   14.612530  48819905  1003454  1673864005      Ping   \n",
       "1  233.0    64  ...   24.125096  48819905  1003747  1673864003      Ping   \n",
       "2  233.0    64  ...   22.542065  48819905    20757  1673863991      Ping   \n",
       "3  234.0    64  ...   26.183208  48819905    53229  1673864019      Ping   \n",
       "4  232.0    64  ...  171.458986  48819905    51381  1673864074      Ping   \n",
       "\n",
       "             from  type  group_id  step  stored_timestamp  \n",
       "0      51.15.99.8  ping  48819905   300        1673864050  \n",
       "1   45.137.88.145  ping  48819905   300        1673864114  \n",
       "2  82.116.160.225  ping  48819905   300        1673864089  \n",
       "3   83.54.157.101  ping  48819905   300        1673864090  \n",
       "4      102.34.0.4  ping  48819905   300        1673864205  \n",
       "\n",
       "[5 rows x 26 columns]"
      ]
     },
     "execution_count": 6,
     "metadata": {},
     "output_type": "execute_result"
    }
   ],
   "source": [
    "# Print the resulting DataFrame\n",
    "result_df.head()"
   ]
  },
  {
   "cell_type": "markdown",
   "metadata": {},
   "source": [
    "### b) Data cleaning and pre-processing\n",
    "\n",
    "The following step is to clean the data collection. \n",
    "\n",
    "For that, we should first know that the RIPE Atlas measurements may include negative values for latency (-1.0), which represent samples for which it was not possible to store the value (Due to, for example, timeouts in the network protocols). \n"
   ]
  },
  {
   "cell_type": "markdown",
   "metadata": {},
   "source": [
    "To avoid that these values impact the later analysis, we remove those samples. We first transform the negative values into Not-a-Number values (NaN), and we make use of the function \"dropna\" from Pandas library to remove those samples.  "
   ]
  },
  {
   "cell_type": "code",
   "execution_count": 7,
   "metadata": {},
   "outputs": [
    {
     "name": "stdout",
     "output_type": "stream",
     "text": [
      "Original size: (17265, 26) /// Processed size = (17119, 26)\n"
     ]
    }
   ],
   "source": [
    "## Cleaning the data \n",
    "\n",
    "original_data_size = result_df.shape # saving the number of rows and columns for later\n",
    "\n",
    "# Change the negative values to NaN\n",
    "result_df['avg'].replace(-1.0, np.nan, inplace=True)\n",
    "\n",
    "# Remove NaN values \n",
    "result_df = result_df.dropna(how='any',axis=0) \n",
    "\n",
    "print(f\"Original size: {original_data_size} /// Processed size = {result_df.shape}\")\n"
   ]
  },
  {
   "cell_type": "markdown",
   "metadata": {},
   "source": [
    "We can easily check the percentage of \"broken\" samples that there were:"
   ]
  },
  {
   "cell_type": "code",
   "execution_count": 8,
   "metadata": {},
   "outputs": [
    {
     "name": "stdout",
     "output_type": "stream",
     "text": [
      "We have 146 bad samples 17265 among total samples.\n",
      "That means that 0.85% of the samples have been discarded\n"
     ]
    }
   ],
   "source": [
    "\n",
    "\n",
    "print(f\"We have {original_data_size[0]-result_df.shape[0]} bad samples {original_data_size[0]} among total samples.\")\n",
    "\n",
    "print(f\"That means that {(original_data_size[0]-result_df.shape[0])/original_data_size[0]*100:.2f}% of the samples have been discarded\")\n"
   ]
  },
  {
   "cell_type": "markdown",
   "metadata": {},
   "source": [
    "We further pre-process the data to facilitate the plotting, visualization and readability of the data.\n",
    "\n",
    "For that, we change the probe ID with an acronym that represents the country where the probe is located, plus an index in case there are several probes in the same country. "
   ]
  },
  {
   "cell_type": "code",
   "execution_count": 9,
   "metadata": {},
   "outputs": [],
   "source": [
    "# Renaming the probe_id column for easy plotting \n",
    "nprb_id = []\n",
    "\n",
    "for value in result_df[\"prb_id\"]:\n",
    "    if value == 1004991:\n",
    "        nprb_id.append('es1')\n",
    "    if value == 53229:\n",
    "        nprb_id.append('es2')\n",
    "    if value == 1004997:\n",
    "        nprb_id.append(\"pt1\")\n",
    "    if value == 1004102:\n",
    "        nprb_id.append(\"pt2\")\n",
    "    if value == 20757:\n",
    "        nprb_id.append(\"es3\")\n",
    "    if value == 1003454:\n",
    "        nprb_id.append(\"nl1\")\n",
    "    if value == 1003158:\n",
    "        nprb_id.append(\"nl2\")\n",
    "    if value == 1003747:\n",
    "        nprb_id.append(\"nl3\")\n",
    "    if value == 1004200:\n",
    "        nprb_id.append(\"es4\")\n",
    "    if value == 51381:\n",
    "        nprb_id.append(\"ug1\")\n",
    "    if value == 54470:\n",
    "        nprb_id.append(\"us1\")\n",
    "    if value == 1002914:\n",
    "        nprb_id.append(\"us2\")\n",
    "        \n",
    "# Saving the new IDs in the column \"nprb_id\"\n",
    "result_df[\"nprb_id\"] = nprb_id\n"
   ]
  },
  {
   "cell_type": "markdown",
   "metadata": {},
   "source": [
    "Now, we edit the format in which the time is saved. By default, the time units provided by RIPE Atlas are UNIX timestamps, i.e., the number of seconds passed since 1st January 1970 at 00:00h."
   ]
  },
  {
   "cell_type": "code",
   "execution_count": 10,
   "metadata": {},
   "outputs": [],
   "source": [
    "## Changing the time column from epoch to date time format for time series processing\n",
    "\n",
    "new_timestamp = [] # initializing the new array\n",
    "\n",
    "# populating the new array\n",
    "for i in result_df['timestamp']:\n",
    "    my_datetime = datetime.fromtimestamp(i) # transforming the timestamp in standard time\n",
    "    new_timestamp.append(my_datetime) # adding the value to the array\n",
    "\n",
    "# Saving the new time format in the column \"new_time\"\n",
    "result_df['new_time'] = new_timestamp\n"
   ]
  },
  {
   "cell_type": "markdown",
   "metadata": {},
   "source": [
    "The last pre-processing is to save the code of the country in which the probe is located. "
   ]
  },
  {
   "cell_type": "code",
   "execution_count": 11,
   "metadata": {},
   "outputs": [],
   "source": [
    "# itializing the country code array\n",
    "country_name = []\n",
    "\n",
    "for value in result_df[\"nprb_id\"]:\n",
    "    if (value == 'es1') or (value == 'es2') or(value == 'es3') or( value == 'es4'):\n",
    "        country_name.append('Spain')\n",
    "    if(value == 'nl1') or (value == 'nl2')or (value == 'nl3'):\n",
    "        country_name.append('Netherlands')\n",
    "    if(value == 'pt1') or (value == 'pt2'):\n",
    "        country_name.append('Portugal')\n",
    "    if(value == 'us1') or (value == 'us2'):\n",
    "        country_name.append('USA')\n",
    "    if(value == 'ug1'):\n",
    "        country_name.append('Uganda')\n",
    "\n",
    "# Saving the new country code in the column \"country_name\"\n",
    "result_df['country_name'] = country_name\n"
   ]
  },
  {
   "cell_type": "markdown",
   "metadata": {},
   "source": [
    "We can visualize if the new additions are correct by calling again the method df.head(). You will see that the last three columns coincide with the content that we have just added."
   ]
  },
  {
   "cell_type": "code",
   "execution_count": 12,
   "metadata": {},
   "outputs": [
    {
     "data": {
      "text/html": [
       "<div>\n",
       "<style scoped>\n",
       "    .dataframe tbody tr th:only-of-type {\n",
       "        vertical-align: middle;\n",
       "    }\n",
       "\n",
       "    .dataframe tbody tr th {\n",
       "        vertical-align: top;\n",
       "    }\n",
       "\n",
       "    .dataframe thead th {\n",
       "        text-align: right;\n",
       "    }\n",
       "</style>\n",
       "<table border=\"1\" class=\"dataframe\">\n",
       "  <thead>\n",
       "    <tr style=\"text-align: right;\">\n",
       "      <th></th>\n",
       "      <th>fw</th>\n",
       "      <th>mver</th>\n",
       "      <th>lts</th>\n",
       "      <th>dst_name</th>\n",
       "      <th>af</th>\n",
       "      <th>dst_addr</th>\n",
       "      <th>src_addr</th>\n",
       "      <th>proto</th>\n",
       "      <th>ttl</th>\n",
       "      <th>size</th>\n",
       "      <th>...</th>\n",
       "      <th>timestamp</th>\n",
       "      <th>msm_name</th>\n",
       "      <th>from</th>\n",
       "      <th>type</th>\n",
       "      <th>group_id</th>\n",
       "      <th>step</th>\n",
       "      <th>stored_timestamp</th>\n",
       "      <th>nprb_id</th>\n",
       "      <th>new_time</th>\n",
       "      <th>country_name</th>\n",
       "    </tr>\n",
       "  </thead>\n",
       "  <tbody>\n",
       "    <tr>\n",
       "      <th>0</th>\n",
       "      <td>5040</td>\n",
       "      <td>2.4.1</td>\n",
       "      <td>14</td>\n",
       "      <td>52.46.72.50</td>\n",
       "      <td>4</td>\n",
       "      <td>52.46.72.50</td>\n",
       "      <td>10.18.246.209</td>\n",
       "      <td>ICMP</td>\n",
       "      <td>234.0</td>\n",
       "      <td>64</td>\n",
       "      <td>...</td>\n",
       "      <td>1673864005</td>\n",
       "      <td>Ping</td>\n",
       "      <td>51.15.99.8</td>\n",
       "      <td>ping</td>\n",
       "      <td>48819905</td>\n",
       "      <td>300</td>\n",
       "      <td>1673864050</td>\n",
       "      <td>nl1</td>\n",
       "      <td>2023-01-16 11:13:25</td>\n",
       "      <td>Netherlands</td>\n",
       "    </tr>\n",
       "    <tr>\n",
       "      <th>1</th>\n",
       "      <td>5040</td>\n",
       "      <td>2.4.1</td>\n",
       "      <td>20</td>\n",
       "      <td>52.46.72.50</td>\n",
       "      <td>4</td>\n",
       "      <td>52.46.72.50</td>\n",
       "      <td>10.109.0.30</td>\n",
       "      <td>ICMP</td>\n",
       "      <td>233.0</td>\n",
       "      <td>64</td>\n",
       "      <td>...</td>\n",
       "      <td>1673864003</td>\n",
       "      <td>Ping</td>\n",
       "      <td>45.137.88.145</td>\n",
       "      <td>ping</td>\n",
       "      <td>48819905</td>\n",
       "      <td>300</td>\n",
       "      <td>1673864114</td>\n",
       "      <td>nl3</td>\n",
       "      <td>2023-01-16 11:13:23</td>\n",
       "      <td>Netherlands</td>\n",
       "    </tr>\n",
       "    <tr>\n",
       "      <th>2</th>\n",
       "      <td>5080</td>\n",
       "      <td>2.6.2</td>\n",
       "      <td>96</td>\n",
       "      <td>52.46.72.50</td>\n",
       "      <td>4</td>\n",
       "      <td>52.46.72.50</td>\n",
       "      <td>192.168.250.65</td>\n",
       "      <td>ICMP</td>\n",
       "      <td>233.0</td>\n",
       "      <td>64</td>\n",
       "      <td>...</td>\n",
       "      <td>1673863991</td>\n",
       "      <td>Ping</td>\n",
       "      <td>82.116.160.225</td>\n",
       "      <td>ping</td>\n",
       "      <td>48819905</td>\n",
       "      <td>300</td>\n",
       "      <td>1673864089</td>\n",
       "      <td>es3</td>\n",
       "      <td>2023-01-16 11:13:11</td>\n",
       "      <td>Spain</td>\n",
       "    </tr>\n",
       "    <tr>\n",
       "      <th>3</th>\n",
       "      <td>5080</td>\n",
       "      <td>2.6.2</td>\n",
       "      <td>12</td>\n",
       "      <td>52.46.72.50</td>\n",
       "      <td>4</td>\n",
       "      <td>52.46.72.50</td>\n",
       "      <td>192.168.1.38</td>\n",
       "      <td>ICMP</td>\n",
       "      <td>234.0</td>\n",
       "      <td>64</td>\n",
       "      <td>...</td>\n",
       "      <td>1673864019</td>\n",
       "      <td>Ping</td>\n",
       "      <td>83.54.157.101</td>\n",
       "      <td>ping</td>\n",
       "      <td>48819905</td>\n",
       "      <td>300</td>\n",
       "      <td>1673864090</td>\n",
       "      <td>es2</td>\n",
       "      <td>2023-01-16 11:13:39</td>\n",
       "      <td>Spain</td>\n",
       "    </tr>\n",
       "    <tr>\n",
       "      <th>4</th>\n",
       "      <td>5080</td>\n",
       "      <td>2.6.2</td>\n",
       "      <td>33</td>\n",
       "      <td>52.46.72.50</td>\n",
       "      <td>4</td>\n",
       "      <td>52.46.72.50</td>\n",
       "      <td>192.168.0.101</td>\n",
       "      <td>ICMP</td>\n",
       "      <td>232.0</td>\n",
       "      <td>64</td>\n",
       "      <td>...</td>\n",
       "      <td>1673864074</td>\n",
       "      <td>Ping</td>\n",
       "      <td>102.34.0.4</td>\n",
       "      <td>ping</td>\n",
       "      <td>48819905</td>\n",
       "      <td>300</td>\n",
       "      <td>1673864205</td>\n",
       "      <td>ug1</td>\n",
       "      <td>2023-01-16 11:14:34</td>\n",
       "      <td>Uganda</td>\n",
       "    </tr>\n",
       "  </tbody>\n",
       "</table>\n",
       "<p>5 rows × 29 columns</p>\n",
       "</div>"
      ],
      "text/plain": [
       "     fw   mver  lts     dst_name  af     dst_addr        src_addr proto  \\\n",
       "0  5040  2.4.1   14  52.46.72.50   4  52.46.72.50   10.18.246.209  ICMP   \n",
       "1  5040  2.4.1   20  52.46.72.50   4  52.46.72.50     10.109.0.30  ICMP   \n",
       "2  5080  2.6.2   96  52.46.72.50   4  52.46.72.50  192.168.250.65  ICMP   \n",
       "3  5080  2.6.2   12  52.46.72.50   4  52.46.72.50    192.168.1.38  ICMP   \n",
       "4  5080  2.6.2   33  52.46.72.50   4  52.46.72.50   192.168.0.101  ICMP   \n",
       "\n",
       "     ttl  size  ...   timestamp  msm_name            from  type  group_id  \\\n",
       "0  234.0    64  ...  1673864005      Ping      51.15.99.8  ping  48819905   \n",
       "1  233.0    64  ...  1673864003      Ping   45.137.88.145  ping  48819905   \n",
       "2  233.0    64  ...  1673863991      Ping  82.116.160.225  ping  48819905   \n",
       "3  234.0    64  ...  1673864019      Ping   83.54.157.101  ping  48819905   \n",
       "4  232.0    64  ...  1673864074      Ping      102.34.0.4  ping  48819905   \n",
       "\n",
       "   step  stored_timestamp  nprb_id            new_time  country_name  \n",
       "0   300        1673864050      nl1 2023-01-16 11:13:25   Netherlands  \n",
       "1   300        1673864114      nl3 2023-01-16 11:13:23   Netherlands  \n",
       "2   300        1673864089      es3 2023-01-16 11:13:11         Spain  \n",
       "3   300        1673864090      es2 2023-01-16 11:13:39         Spain  \n",
       "4   300        1673864205      ug1 2023-01-16 11:14:34        Uganda  \n",
       "\n",
       "[5 rows x 29 columns]"
      ]
     },
     "execution_count": 12,
     "metadata": {},
     "output_type": "execute_result"
    }
   ],
   "source": [
    "result_df.head()"
   ]
  },
  {
   "cell_type": "markdown",
   "metadata": {},
   "source": [
    "------------------------------\n",
    "\n",
    "We have already cleaned and structured our data. Now, it's time to analyze and extract valuable information from it. "
   ]
  },
  {
   "cell_type": "markdown",
   "metadata": {},
   "source": [
    "------------------------------\n",
    "------------------------------\n",
    "------------------------------\n",
    "\n",
    "### B) ANALYZING YOUR MEASUREMENTS \n",
    "\n",
    "We split this\n",
    "\n",
    "1. Check how latency varies over time, how mean and standard deviation vary over distance or any other interesting scenarios you can come up with \n",
    "2. Finally you can do some predictions based using established mathematical models or machine learning models and see what gives you best results.  "
   ]
  },
  {
   "cell_type": "markdown",
   "metadata": {},
   "source": [
    "### a) Understanding the data\n",
    "The first step is to take a look at the data we have and try to obtain insights that can help us with the later analysis.\n",
    "\n",
    "Let us first check what is the probability distribution of the latency for the whole dataset."
   ]
  },
  {
   "cell_type": "markdown",
   "metadata": {},
   "source": [
    "For that, we plot the discrete PDF based on the histogram of the data."
   ]
  },
  {
   "cell_type": "code",
   "execution_count": 13,
   "metadata": {},
   "outputs": [
    {
     "data": {
      "text/plain": [
       "Text(0.5, 0, 'Latency (ms)')"
      ]
     },
     "execution_count": 13,
     "metadata": {},
     "output_type": "execute_result"
    },
    {
     "data": {
      "image/png": "[encoded data removed]",
      "text/plain": [
       "<Figure size 640x480 with 1 Axes>"
      ]
     },
     "metadata": {},
     "output_type": "display_data"
    }
   ],
   "source": [
    "# Computing the discrete PDF from the histogram\n",
    "\n",
    "axx = result_df['avg'].hist(density=True, bins=100, alpha = 0.8) \n",
    "# bins = Number of points in the histogram.\n",
    "# alpha = a parameter for color transparency\n",
    "\n",
    "# We can add information into the graph\n",
    "axx.set_ylabel(\"Probability Density Function\")\n",
    "axx.set_xlabel(\"Latency (ms)\")"
   ]
  },
  {
   "cell_type": "markdown",
   "metadata": {},
   "source": [
    "We realize that the shape is quite curious, with several peaks, looking like a decreasing wave. \n",
    "\n",
    "**What can be the reason?**<br>\n",
    "\n",
    "**Please, take a moment to think about it and comment in group what you think about the graph above**<br> \n",
    "\n",
    "Don't continue further down until you took your time to talk about it.\n",
    "\n",
    "---------------------------------------------------------------\n",
    "\n",
    "**... \n",
    "<br><br>\n",
    "...\n",
    "<br><br>\n",
    "...\n",
    "<br><br>\n",
    "...\n",
    "<br><br>\n",
    "...\n",
    "<br><br>\n",
    "...\n",
    "<br><br>**"
   ]
  },
  {
   "cell_type": "markdown",
   "metadata": {},
   "source": [
    "Have you already thought about it? Let us see if we can dive a bit deeper into the data."
   ]
  },
  {
   "cell_type": "markdown",
   "metadata": {},
   "source": [
    "Let us consider now some of the information we have to try to get more insights.<br>\n",
    "\n",
    "First, let us check what is the PDF for the data originated in each probe, separately.\n"
   ]
  },
  {
   "cell_type": "code",
   "execution_count": 14,
   "metadata": {},
   "outputs": [
    {
     "data": {
      "text/plain": [
       "Text(0.5, 0, 'Latency (ms)')"
      ]
     },
     "execution_count": 14,
     "metadata": {},
     "output_type": "execute_result"
    },
    {
     "data": {
      "image/png": "[encoded data removed]",
      "text/plain": [
       "<Figure size 640x480 with 1 Axes>"
      ]
     },
     "metadata": {},
     "output_type": "display_data"
    }
   ],
   "source": [
    "## checking PDF for each of the probes\n",
    "\n",
    "# First, we recover the array of probe IDs. These IDs are identifiers used for RIPE Atlas, the measurements platform. \n",
    "probes = [1004991,53229,20757,1004200,1003454,1003747,1004102,51381,54470,1002914]\n",
    "         \n",
    "# We extract the data corresponding to each probe, and plot it separately but in the same plot\n",
    "for probe in probes:\n",
    "    df_cdf = result_df[(result_df['prb_id'] == probe)]  # Get the data that corresponds to one probe\n",
    "    axx = df_cdf['avg'].hist(density=True, bins=100, alpha = 0.3) # Draw the histogram\n",
    "\n",
    "# We add the probe IDs as legend\n",
    "axx.legend(probes)\n",
    "axx.set_xlabel(\"Latency (ms)\")"
   ]
  },
  {
   "cell_type": "markdown",
   "metadata": {},
   "source": [
    "What can we observe?<br>\n",
    "\n",
    "**Any ideas??**<br>\n",
    "\n",
    "\n",
    "Take a moment to propose ideas before continuing. \n",
    "<br>\n",
    "\n",
    "---------------------------------------------------------------\n",
    "\n",
    "**... \n",
    "<br><br>\n",
    "...\n",
    "<br><br>\n",
    "...\n",
    "<br><br>\n",
    "...\n",
    "<br><br>\n",
    "...\n",
    "<br><br>\n",
    "...\n",
    "<br><br>**"
   ]
  },
  {
   "cell_type": "markdown",
   "metadata": {},
   "source": [
    "(...)\n",
    "\n",
    "\n",
    " \n",
    "<br><br>\n",
    "\n",
    "<br><br>\n",
    "\n",
    "<br><br>\n",
    "\n",
    "<br><br>\n",
    "\n",
    "<br><br>\n",
    "\n",
    "<br><br>\n"
   ]
  },
  {
   "cell_type": "markdown",
   "metadata": {},
   "source": [
    "So, it seems that there are some probes that are easily differentiable from the rest of the probes.\n",
    "But that plot shows us little information about **why**.\n",
    "\n",
    "Also, the probe IDs is not a very meaningful value. We can use the attibute that we have previously added identifying probes with the country where they are located. Let us know plot the same graph with the new ID."
   ]
  },
  {
   "cell_type": "code",
   "execution_count": 15,
   "metadata": {},
   "outputs": [
    {
     "data": {
      "text/plain": [
       "Text(0.5, 0, 'Latency (ms)')"
      ]
     },
     "execution_count": 15,
     "metadata": {},
     "output_type": "execute_result"
    },
    {
     "data": {
      "image/png": "[encoded data removed]",
      "text/plain": [
       "<Figure size 640x480 with 1 Axes>"
      ]
     },
     "metadata": {},
     "output_type": "display_data"
    }
   ],
   "source": [
    "## checking PDF for each of the probes\n",
    "\n",
    "# First, we recover the array of probe IDs\n",
    "probes = ['es1','es2','es3','es4','nl1','nl3','pt2','ug1','us1','us2']\n",
    "         \n",
    "# We extract the data corresponding to each probe, and plot it separately but in the same plot\n",
    "for probe in probes:\n",
    "    df_cdf = result_df[(result_df['nprb_id'] == probe)] # Get the data that corresponds to one probe\n",
    "    axx = df_cdf['avg'].hist(density=True, bins=100, alpha = 0.3) # Draw the histogram\n",
    "\n",
    "# We add the probe IDs as legend\n",
    "axx.legend(probes)\n",
    "axx.set_xlabel(\"Latency (ms)\")"
   ]
  },
  {
   "cell_type": "markdown",
   "metadata": {},
   "source": [
    "It is clear that the country of location have an important impact. In order to better verify it, we can show the results aggregated by country. Let us see what is the outcome of this visualization."
   ]
  },
  {
   "cell_type": "code",
   "execution_count": 16,
   "metadata": {},
   "outputs": [
    {
     "data": {
      "text/plain": [
       "Text(0.5, 0, 'Latency (ms)')"
      ]
     },
     "execution_count": 16,
     "metadata": {},
     "output_type": "execute_result"
    },
    {
     "data": {
      "image/png": "[encoded data removed]",
      "text/plain": [
       "<Figure size 640x480 with 1 Axes>"
      ]
     },
     "metadata": {},
     "output_type": "display_data"
    }
   ],
   "source": [
    "## Obtaining PDF per country\n",
    "\n",
    "# Retrieving list of countries from the data\n",
    "countries = result_df['country_name'].unique()\n",
    "\n",
    "for country in countries:\n",
    "    df_pdf = result_df[(result_df['country_name'] == country)] # Get the data that corresponds to one country\n",
    "    axx = df_pdf['avg'].hist(density=True, bins=100, alpha = 0.3) # Draw the histogram \n",
    "\n",
    "axx.legend(countries)\n",
    "axx.set_xlabel(\"Latency (ms)\")"
   ]
  },
  {
   "cell_type": "markdown",
   "metadata": {},
   "source": [
    "Now we see more clearly that **location matters** for latency and internet. This, which is expected by all of us, it is not necessary true if we do not corroborate it with data. \n",
    "\n",
    "More in detail, Portugal and Spain obtain the same performance, as they are next to each other and the servers are located in further places such us Netherlads, U.S., and other countries. \n",
    "\n",
    "This results showcases the fact that, if we want to know whether some edge-cutting application can be deployed in a certain place, we need to first make sure that the network has a sufficiently good performance to actually allow for the service to work.\n",
    "\n",
    "In the following, we advance a bit deeper on the characterization of the data. \n"
   ]
  },
  {
   "cell_type": "markdown",
   "metadata": {},
   "source": [
    "-----------------------------------"
   ]
  },
  {
   "cell_type": "markdown",
   "metadata": {},
   "source": [
    "One crucial value to understand the latency values is to know where each of the probes and destinations are located. \n",
    "\n",
    "For that, we now obtain the coordinates of all the devices (sources and destinations) participating in the experiment, and we include it in the DataFrame object. "
   ]
  },
  {
   "cell_type": "code",
   "execution_count": 17,
   "metadata": {},
   "outputs": [],
   "source": [
    "## Obtaining geographical information of the probes \n",
    "\n",
    "# Import the package needed to format the metadata of RIPE's probes.\n",
    "from ripe.atlas.cousteau import Probe \n",
    "\n",
    "#Getting all the ripe atlas probes\n",
    "probe_id_list = result_df['prb_id'].unique()\n",
    "probe_nid_list = result_df['nprb_id'].unique()\n",
    "\n",
    "# Collect the source probe latitude/longitude information from ripe atlas \n",
    "probe_coordinates = []\n",
    "probe_country = []\n",
    "\n",
    "for id_i in probe_id_list: # for each one of the probes:\n",
    "    probe = Probe(id=id_i) # Obtains all metadata of probe id_i\n",
    "    #print(probe.geometry) #probe.geometry is a GeoJSON https://en.wikipedia.org/wiki/GeoJSON\n",
    "    probe_coordinates.append(probe.geometry['coordinates']) # saving the coordinates to the list of coordinates\n",
    "    probe_country.append(probe.country_code)\n",
    "\n"
   ]
  },
  {
   "cell_type": "markdown",
   "metadata": {},
   "source": [
    "We now have a list with the information of coordinates for each of the probes. Next, we tranform it into latitude and longitude, and we add the country in which they are located. "
   ]
  },
  {
   "cell_type": "code",
   "execution_count": 18,
   "metadata": {},
   "outputs": [
    {
     "data": {
      "text/html": [
       "<div>\n",
       "<style scoped>\n",
       "    .dataframe tbody tr th:only-of-type {\n",
       "        vertical-align: middle;\n",
       "    }\n",
       "\n",
       "    .dataframe tbody tr th {\n",
       "        vertical-align: top;\n",
       "    }\n",
       "\n",
       "    .dataframe thead th {\n",
       "        text-align: right;\n",
       "    }\n",
       "</style>\n",
       "<table border=\"1\" class=\"dataframe\">\n",
       "  <thead>\n",
       "    <tr style=\"text-align: right;\">\n",
       "      <th></th>\n",
       "      <th>prb_id</th>\n",
       "      <th>longitude</th>\n",
       "      <th>latitude</th>\n",
       "      <th>probe_country</th>\n",
       "    </tr>\n",
       "  </thead>\n",
       "  <tbody>\n",
       "    <tr>\n",
       "      <th>0</th>\n",
       "      <td>nl1</td>\n",
       "      <td>4.8995</td>\n",
       "      <td>52.3695</td>\n",
       "      <td>NL</td>\n",
       "    </tr>\n",
       "    <tr>\n",
       "      <th>1</th>\n",
       "      <td>nl3</td>\n",
       "      <td>4.3695</td>\n",
       "      <td>51.8505</td>\n",
       "      <td>NL</td>\n",
       "    </tr>\n",
       "    <tr>\n",
       "      <th>2</th>\n",
       "      <td>es3</td>\n",
       "      <td>-1.9805</td>\n",
       "      <td>43.2905</td>\n",
       "      <td>ES</td>\n",
       "    </tr>\n",
       "    <tr>\n",
       "      <th>3</th>\n",
       "      <td>es2</td>\n",
       "      <td>-5.5915</td>\n",
       "      <td>42.6115</td>\n",
       "      <td>ES</td>\n",
       "    </tr>\n",
       "    <tr>\n",
       "      <th>4</th>\n",
       "      <td>ug1</td>\n",
       "      <td>32.5615</td>\n",
       "      <td>0.2575</td>\n",
       "      <td>UG</td>\n",
       "    </tr>\n",
       "    <tr>\n",
       "      <th>5</th>\n",
       "      <td>us1</td>\n",
       "      <td>-122.0795</td>\n",
       "      <td>37.3875</td>\n",
       "      <td>US</td>\n",
       "    </tr>\n",
       "    <tr>\n",
       "      <th>6</th>\n",
       "      <td>us2</td>\n",
       "      <td>-73.9625</td>\n",
       "      <td>40.6495</td>\n",
       "      <td>US</td>\n",
       "    </tr>\n",
       "    <tr>\n",
       "      <th>7</th>\n",
       "      <td>pt2</td>\n",
       "      <td>-8.6225</td>\n",
       "      <td>41.2285</td>\n",
       "      <td>PT</td>\n",
       "    </tr>\n",
       "    <tr>\n",
       "      <th>8</th>\n",
       "      <td>es4</td>\n",
       "      <td>-15.5025</td>\n",
       "      <td>28.0275</td>\n",
       "      <td>ES</td>\n",
       "    </tr>\n",
       "    <tr>\n",
       "      <th>9</th>\n",
       "      <td>es1</td>\n",
       "      <td>-0.9085</td>\n",
       "      <td>41.5975</td>\n",
       "      <td>ES</td>\n",
       "    </tr>\n",
       "  </tbody>\n",
       "</table>\n",
       "</div>"
      ],
      "text/plain": [
       "  prb_id  longitude  latitude probe_country\n",
       "0    nl1     4.8995   52.3695            NL\n",
       "1    nl3     4.3695   51.8505            NL\n",
       "2    es3    -1.9805   43.2905            ES\n",
       "3    es2    -5.5915   42.6115            ES\n",
       "4    ug1    32.5615    0.2575            UG\n",
       "5    us1  -122.0795   37.3875            US\n",
       "6    us2   -73.9625   40.6495            US\n",
       "7    pt2    -8.6225   41.2285            PT\n",
       "8    es4   -15.5025   28.0275            ES\n",
       "9    es1    -0.9085   41.5975            ES"
      ]
     },
     "execution_count": 18,
     "metadata": {},
     "output_type": "execute_result"
    }
   ],
   "source": [
    "longitude = []\n",
    "latitude = []\n",
    "\n",
    "for i in probe_coordinates:\n",
    "    longitude.append(i[0])\n",
    "    latitude.append(i[1])\n",
    "\n",
    "# create a probe metadata dataframe\n",
    "srcprobes_df = pd.DataFrame({'prb_id': probe_nid_list,'longitude': longitude, 'latitude': latitude,'probe_country': probe_country})\n",
    "srcprobes_df"
   ]
  },
  {
   "cell_type": "markdown",
   "metadata": {},
   "source": [
    "We have done this for the probes (source nodes). We can repeat the procedure for the destination addresses."
   ]
  },
  {
   "cell_type": "code",
   "execution_count": 19,
   "metadata": {},
   "outputs": [
    {
     "data": {
      "text/html": [
       "<div>\n",
       "<style scoped>\n",
       "    .dataframe tbody tr th:only-of-type {\n",
       "        vertical-align: middle;\n",
       "    }\n",
       "\n",
       "    .dataframe tbody tr th {\n",
       "        vertical-align: top;\n",
       "    }\n",
       "\n",
       "    .dataframe thead th {\n",
       "        text-align: right;\n",
       "    }\n",
       "</style>\n",
       "<table border=\"1\" class=\"dataframe\">\n",
       "  <thead>\n",
       "    <tr style=\"text-align: right;\">\n",
       "      <th></th>\n",
       "      <th>Server_ip</th>\n",
       "      <th>latitude</th>\n",
       "      <th>longitude</th>\n",
       "    </tr>\n",
       "  </thead>\n",
       "  <tbody>\n",
       "    <tr>\n",
       "      <th>0</th>\n",
       "      <td>52.46.72.50</td>\n",
       "      <td>48.8534</td>\n",
       "      <td>2.3488</td>\n",
       "    </tr>\n",
       "    <tr>\n",
       "      <th>1</th>\n",
       "      <td>54.239.55.167</td>\n",
       "      <td>50.1155</td>\n",
       "      <td>8.6842</td>\n",
       "    </tr>\n",
       "    <tr>\n",
       "      <th>2</th>\n",
       "      <td>67.220.226.67</td>\n",
       "      <td>53.3331</td>\n",
       "      <td>-6.2489</td>\n",
       "    </tr>\n",
       "  </tbody>\n",
       "</table>\n",
       "</div>"
      ],
      "text/plain": [
       "       Server_ip latitude longitude\n",
       "0    52.46.72.50  48.8534    2.3488\n",
       "1  54.239.55.167  50.1155    8.6842\n",
       "2  67.220.226.67  53.3331   -6.2489"
      ]
     },
     "execution_count": 19,
     "metadata": {},
     "output_type": "execute_result"
    }
   ],
   "source": [
    "## Obtaining geographical information of the destinations \n",
    "\n",
    "#Getting all the destination ip addresses\n",
    "dest_ip_list = result_df['dst_addr'].unique()\n",
    "\n",
    "# Create empty lists to store the data\n",
    "server_ip = []\n",
    "latitudes = []\n",
    "longitudes = []\n",
    "\n",
    "# Query the \"ipinfo.io\" API for geolocation information\n",
    "for ip in dest_ip_list:\n",
    "    response = requests.get(f'https://ipinfo.io/{ip}/json')\n",
    "    if response.status_code == 200:\n",
    "        data = response.json()\n",
    "        latitude, longitude = data.get('loc', '').split(',')\n",
    "        server_ip.append(ip)\n",
    "        latitudes.append(latitude)\n",
    "        longitudes.append(longitude)\n",
    "\n",
    "# Create a dataframe with the geophraphical information of the destinatiuon addresses. Remember that this infomation is approximate for privacy reasons\n",
    "a_server_df = pd.DataFrame({ 'Server_ip': server_ip,'latitude': latitudes, 'longitude': longitudes})\n",
    "a_server_df"
   ]
  },
  {
   "cell_type": "markdown",
   "metadata": {},
   "source": [
    "We have now all the information regarding the location of the addresses participating in the experiment. Thus, we can now calculate the distance between sources and destinations. "
   ]
  },
  {
   "cell_type": "code",
   "execution_count": 20,
   "metadata": {},
   "outputs": [],
   "source": [
    "## Obtaining the distance between nodes. \n",
    "\n",
    "# We first define the function that computes the Euclidean distance between two points\n",
    "distance_data = []\n",
    "def euclidean_distance(lat1, lon1, lat2, lon2):\n",
    "    # Convert latitude and longitude from degrees to radians\n",
    "    return np.sqrt((lat1 - lat2)**2 + (lon1 - lon2)**2)\n",
    "\n",
    "# Create an empty dataframe to store distance information\n",
    "distance_df = pd.DataFrame(columns=['prb_id', 'ip_address', 'distance'])\n",
    "\n",
    "# Calculate Euclidean distances between all probes and destination addresses\n",
    "for index_probe, row_probe in srcprobes_df.iterrows():\n",
    "    for index_dst, row_dst in a_server_df.iterrows():\n",
    "        distance = euclidean_distance(float(row_probe['latitude']), float(row_probe['longitude']), float(row_dst['latitude']), float(row_dst['longitude']))\n",
    "        distance_data.append({\n",
    "            'nprb_id': row_probe['prb_id'],\n",
    "            'dst_addr': row_dst['Server_ip'],\n",
    "            'distance': distance})\n",
    "        \n",
    "# Create a DataFrame from the list of distance information\n",
    "distance_df = pd.DataFrame(distance_data)\n"
   ]
  },
  {
   "cell_type": "markdown",
   "metadata": {},
   "source": [
    "We can show the distance between all probes and destinations as follows: "
   ]
  },
  {
   "cell_type": "code",
   "execution_count": 21,
   "metadata": {},
   "outputs": [
    {
     "data": {
      "text/html": [
       "<div>\n",
       "<style scoped>\n",
       "    .dataframe tbody tr th:only-of-type {\n",
       "        vertical-align: middle;\n",
       "    }\n",
       "\n",
       "    .dataframe tbody tr th {\n",
       "        vertical-align: top;\n",
       "    }\n",
       "\n",
       "    .dataframe thead th {\n",
       "        text-align: right;\n",
       "    }\n",
       "</style>\n",
       "<table border=\"1\" class=\"dataframe\">\n",
       "  <thead>\n",
       "    <tr style=\"text-align: right;\">\n",
       "      <th></th>\n",
       "      <th>nprb_id</th>\n",
       "      <th>dst_addr</th>\n",
       "      <th>distance</th>\n",
       "    </tr>\n",
       "  </thead>\n",
       "  <tbody>\n",
       "    <tr>\n",
       "      <th>0</th>\n",
       "      <td>nl1</td>\n",
       "      <td>52.46.72.50</td>\n",
       "      <td>4.343850</td>\n",
       "    </tr>\n",
       "    <tr>\n",
       "      <th>1</th>\n",
       "      <td>nl1</td>\n",
       "      <td>54.239.55.167</td>\n",
       "      <td>4.405051</td>\n",
       "    </tr>\n",
       "    <tr>\n",
       "      <th>2</th>\n",
       "      <td>nl1</td>\n",
       "      <td>67.220.226.67</td>\n",
       "      <td>11.189966</td>\n",
       "    </tr>\n",
       "    <tr>\n",
       "      <th>3</th>\n",
       "      <td>nl3</td>\n",
       "      <td>52.46.72.50</td>\n",
       "      <td>3.614670</td>\n",
       "    </tr>\n",
       "    <tr>\n",
       "      <th>4</th>\n",
       "      <td>nl3</td>\n",
       "      <td>54.239.55.167</td>\n",
       "      <td>4.650469</td>\n",
       "    </tr>\n",
       "    <tr>\n",
       "      <th>5</th>\n",
       "      <td>nl3</td>\n",
       "      <td>67.220.226.67</td>\n",
       "      <td>10.721405</td>\n",
       "    </tr>\n",
       "    <tr>\n",
       "      <th>6</th>\n",
       "      <td>es3</td>\n",
       "      <td>52.46.72.50</td>\n",
       "      <td>7.049021</td>\n",
       "    </tr>\n",
       "    <tr>\n",
       "      <th>7</th>\n",
       "      <td>es3</td>\n",
       "      <td>54.239.55.167</td>\n",
       "      <td>12.661613</td>\n",
       "    </tr>\n",
       "    <tr>\n",
       "      <th>8</th>\n",
       "      <td>es3</td>\n",
       "      <td>67.220.226.67</td>\n",
       "      <td>10.912060</td>\n",
       "    </tr>\n",
       "    <tr>\n",
       "      <th>9</th>\n",
       "      <td>es2</td>\n",
       "      <td>52.46.72.50</td>\n",
       "      <td>10.099984</td>\n",
       "    </tr>\n",
       "    <tr>\n",
       "      <th>10</th>\n",
       "      <td>es2</td>\n",
       "      <td>54.239.55.167</td>\n",
       "      <td>16.127791</td>\n",
       "    </tr>\n",
       "    <tr>\n",
       "      <th>11</th>\n",
       "      <td>es2</td>\n",
       "      <td>67.220.226.67</td>\n",
       "      <td>10.741735</td>\n",
       "    </tr>\n",
       "    <tr>\n",
       "      <th>12</th>\n",
       "      <td>ug1</td>\n",
       "      <td>52.46.72.50</td>\n",
       "      <td>57.222100</td>\n",
       "    </tr>\n",
       "    <tr>\n",
       "      <th>13</th>\n",
       "      <td>ug1</td>\n",
       "      <td>54.239.55.167</td>\n",
       "      <td>55.280608</td>\n",
       "    </tr>\n",
       "    <tr>\n",
       "      <th>14</th>\n",
       "      <td>ug1</td>\n",
       "      <td>67.220.226.67</td>\n",
       "      <td>65.751551</td>\n",
       "    </tr>\n",
       "    <tr>\n",
       "      <th>15</th>\n",
       "      <td>us1</td>\n",
       "      <td>52.46.72.50</td>\n",
       "      <td>124.955467</td>\n",
       "    </tr>\n",
       "    <tr>\n",
       "      <th>16</th>\n",
       "      <td>us1</td>\n",
       "      <td>54.239.55.167</td>\n",
       "      <td>131.381685</td>\n",
       "    </tr>\n",
       "    <tr>\n",
       "      <th>17</th>\n",
       "      <td>us1</td>\n",
       "      <td>67.220.226.67</td>\n",
       "      <td>116.923009</td>\n",
       "    </tr>\n",
       "    <tr>\n",
       "      <th>18</th>\n",
       "      <td>us2</td>\n",
       "      <td>52.46.72.50</td>\n",
       "      <td>76.751016</td>\n",
       "    </tr>\n",
       "    <tr>\n",
       "      <th>19</th>\n",
       "      <td>us2</td>\n",
       "      <td>54.239.55.167</td>\n",
       "      <td>83.187031</td>\n",
       "    </tr>\n",
       "    <tr>\n",
       "      <th>20</th>\n",
       "      <td>us2</td>\n",
       "      <td>67.220.226.67</td>\n",
       "      <td>68.891257</td>\n",
       "    </tr>\n",
       "    <tr>\n",
       "      <th>21</th>\n",
       "      <td>pt2</td>\n",
       "      <td>52.46.72.50</td>\n",
       "      <td>13.360708</td>\n",
       "    </tr>\n",
       "    <tr>\n",
       "      <th>22</th>\n",
       "      <td>pt2</td>\n",
       "      <td>54.239.55.167</td>\n",
       "      <td>19.455093</td>\n",
       "    </tr>\n",
       "    <tr>\n",
       "      <th>23</th>\n",
       "      <td>pt2</td>\n",
       "      <td>67.220.226.67</td>\n",
       "      <td>12.335125</td>\n",
       "    </tr>\n",
       "    <tr>\n",
       "      <th>24</th>\n",
       "      <td>es4</td>\n",
       "      <td>52.46.72.50</td>\n",
       "      <td>27.429674</td>\n",
       "    </tr>\n",
       "    <tr>\n",
       "      <th>25</th>\n",
       "      <td>es4</td>\n",
       "      <td>54.239.55.167</td>\n",
       "      <td>32.754789</td>\n",
       "    </tr>\n",
       "    <tr>\n",
       "      <th>26</th>\n",
       "      <td>es4</td>\n",
       "      <td>67.220.226.67</td>\n",
       "      <td>26.944434</td>\n",
       "    </tr>\n",
       "    <tr>\n",
       "      <th>27</th>\n",
       "      <td>es1</td>\n",
       "      <td>52.46.72.50</td>\n",
       "      <td>7.953495</td>\n",
       "    </tr>\n",
       "    <tr>\n",
       "      <th>28</th>\n",
       "      <td>es1</td>\n",
       "      <td>54.239.55.167</td>\n",
       "      <td>12.828726</td>\n",
       "    </tr>\n",
       "    <tr>\n",
       "      <th>29</th>\n",
       "      <td>es1</td>\n",
       "      <td>67.220.226.67</td>\n",
       "      <td>12.893571</td>\n",
       "    </tr>\n",
       "  </tbody>\n",
       "</table>\n",
       "</div>"
      ],
      "text/plain": [
       "   nprb_id       dst_addr    distance\n",
       "0      nl1    52.46.72.50    4.343850\n",
       "1      nl1  54.239.55.167    4.405051\n",
       "2      nl1  67.220.226.67   11.189966\n",
       "3      nl3    52.46.72.50    3.614670\n",
       "4      nl3  54.239.55.167    4.650469\n",
       "5      nl3  67.220.226.67   10.721405\n",
       "6      es3    52.46.72.50    7.049021\n",
       "7      es3  54.239.55.167   12.661613\n",
       "8      es3  67.220.226.67   10.912060\n",
       "9      es2    52.46.72.50   10.099984\n",
       "10     es2  54.239.55.167   16.127791\n",
       "11     es2  67.220.226.67   10.741735\n",
       "12     ug1    52.46.72.50   57.222100\n",
       "13     ug1  54.239.55.167   55.280608\n",
       "14     ug1  67.220.226.67   65.751551\n",
       "15     us1    52.46.72.50  124.955467\n",
       "16     us1  54.239.55.167  131.381685\n",
       "17     us1  67.220.226.67  116.923009\n",
       "18     us2    52.46.72.50   76.751016\n",
       "19     us2  54.239.55.167   83.187031\n",
       "20     us2  67.220.226.67   68.891257\n",
       "21     pt2    52.46.72.50   13.360708\n",
       "22     pt2  54.239.55.167   19.455093\n",
       "23     pt2  67.220.226.67   12.335125\n",
       "24     es4    52.46.72.50   27.429674\n",
       "25     es4  54.239.55.167   32.754789\n",
       "26     es4  67.220.226.67   26.944434\n",
       "27     es1    52.46.72.50    7.953495\n",
       "28     es1  54.239.55.167   12.828726\n",
       "29     es1  67.220.226.67   12.893571"
      ]
     },
     "execution_count": 21,
     "metadata": {},
     "output_type": "execute_result"
    }
   ],
   "source": [
    "distance_df"
   ]
  },
  {
   "cell_type": "markdown",
   "metadata": {},
   "source": [
    "We now add this information to our general DataFrame."
   ]
  },
  {
   "cell_type": "code",
   "execution_count": 22,
   "metadata": {},
   "outputs": [],
   "source": [
    "# Adding the distance data to the result_df.\n",
    "# For that, for each of the points that have the same ['nprb_id', 'dst_addr'] tuple, we add the field of distance between those nodes. \n",
    "analysis_df  = pd.merge(result_df,distance_df, left_on=['nprb_id', 'dst_addr'], right_on=['nprb_id', 'dst_addr'], how='inner')\n"
   ]
  },
  {
   "cell_type": "markdown",
   "metadata": {},
   "source": [
    "We can visualize the first 5 rows to check that the value is there. "
   ]
  },
  {
   "cell_type": "code",
   "execution_count": 23,
   "metadata": {},
   "outputs": [
    {
     "data": {
      "text/html": [
       "<div>\n",
       "<style scoped>\n",
       "    .dataframe tbody tr th:only-of-type {\n",
       "        vertical-align: middle;\n",
       "    }\n",
       "\n",
       "    .dataframe tbody tr th {\n",
       "        vertical-align: top;\n",
       "    }\n",
       "\n",
       "    .dataframe thead th {\n",
       "        text-align: right;\n",
       "    }\n",
       "</style>\n",
       "<table border=\"1\" class=\"dataframe\">\n",
       "  <thead>\n",
       "    <tr style=\"text-align: right;\">\n",
       "      <th></th>\n",
       "      <th>fw</th>\n",
       "      <th>mver</th>\n",
       "      <th>lts</th>\n",
       "      <th>dst_name</th>\n",
       "      <th>af</th>\n",
       "      <th>dst_addr</th>\n",
       "      <th>src_addr</th>\n",
       "      <th>proto</th>\n",
       "      <th>ttl</th>\n",
       "      <th>size</th>\n",
       "      <th>...</th>\n",
       "      <th>msm_name</th>\n",
       "      <th>from</th>\n",
       "      <th>type</th>\n",
       "      <th>group_id</th>\n",
       "      <th>step</th>\n",
       "      <th>stored_timestamp</th>\n",
       "      <th>nprb_id</th>\n",
       "      <th>new_time</th>\n",
       "      <th>country_name</th>\n",
       "      <th>distance</th>\n",
       "    </tr>\n",
       "  </thead>\n",
       "  <tbody>\n",
       "    <tr>\n",
       "      <th>0</th>\n",
       "      <td>5040</td>\n",
       "      <td>2.4.1</td>\n",
       "      <td>14</td>\n",
       "      <td>52.46.72.50</td>\n",
       "      <td>4</td>\n",
       "      <td>52.46.72.50</td>\n",
       "      <td>10.18.246.209</td>\n",
       "      <td>ICMP</td>\n",
       "      <td>234.0</td>\n",
       "      <td>64</td>\n",
       "      <td>...</td>\n",
       "      <td>Ping</td>\n",
       "      <td>51.15.99.8</td>\n",
       "      <td>ping</td>\n",
       "      <td>48819905</td>\n",
       "      <td>300</td>\n",
       "      <td>1673864050</td>\n",
       "      <td>nl1</td>\n",
       "      <td>2023-01-16 11:13:25</td>\n",
       "      <td>Netherlands</td>\n",
       "      <td>4.34385</td>\n",
       "    </tr>\n",
       "    <tr>\n",
       "      <th>1</th>\n",
       "      <td>5040</td>\n",
       "      <td>2.4.1</td>\n",
       "      <td>16</td>\n",
       "      <td>52.46.72.50</td>\n",
       "      <td>4</td>\n",
       "      <td>52.46.72.50</td>\n",
       "      <td>10.18.246.209</td>\n",
       "      <td>ICMP</td>\n",
       "      <td>234.0</td>\n",
       "      <td>64</td>\n",
       "      <td>...</td>\n",
       "      <td>Ping</td>\n",
       "      <td>51.15.99.8</td>\n",
       "      <td>ping</td>\n",
       "      <td>48819905</td>\n",
       "      <td>300</td>\n",
       "      <td>1673864355</td>\n",
       "      <td>nl1</td>\n",
       "      <td>2023-01-16 11:18:34</td>\n",
       "      <td>Netherlands</td>\n",
       "      <td>4.34385</td>\n",
       "    </tr>\n",
       "    <tr>\n",
       "      <th>2</th>\n",
       "      <td>5040</td>\n",
       "      <td>2.4.1</td>\n",
       "      <td>2</td>\n",
       "      <td>52.46.72.50</td>\n",
       "      <td>4</td>\n",
       "      <td>52.46.72.50</td>\n",
       "      <td>10.18.246.209</td>\n",
       "      <td>ICMP</td>\n",
       "      <td>234.0</td>\n",
       "      <td>64</td>\n",
       "      <td>...</td>\n",
       "      <td>Ping</td>\n",
       "      <td>51.15.99.8</td>\n",
       "      <td>ping</td>\n",
       "      <td>48819905</td>\n",
       "      <td>300</td>\n",
       "      <td>1673864662</td>\n",
       "      <td>nl1</td>\n",
       "      <td>2023-01-16 11:23:26</td>\n",
       "      <td>Netherlands</td>\n",
       "      <td>4.34385</td>\n",
       "    </tr>\n",
       "    <tr>\n",
       "      <th>3</th>\n",
       "      <td>5040</td>\n",
       "      <td>2.4.1</td>\n",
       "      <td>14</td>\n",
       "      <td>52.46.72.50</td>\n",
       "      <td>4</td>\n",
       "      <td>52.46.72.50</td>\n",
       "      <td>10.18.246.209</td>\n",
       "      <td>ICMP</td>\n",
       "      <td>234.0</td>\n",
       "      <td>64</td>\n",
       "      <td>...</td>\n",
       "      <td>Ping</td>\n",
       "      <td>51.15.99.8</td>\n",
       "      <td>ping</td>\n",
       "      <td>48819905</td>\n",
       "      <td>300</td>\n",
       "      <td>1673864959</td>\n",
       "      <td>nl1</td>\n",
       "      <td>2023-01-16 11:28:34</td>\n",
       "      <td>Netherlands</td>\n",
       "      <td>4.34385</td>\n",
       "    </tr>\n",
       "    <tr>\n",
       "      <th>4</th>\n",
       "      <td>5040</td>\n",
       "      <td>2.4.1</td>\n",
       "      <td>14</td>\n",
       "      <td>52.46.72.50</td>\n",
       "      <td>4</td>\n",
       "      <td>52.46.72.50</td>\n",
       "      <td>10.18.246.209</td>\n",
       "      <td>ICMP</td>\n",
       "      <td>234.0</td>\n",
       "      <td>64</td>\n",
       "      <td>...</td>\n",
       "      <td>Ping</td>\n",
       "      <td>51.15.99.8</td>\n",
       "      <td>ping</td>\n",
       "      <td>48819905</td>\n",
       "      <td>300</td>\n",
       "      <td>1673865254</td>\n",
       "      <td>nl1</td>\n",
       "      <td>2023-01-16 11:33:34</td>\n",
       "      <td>Netherlands</td>\n",
       "      <td>4.34385</td>\n",
       "    </tr>\n",
       "  </tbody>\n",
       "</table>\n",
       "<p>5 rows × 30 columns</p>\n",
       "</div>"
      ],
      "text/plain": [
       "     fw   mver  lts     dst_name  af     dst_addr       src_addr proto    ttl  \\\n",
       "0  5040  2.4.1   14  52.46.72.50   4  52.46.72.50  10.18.246.209  ICMP  234.0   \n",
       "1  5040  2.4.1   16  52.46.72.50   4  52.46.72.50  10.18.246.209  ICMP  234.0   \n",
       "2  5040  2.4.1    2  52.46.72.50   4  52.46.72.50  10.18.246.209  ICMP  234.0   \n",
       "3  5040  2.4.1   14  52.46.72.50   4  52.46.72.50  10.18.246.209  ICMP  234.0   \n",
       "4  5040  2.4.1   14  52.46.72.50   4  52.46.72.50  10.18.246.209  ICMP  234.0   \n",
       "\n",
       "   size  ... msm_name        from  type  group_id  step  stored_timestamp  \\\n",
       "0    64  ...     Ping  51.15.99.8  ping  48819905   300        1673864050   \n",
       "1    64  ...     Ping  51.15.99.8  ping  48819905   300        1673864355   \n",
       "2    64  ...     Ping  51.15.99.8  ping  48819905   300        1673864662   \n",
       "3    64  ...     Ping  51.15.99.8  ping  48819905   300        1673864959   \n",
       "4    64  ...     Ping  51.15.99.8  ping  48819905   300        1673865254   \n",
       "\n",
       "   nprb_id            new_time  country_name  distance  \n",
       "0      nl1 2023-01-16 11:13:25   Netherlands   4.34385  \n",
       "1      nl1 2023-01-16 11:18:34   Netherlands   4.34385  \n",
       "2      nl1 2023-01-16 11:23:26   Netherlands   4.34385  \n",
       "3      nl1 2023-01-16 11:28:34   Netherlands   4.34385  \n",
       "4      nl1 2023-01-16 11:33:34   Netherlands   4.34385  \n",
       "\n",
       "[5 rows x 30 columns]"
      ]
     },
     "execution_count": 23,
     "metadata": {},
     "output_type": "execute_result"
    }
   ],
   "source": [
    "analysis_df.head()"
   ]
  },
  {
   "cell_type": "markdown",
   "metadata": {},
   "source": [
    "------------------------------------\n",
    "\n",
    "### b) Predicting the data\n",
    "\n",
    "Now it is turn to see whether we can actually predict the latency on Internet!\n"
   ]
  },
  {
   "cell_type": "markdown",
   "metadata": {},
   "source": [
    "We are going to start with very simple forecasting methods, to observe if the data is easily predictable or we need more complex algorithms. "
   ]
  },
  {
   "cell_type": "markdown",
   "metadata": {},
   "source": [
    "The first one is as simple as \"Naive forecast\", which consists on just considering that the next sample is going to be exactly the same as the previous one. "
   ]
  },
  {
   "cell_type": "code",
   "execution_count": 24,
   "metadata": {},
   "outputs": [],
   "source": [
    "# Applying some simple forecasting methods\n",
    "\n",
    "# Using the naive forecast\n",
    "result_df = result_df.assign(naive=df['avg'].shift(1)) # next sample is the previous one\n",
    "\n",
    "# Replace NaN at top of value column with 0\n",
    "result_df['naive'] = result_df['naive'].fillna(method='ffill').fillna(0)\n"
   ]
  },
  {
   "cell_type": "markdown",
   "metadata": {},
   "source": [
    "We can evaluate the Mean Squared Error of this algorithm as follows."
   ]
  },
  {
   "cell_type": "code",
   "execution_count": 25,
   "metadata": {},
   "outputs": [
    {
     "data": {
      "text/plain": [
       "6600.607397353303"
      ]
     },
     "execution_count": 25,
     "metadata": {},
     "output_type": "execute_result"
    }
   ],
   "source": [
    "# Testing the prediction accuracy for naive forecast\n",
    "se = (result_df['avg'] - result_df['naive']) ** 2\n",
    "mse_naive = se.mean()\n",
    "mse_naive"
   ]
  },
  {
   "cell_type": "markdown",
   "metadata": {},
   "source": [
    "Let us compare this simple algorithm with more involved ones. \n",
    "The next one is Exponential smoothing. \n"
   ]
  },
  {
   "cell_type": "code",
   "execution_count": 51,
   "metadata": {},
   "outputs": [
    {
     "name": "stderr",
     "output_type": "stream",
     "text": [
      "C:\\Users\\anton\\anaconda3\\envs\\cloud\\lib\\site-packages\\statsmodels\\tsa\\base\\tsa_model.py:471: ValueWarning: An unsupported index was provided and will be ignored when e.g. forecasting.\n",
      "  self._init_dates(dates, freq)\n",
      "C:\\Users\\anton\\anaconda3\\envs\\cloud\\lib\\site-packages\\statsmodels\\tsa\\base\\tsa_model.py:471: ValueWarning: An unsupported index was provided and will be ignored when e.g. forecasting.\n",
      "  self._init_dates(dates, freq)\n"
     ]
    },
    {
     "data": {
      "text/plain": [
       "Text(0, 0.5, 'latency (ms)')"
      ]
     },
     "execution_count": 51,
     "metadata": {},
     "output_type": "execute_result"
    },
    {
     "data": {
      "image/png": "[encoded data removed]",
      "text/plain": [
       "<Figure size 640x480 with 1 Axes>"
      ]
     },
     "metadata": {},
     "output_type": "display_data"
    }
   ],
   "source": [
    "## Exponential smoothing method\n",
    "\n",
    "# import the library that allows us to easily apply it\n",
    "from statsmodels.tsa.api import SimpleExpSmoothing\n",
    "\n",
    "# Fitting (adjusting) the data to an exponential smoothing approach. \n",
    "fit1 = SimpleExpSmoothing(result_df['avg']).fit()\n",
    "\n",
    "# Evaluating the result of the fitting\n",
    "result_df['Simple-smoothing'] = SimpleExpSmoothing(result_df['avg']).fit().fittedvalues\n",
    "\n",
    "# Plotting the results\n",
    "num_samp_plot = 2000 # number of samples showed in plot\n",
    "plt.plot(result_df['avg'].iloc[:num_samp_plot], linewidth = 0.5)\n",
    "plt.plot(result_df['Simple-smoothing'].iloc[:num_samp_plot])\n",
    "plt.title('Exponential Smoothing')\n",
    "\n",
    "plt.legend(['Real latency', 'Exponential smoothing'])\n",
    "plt.xlabel(\"time\")\n",
    "plt.ylabel(\"latency (ms)\")\n"
   ]
  },
  {
   "cell_type": "markdown",
   "metadata": {},
   "source": [
    "As for the Naive forecast, we can evaluate the Mean Squared Error of this algorithm as follows."
   ]
  },
  {
   "cell_type": "code",
   "execution_count": 27,
   "metadata": {},
   "outputs": [],
   "source": [
    "se = (result_df['avg'] - result_df['Simple-smoothing']) ** 2\n",
    "mse_esm = se.mean()\n"
   ]
  },
  {
   "cell_type": "markdown",
   "metadata": {},
   "source": [
    "And we can compare them:    "
   ]
  },
  {
   "cell_type": "code",
   "execution_count": 28,
   "metadata": {},
   "outputs": [
    {
     "name": "stdout",
     "output_type": "stream",
     "text": [
      "MSE Naive: 6600.61, MSE Exponential smoothing: 3718.83\n"
     ]
    }
   ],
   "source": [
    "print(f\"MSE Naive: {mse_naive:.2f}, MSE Exponential smoothing: {mse_esm:.2f}\")"
   ]
  },
  {
   "cell_type": "markdown",
   "metadata": {},
   "source": [
    "Exponential smoothing already improves w.r.t. the naive method.\n",
    "\n",
    "\n",
    "Now, we move to evaluating machine learning algorithms. \n",
    "\n",
    "We are going to begin with a simple problem that aims at predicting the latency based on the distance between source and destination. "
   ]
  },
  {
   "cell_type": "markdown",
   "metadata": {},
   "source": [
    "----------------------\n",
    "\n",
    "#### Machine learning methods   \n",
    "\n",
    "----------------------"
   ]
  },
  {
   "cell_type": "markdown",
   "metadata": {},
   "source": [
    "The first step is to separate the data in training and test set. The training set is the data we will use to train the model and let it learn. Then, we evaluate the performance in the test data. This approach is needed in order to avoid that the method \"overfit\", that is, that it adapts too much to the data it sees but it is not able to adapt to new data. "
   ]
  },
  {
   "cell_type": "markdown",
   "metadata": {},
   "source": [
    "First, we import some useful packages"
   ]
  },
  {
   "cell_type": "code",
   "execution_count": 29,
   "metadata": {},
   "outputs": [],
   "source": [
    "## Using machine learning models\n",
    "\n",
    "# We import the necessary packages. These ones are already included in the Python distribution, so you don't need to install them\n",
    "import itertools\n",
    "import random"
   ]
  },
  {
   "cell_type": "markdown",
   "metadata": {},
   "source": [
    "Now we split the data as explained. For that, we split the data based on the source-destination pair. We select 70% of the pairs as training data and the remaining 30% as test data. "
   ]
  },
  {
   "cell_type": "code",
   "execution_count": 30,
   "metadata": {},
   "outputs": [],
   "source": [
    "## First we randomize the dataset and then split it into training and testing sets before applying the models\n",
    "df2 = analysis_df.copy() # Making a copy of the data\n",
    "\n",
    "## First of all, we select a subset of source-destination pairs for training and the rest for testing the training.\n",
    "test_indices  = []\n",
    "train_indices = []\n",
    "        \n",
    "# We obtain the identifiers for source and destination\n",
    "array1 = df2['nprb_id'].unique()\n",
    "array2 = df2['dst_addr'].unique()\n",
    "\n",
    "# Creating all possible pairs of source - destination\n",
    "pairs = list(itertools.product(array1, array2))\n",
    "\n",
    "# Randomly selecting the 30% of those pairs for testing\n",
    "num_test_pairs = int(len(pairs)/3)\n",
    "test_pairs     = random.sample(pairs, num_test_pairs)\n",
    "\n",
    "# Creating separate lists\n",
    "test_list  = test_pairs\n",
    "training_list = pairs.copy()\n",
    "\n",
    "# Removing selected pairs from the original list\n",
    "for pair in test_list:\n",
    "    training_list.remove(pair)\n",
    "    "
   ]
  },
  {
   "cell_type": "markdown",
   "metadata": {},
   "source": [
    "Once we have randomly selected the pairs, we create two different dataframes. "
   ]
  },
  {
   "cell_type": "code",
   "execution_count": 31,
   "metadata": {},
   "outputs": [],
   "source": [
    "## Retrieving training data\n",
    "train_dfs = []\n",
    "for i, k in training_list:\n",
    "    # Get the data from the dataframe corresponding to this given pair\n",
    "    temp_df = df2.loc[(df2['nprb_id'] == i) & (df2['dst_addr'] == k)]\n",
    "            \n",
    "    # Append the pair data to the selected data\n",
    "    train_dfs.append(temp_df)\n",
    "\n",
    "# Concat all training pairs' data\n",
    "train_df = pd.concat(train_dfs)\n",
    "  \n",
    "## Retrieving test data\n",
    "\n",
    "test_dfs = []\n",
    "for i, k in test_list:\n",
    "    # Get the data from the dataframe corresponding to this given pair\n",
    "    temp_df = df2.loc[(df2['nprb_id'] == i) & (df2['dst_addr'] == k)]\n",
    "            \n",
    "    # Append the pair data to the selected data\n",
    "    test_dfs.append(temp_df)\n",
    "\n",
    "test_df = pd.concat(test_dfs)\n",
    "        "
   ]
  },
  {
   "cell_type": "markdown",
   "metadata": {},
   "source": [
    "Then, we need to do a very important step: the normalization of input data. This step is very important because it impacts considerably in the performance of the algorithms. A correct normalization of the input data may make a previously useless approach into the most accurate one, since the algorithms are very sensitive to the range and variation of the data. \n"
   ]
  },
  {
   "cell_type": "markdown",
   "metadata": {},
   "source": [
    "The normalization we use is such that we obtain a variable whose mean is zero and variance is 1. \n",
    "Note that, since we can only train the method with the training data, we consider the training mean and training variance as the correct values, although that will create a (usually small) error with respect to the real mean and variance. "
   ]
  },
  {
   "cell_type": "code",
   "execution_count": 32,
   "metadata": {},
   "outputs": [],
   "source": [
    "## Normalization of input data\n",
    "\n",
    "#normalize the latency values \n",
    "train_df['normalized_latency'] = (train_df['avg'] - train_df['avg'].mean()) / train_df['avg'].std()\n",
    "test_df['normalized_latency']  = (test_df['avg']  - train_df['avg'].mean()) / train_df['avg'].std()\n",
    "\n",
    "# normalize the 'distance' column\n",
    "train_df['normalized_distance'] = (train_df['distance'] - train_df['distance'].mean()) / train_df['distance'].mean()\n",
    "test_df['normalized_distance']  = (test_df['distance']  - train_df['distance'].mean()) / train_df['distance'].mean()\n"
   ]
  },
  {
   "cell_type": "markdown",
   "metadata": {},
   "source": [
    "Once the input data is correctly structured, we can start evaluating different algorithms. \n"
   ]
  },
  {
   "cell_type": "markdown",
   "metadata": {},
   "source": [
    "We start evaluating a <b>Decision Tree<b>.\n",
    "    \n",
    "For that, we first need to import the required libraries that allow us to implement the decision tree learning without re-implementing it again. \n",
    "    "
   ]
  },
  {
   "cell_type": "code",
   "execution_count": 33,
   "metadata": {},
   "outputs": [],
   "source": [
    "## Import the Machine learning libraries related to Decision trees\n",
    "from sklearn.tree import DecisionTreeRegressor\n",
    "from sklearn.metrics import mean_squared_error"
   ]
  },
  {
   "cell_type": "markdown",
   "metadata": {},
   "source": [
    "Next, we obtain the input data and the \"labels\" (correct output values) for train and test. Generally, X represents the input and Y the output. \n"
   ]
  },
  {
   "cell_type": "code",
   "execution_count": 34,
   "metadata": {},
   "outputs": [],
   "source": [
    "# Select your features and target\n",
    "X_train = train_df['normalized_distance'].values.reshape(-1,1)\n",
    "y_train = train_df['normalized_latency'].values\n",
    "\n",
    "X_test = test_df['normalized_distance'].values.reshape(-1,1)\n",
    "y_test = test_df['normalized_latency'].values"
   ]
  },
  {
   "cell_type": "markdown",
   "metadata": {},
   "source": [
    "We can train the decision tree. Since the value we want to predict (latency) is continuous, we need a regressor.\n",
    "In the next lines, we fit the model to our training data, which consists on optimizing the model parameters to reduce the error of the prediction for the training data. "
   ]
  },
  {
   "cell_type": "code",
   "execution_count": 35,
   "metadata": {},
   "outputs": [
    {
     "data": {
      "text/html": [
       "<style>#sk-container-id-1 {color: black;background-color: white;}#sk-container-id-1 pre{padding: 0;}#sk-container-id-1 div.sk-toggleable {background-color: white;}#sk-container-id-1 label.sk-toggleable__label {cursor: pointer;display: block;width: 100%;margin-bottom: 0;padding: 0.3em;box-sizing: border-box;text-align: center;}#sk-container-id-1 label.sk-toggleable__label-arrow:before {content: \"▸\";float: left;margin-right: 0.25em;color: #696969;}#sk-container-id-1 label.sk-toggleable__label-arrow:hover:before {color: black;}#sk-container-id-1 div.sk-estimator:hover label.sk-toggleable__label-arrow:before {color: black;}#sk-container-id-1 div.sk-toggleable__content {max-height: 0;max-width: 0;overflow: hidden;text-align: left;background-color: #f0f8ff;}#sk-container-id-1 div.sk-toggleable__content pre {margin: 0.2em;color: black;border-radius: 0.25em;background-color: #f0f8ff;}#sk-container-id-1 input.sk-toggleable__control:checked~div.sk-toggleable__content {max-height: 200px;max-width: 100%;overflow: auto;}#sk-container-id-1 input.sk-toggleable__control:checked~label.sk-toggleable__label-arrow:before {content: \"▾\";}#sk-container-id-1 div.sk-estimator input.sk-toggleable__control:checked~label.sk-toggleable__label {background-color: #d4ebff;}#sk-container-id-1 div.sk-label input.sk-toggleable__control:checked~label.sk-toggleable__label {background-color: #d4ebff;}#sk-container-id-1 input.sk-hidden--visually {border: 0;clip: rect(1px 1px 1px 1px);clip: rect(1px, 1px, 1px, 1px);height: 1px;margin: -1px;overflow: hidden;padding: 0;position: absolute;width: 1px;}#sk-container-id-1 div.sk-estimator {font-family: monospace;background-color: #f0f8ff;border: 1px dotted black;border-radius: 0.25em;box-sizing: border-box;margin-bottom: 0.5em;}#sk-container-id-1 div.sk-estimator:hover {background-color: #d4ebff;}#sk-container-id-1 div.sk-parallel-item::after {content: \"\";width: 100%;border-bottom: 1px solid gray;flex-grow: 1;}#sk-container-id-1 div.sk-label:hover label.sk-toggleable__label {background-color: #d4ebff;}#sk-container-id-1 div.sk-serial::before {content: \"\";position: absolute;border-left: 1px solid gray;box-sizing: border-box;top: 0;bottom: 0;left: 50%;z-index: 0;}#sk-container-id-1 div.sk-serial {display: flex;flex-direction: column;align-items: center;background-color: white;padding-right: 0.2em;padding-left: 0.2em;position: relative;}#sk-container-id-1 div.sk-item {position: relative;z-index: 1;}#sk-container-id-1 div.sk-parallel {display: flex;align-items: stretch;justify-content: center;background-color: white;position: relative;}#sk-container-id-1 div.sk-item::before, #sk-container-id-1 div.sk-parallel-item::before {content: \"\";position: absolute;border-left: 1px solid gray;box-sizing: border-box;top: 0;bottom: 0;left: 50%;z-index: -1;}#sk-container-id-1 div.sk-parallel-item {display: flex;flex-direction: column;z-index: 1;position: relative;background-color: white;}#sk-container-id-1 div.sk-parallel-item:first-child::after {align-self: flex-end;width: 50%;}#sk-container-id-1 div.sk-parallel-item:last-child::after {align-self: flex-start;width: 50%;}#sk-container-id-1 div.sk-parallel-item:only-child::after {width: 0;}#sk-container-id-1 div.sk-dashed-wrapped {border: 1px dashed gray;margin: 0 0.4em 0.5em 0.4em;box-sizing: border-box;padding-bottom: 0.4em;background-color: white;}#sk-container-id-1 div.sk-label label {font-family: monospace;font-weight: bold;display: inline-block;line-height: 1.2em;}#sk-container-id-1 div.sk-label-container {text-align: center;}#sk-container-id-1 div.sk-container {/* jupyter's `normalize.less` sets `[hidden] { display: none; }` but bootstrap.min.css set `[hidden] { display: none !important; }` so we also need the `!important` here to be able to override the default hidden behavior on the sphinx rendered scikit-learn.org. See: https://github.com/scikit-learn/scikit-learn/issues/21755 */display: inline-block !important;position: relative;}#sk-container-id-1 div.sk-text-repr-fallback {display: none;}</style><div id=\"sk-container-id-1\" class=\"sk-top-container\"><div class=\"sk-text-repr-fallback\"><pre>DecisionTreeRegressor()</pre><b>In a Jupyter environment, please rerun this cell to show the HTML representation or trust the notebook. <br />On GitHub, the HTML representation is unable to render, please try loading this page with nbviewer.org.</b></div><div class=\"sk-container\" hidden><div class=\"sk-item\"><div class=\"sk-estimator sk-toggleable\"><input class=\"sk-toggleable__control sk-hidden--visually\" id=\"sk-estimator-id-1\" type=\"checkbox\" checked><label for=\"sk-estimator-id-1\" class=\"sk-toggleable__label sk-toggleable__label-arrow\">DecisionTreeRegressor</label><div class=\"sk-toggleable__content\"><pre>DecisionTreeRegressor()</pre></div></div></div></div></div>"
      ],
      "text/plain": [
       "DecisionTreeRegressor()"
      ]
     },
     "execution_count": 35,
     "metadata": {},
     "output_type": "execute_result"
    }
   ],
   "source": [
    "## Create a Decision Tree Regressor\n",
    "model = DecisionTreeRegressor()\n",
    "## Train the model\n",
    "model.fit(X_train, y_train)"
   ]
  },
  {
   "cell_type": "markdown",
   "metadata": {},
   "source": [
    "As we can see, it is very simple with the available libraries. \n",
    "We can also verify the performance of this decision tree"
   ]
  },
  {
   "cell_type": "code",
   "execution_count": 36,
   "metadata": {},
   "outputs": [
    {
     "name": "stdout",
     "output_type": "stream",
     "text": [
      "Mean Squared Error of the decision tree: 0.34\n"
     ]
    }
   ],
   "source": [
    "## Make predictions on the testing set\n",
    "y_pred = model.predict(X_test)\n",
    "\n",
    "# Evaluate the accuracy of the model\n",
    "mse_dt = mean_squared_error(y_test, y_pred)\n",
    "print(f\"Mean Squared Error of the decision tree: {mse_dt:.2f}\")"
   ]
  },
  {
   "cell_type": "markdown",
   "metadata": {},
   "source": [
    "Note that the MSE above is normalized because the inputs are normalized. We can denormalize it to obtain:"
   ]
  },
  {
   "cell_type": "code",
   "execution_count": 37,
   "metadata": {},
   "outputs": [
    {
     "name": "stdout",
     "output_type": "stream",
     "text": [
      "Mean Squared Error of the decision tree: 11.45 ms\n"
     ]
    }
   ],
   "source": [
    "print(f\"Mean Squared Error of the decision tree: {mse_dt*train_df['distance'].mean():.2f} ms\")"
   ]
  },
  {
   "cell_type": "markdown",
   "metadata": {},
   "source": [
    "It is a bit difficult to understand what is going on behind the code above. \n",
    "\n",
    "<b>We can also visualize the tree!<b>"
   ]
  },
  {
   "cell_type": "code",
   "execution_count": 38,
   "metadata": {},
   "outputs": [
    {
     "data": {
      "image/svg+xml": [
       "<?xml version=\"1.0\" encoding=\"UTF-8\" standalone=\"no\"?>\n",
       "<!DOCTYPE svg PUBLIC \"-//W3C//DTD SVG 1.1//EN\"\n",
       " \"http://www.w3.org/Graphics/SVG/1.1/DTD/svg11.dtd\">\n",
       "<!-- Generated by graphviz version 2.50.0 (0)\n",
       " -->\n",
       "<!-- Title: Tree Pages: 1 -->\n",
       "<svg width=\"2173pt\" height=\"685pt\"\n",
       " viewBox=\"0.00 0.00 2172.50 685.00\" xmlns=\"http://www.w3.org/2000/svg\" xmlns:xlink=\"http://www.w3.org/1999/xlink\">\n",
       "<g id=\"graph0\" class=\"graph\" transform=\"scale(1 1) rotate(0) translate(4 681)\">\n",
       "<title>Tree</title>\n",
       "<polygon fill=\"white\" stroke=\"transparent\" points=\"-4,4 -4,-681 2168.5,-681 2168.5,4 -4,4\"/>\n",
       "<!-- 0 -->\n",
       "<g id=\"node1\" class=\"node\">\n",
       "<title>0</title>\n",
       "<path fill=\"#f7dbc6\" stroke=\"black\" d=\"M1383,-677C1383,-677 1271,-677 1271,-677 1265,-677 1259,-671 1259,-665 1259,-665 1259,-621 1259,-621 1259,-615 1265,-609 1271,-609 1271,-609 1383,-609 1383,-609 1389,-609 1395,-615 1395,-621 1395,-621 1395,-665 1395,-665 1395,-671 1389,-677 1383,-677\"/>\n",
       "<text text-anchor=\"middle\" x=\"1327\" y=\"-661.8\" font-family=\"Helvetica,sans-Serif\" font-size=\"14.00\">distance &lt;= 0.234</text>\n",
       "<text text-anchor=\"middle\" x=\"1327\" y=\"-646.8\" font-family=\"Helvetica,sans-Serif\" font-size=\"14.00\">squared_error = 1.0</text>\n",
       "<text text-anchor=\"middle\" x=\"1327\" y=\"-631.8\" font-family=\"Helvetica,sans-Serif\" font-size=\"14.00\">samples = 11370</text>\n",
       "<text text-anchor=\"middle\" x=\"1327\" y=\"-616.8\" font-family=\"Helvetica,sans-Serif\" font-size=\"14.00\">value = 0.0</text>\n",
       "</g>\n",
       "<!-- 1 -->\n",
       "<g id=\"node2\" class=\"node\">\n",
       "<title>1</title>\n",
       "<path fill=\"#fcf2eb\" stroke=\"black\" d=\"M1137.5,-573C1137.5,-573 1010.5,-573 1010.5,-573 1004.5,-573 998.5,-567 998.5,-561 998.5,-561 998.5,-517 998.5,-517 998.5,-511 1004.5,-505 1010.5,-505 1010.5,-505 1137.5,-505 1137.5,-505 1143.5,-505 1149.5,-511 1149.5,-517 1149.5,-517 1149.5,-561 1149.5,-561 1149.5,-567 1143.5,-573 1137.5,-573\"/>\n",
       "<text text-anchor=\"middle\" x=\"1074\" y=\"-557.8\" font-family=\"Helvetica,sans-Serif\" font-size=\"14.00\">distance &lt;= &#45;0.642</text>\n",
       "<text text-anchor=\"middle\" x=\"1074\" y=\"-542.8\" font-family=\"Helvetica,sans-Serif\" font-size=\"14.00\">squared_error = 0.047</text>\n",
       "<text text-anchor=\"middle\" x=\"1074\" y=\"-527.8\" font-family=\"Helvetica,sans-Serif\" font-size=\"14.00\">samples = 8047</text>\n",
       "<text text-anchor=\"middle\" x=\"1074\" y=\"-512.8\" font-family=\"Helvetica,sans-Serif\" font-size=\"14.00\">value = &#45;0.591</text>\n",
       "</g>\n",
       "<!-- 0&#45;&gt;1 -->\n",
       "<g id=\"edge1\" class=\"edge\">\n",
       "<title>0&#45;&gt;1</title>\n",
       "<path fill=\"none\" stroke=\"black\" d=\"M1258.87,-614.53C1228.23,-602.18 1191.74,-587.47 1159.31,-574.39\"/>\n",
       "<polygon fill=\"black\" stroke=\"black\" points=\"1160.42,-571.07 1149.83,-570.57 1157.8,-577.56 1160.42,-571.07\"/>\n",
       "<text text-anchor=\"middle\" x=\"1159.62\" y=\"-589.88\" font-family=\"Helvetica,sans-Serif\" font-size=\"14.00\">True</text>\n",
       "</g>\n",
       "<!-- 28 -->\n",
       "<g id=\"node29\" class=\"node\">\n",
       "<title>28</title>\n",
       "<path fill=\"#eca26c\" stroke=\"black\" d=\"M1644.5,-573C1644.5,-573 1517.5,-573 1517.5,-573 1511.5,-573 1505.5,-567 1505.5,-561 1505.5,-561 1505.5,-517 1505.5,-517 1505.5,-511 1511.5,-505 1517.5,-505 1517.5,-505 1644.5,-505 1644.5,-505 1650.5,-505 1656.5,-511 1656.5,-517 1656.5,-517 1656.5,-561 1656.5,-561 1656.5,-567 1650.5,-573 1644.5,-573\"/>\n",
       "<text text-anchor=\"middle\" x=\"1581\" y=\"-557.8\" font-family=\"Helvetica,sans-Serif\" font-size=\"14.00\">distance &lt;= 1.222</text>\n",
       "<text text-anchor=\"middle\" x=\"1581\" y=\"-542.8\" font-family=\"Helvetica,sans-Serif\" font-size=\"14.00\">squared_error = 0.413</text>\n",
       "<text text-anchor=\"middle\" x=\"1581\" y=\"-527.8\" font-family=\"Helvetica,sans-Serif\" font-size=\"14.00\">samples = 3323</text>\n",
       "<text text-anchor=\"middle\" x=\"1581\" y=\"-512.8\" font-family=\"Helvetica,sans-Serif\" font-size=\"14.00\">value = 1.431</text>\n",
       "</g>\n",
       "<!-- 0&#45;&gt;28 -->\n",
       "<g id=\"edge28\" class=\"edge\">\n",
       "<title>0&#45;&gt;28</title>\n",
       "<path fill=\"none\" stroke=\"black\" d=\"M1395.07,-614.67C1425.96,-602.26 1462.84,-587.45 1495.57,-574.31\"/>\n",
       "<polygon fill=\"black\" stroke=\"black\" points=\"1497.16,-577.44 1505.13,-570.47 1494.55,-570.94 1497.16,-577.44\"/>\n",
       "<text text-anchor=\"middle\" x=\"1495.32\" y=\"-589.76\" font-family=\"Helvetica,sans-Serif\" font-size=\"14.00\">False</text>\n",
       "</g>\n",
       "<!-- 2 -->\n",
       "<g id=\"node3\" class=\"node\">\n",
       "<title>2</title>\n",
       "<path fill=\"#fef8f4\" stroke=\"black\" d=\"M634.5,-469C634.5,-469 507.5,-469 507.5,-469 501.5,-469 495.5,-463 495.5,-457 495.5,-457 495.5,-413 495.5,-413 495.5,-407 501.5,-401 507.5,-401 507.5,-401 634.5,-401 634.5,-401 640.5,-401 646.5,-407 646.5,-413 646.5,-413 646.5,-457 646.5,-457 646.5,-463 640.5,-469 634.5,-469\"/>\n",
       "<text text-anchor=\"middle\" x=\"571\" y=\"-453.8\" font-family=\"Helvetica,sans-Serif\" font-size=\"14.00\">distance &lt;= &#45;0.825</text>\n",
       "<text text-anchor=\"middle\" x=\"571\" y=\"-438.8\" font-family=\"Helvetica,sans-Serif\" font-size=\"14.00\">squared_error = 0.009</text>\n",
       "<text text-anchor=\"middle\" x=\"571\" y=\"-423.8\" font-family=\"Helvetica,sans-Serif\" font-size=\"14.00\">samples = 4608</text>\n",
       "<text text-anchor=\"middle\" x=\"571\" y=\"-408.8\" font-family=\"Helvetica,sans-Serif\" font-size=\"14.00\">value = &#45;0.748</text>\n",
       "</g>\n",
       "<!-- 1&#45;&gt;2 -->\n",
       "<g id=\"edge2\" class=\"edge\">\n",
       "<title>1&#45;&gt;2</title>\n",
       "<path fill=\"none\" stroke=\"black\" d=\"M998.42,-522.67C906.77,-504.09 752.68,-472.84 656.7,-453.38\"/>\n",
       "<polygon fill=\"black\" stroke=\"black\" points=\"657.23,-449.91 646.73,-451.36 655.84,-456.77 657.23,-449.91\"/>\n",
       "</g>\n",
       "<!-- 17 -->\n",
       "<g id=\"node18\" class=\"node\">\n",
       "<title>17</title>\n",
       "<path fill=\"#fbeade\" stroke=\"black\" d=\"M1137.5,-469C1137.5,-469 1010.5,-469 1010.5,-469 1004.5,-469 998.5,-463 998.5,-457 998.5,-457 998.5,-413 998.5,-413 998.5,-407 1004.5,-401 1010.5,-401 1010.5,-401 1137.5,-401 1137.5,-401 1143.5,-401 1149.5,-407 1149.5,-413 1149.5,-413 1149.5,-457 1149.5,-457 1149.5,-463 1143.5,-469 1137.5,-469\"/>\n",
       "<text text-anchor=\"middle\" x=\"1074\" y=\"-453.8\" font-family=\"Helvetica,sans-Serif\" font-size=\"14.00\">distance &lt;= &#45;0.308</text>\n",
       "<text text-anchor=\"middle\" x=\"1074\" y=\"-438.8\" font-family=\"Helvetica,sans-Serif\" font-size=\"14.00\">squared_error = 0.022</text>\n",
       "<text text-anchor=\"middle\" x=\"1074\" y=\"-423.8\" font-family=\"Helvetica,sans-Serif\" font-size=\"14.00\">samples = 3439</text>\n",
       "<text text-anchor=\"middle\" x=\"1074\" y=\"-408.8\" font-family=\"Helvetica,sans-Serif\" font-size=\"14.00\">value = &#45;0.381</text>\n",
       "</g>\n",
       "<!-- 1&#45;&gt;17 -->\n",
       "<g id=\"edge17\" class=\"edge\">\n",
       "<title>1&#45;&gt;17</title>\n",
       "<path fill=\"none\" stroke=\"black\" d=\"M1074,-504.88C1074,-496.78 1074,-487.98 1074,-479.47\"/>\n",
       "<polygon fill=\"black\" stroke=\"black\" points=\"1077.5,-479.3 1074,-469.3 1070.5,-479.3 1077.5,-479.3\"/>\n",
       "</g>\n",
       "<!-- 3 -->\n",
       "<g id=\"node4\" class=\"node\">\n",
       "<title>3</title>\n",
       "<path fill=\"#fefaf7\" stroke=\"black\" d=\"M373.5,-365C373.5,-365 254.5,-365 254.5,-365 248.5,-365 242.5,-359 242.5,-353 242.5,-353 242.5,-309 242.5,-309 242.5,-303 248.5,-297 254.5,-297 254.5,-297 373.5,-297 373.5,-297 379.5,-297 385.5,-303 385.5,-309 385.5,-309 385.5,-353 385.5,-353 385.5,-359 379.5,-365 373.5,-365\"/>\n",
       "<text text-anchor=\"middle\" x=\"314\" y=\"-349.8\" font-family=\"Helvetica,sans-Serif\" font-size=\"14.00\">distance &lt;= &#45;0.881</text>\n",
       "<text text-anchor=\"middle\" x=\"314\" y=\"-334.8\" font-family=\"Helvetica,sans-Serif\" font-size=\"14.00\">squared_error = 0.01</text>\n",
       "<text text-anchor=\"middle\" x=\"314\" y=\"-319.8\" font-family=\"Helvetica,sans-Serif\" font-size=\"14.00\">samples = 2304</text>\n",
       "<text text-anchor=\"middle\" x=\"314\" y=\"-304.8\" font-family=\"Helvetica,sans-Serif\" font-size=\"14.00\">value = &#45;0.79</text>\n",
       "</g>\n",
       "<!-- 2&#45;&gt;3 -->\n",
       "<g id=\"edge3\" class=\"edge\">\n",
       "<title>2&#45;&gt;3</title>\n",
       "<path fill=\"none\" stroke=\"black\" d=\"M495.28,-403.95C463.75,-391.43 427.08,-376.88 395.01,-364.15\"/>\n",
       "<polygon fill=\"black\" stroke=\"black\" points=\"396.24,-360.87 385.65,-360.44 393.66,-367.38 396.24,-360.87\"/>\n",
       "</g>\n",
       "<!-- 10 -->\n",
       "<g id=\"node11\" class=\"node\">\n",
       "<title>10</title>\n",
       "<path fill=\"#fdf7f2\" stroke=\"black\" d=\"M634.5,-365C634.5,-365 507.5,-365 507.5,-365 501.5,-365 495.5,-359 495.5,-353 495.5,-353 495.5,-309 495.5,-309 495.5,-303 501.5,-297 507.5,-297 507.5,-297 634.5,-297 634.5,-297 640.5,-297 646.5,-303 646.5,-309 646.5,-309 646.5,-353 646.5,-353 646.5,-359 640.5,-365 634.5,-365\"/>\n",
       "<text text-anchor=\"middle\" x=\"571\" y=\"-349.8\" font-family=\"Helvetica,sans-Serif\" font-size=\"14.00\">distance &lt;= &#45;0.682</text>\n",
       "<text text-anchor=\"middle\" x=\"571\" y=\"-334.8\" font-family=\"Helvetica,sans-Serif\" font-size=\"14.00\">squared_error = 0.004</text>\n",
       "<text text-anchor=\"middle\" x=\"571\" y=\"-319.8\" font-family=\"Helvetica,sans-Serif\" font-size=\"14.00\">samples = 2304</text>\n",
       "<text text-anchor=\"middle\" x=\"571\" y=\"-304.8\" font-family=\"Helvetica,sans-Serif\" font-size=\"14.00\">value = &#45;0.705</text>\n",
       "</g>\n",
       "<!-- 2&#45;&gt;10 -->\n",
       "<g id=\"edge10\" class=\"edge\">\n",
       "<title>2&#45;&gt;10</title>\n",
       "<path fill=\"none\" stroke=\"black\" d=\"M571,-400.88C571,-392.78 571,-383.98 571,-375.47\"/>\n",
       "<polygon fill=\"black\" stroke=\"black\" points=\"574.5,-375.3 571,-365.3 567.5,-375.3 574.5,-375.3\"/>\n",
       "</g>\n",
       "<!-- 4 -->\n",
       "<g id=\"node5\" class=\"node\">\n",
       "<title>4</title>\n",
       "<path fill=\"#fdf5ef\" stroke=\"black\" d=\"M208.5,-253.5C208.5,-253.5 81.5,-253.5 81.5,-253.5 75.5,-253.5 69.5,-247.5 69.5,-241.5 69.5,-241.5 69.5,-212.5 69.5,-212.5 69.5,-206.5 75.5,-200.5 81.5,-200.5 81.5,-200.5 208.5,-200.5 208.5,-200.5 214.5,-200.5 220.5,-206.5 220.5,-212.5 220.5,-212.5 220.5,-241.5 220.5,-241.5 220.5,-247.5 214.5,-253.5 208.5,-253.5\"/>\n",
       "<text text-anchor=\"middle\" x=\"145\" y=\"-238.3\" font-family=\"Helvetica,sans-Serif\" font-size=\"14.00\">squared_error = 0.004</text>\n",
       "<text text-anchor=\"middle\" x=\"145\" y=\"-223.3\" font-family=\"Helvetica,sans-Serif\" font-size=\"14.00\">samples = 576</text>\n",
       "<text text-anchor=\"middle\" x=\"145\" y=\"-208.3\" font-family=\"Helvetica,sans-Serif\" font-size=\"14.00\">value = &#45;0.656</text>\n",
       "</g>\n",
       "<!-- 3&#45;&gt;4 -->\n",
       "<g id=\"edge4\" class=\"edge\">\n",
       "<title>3&#45;&gt;4</title>\n",
       "<path fill=\"none\" stroke=\"black\" d=\"M259.13,-296.88C238.81,-284.62 215.88,-270.78 195.93,-258.74\"/>\n",
       "<polygon fill=\"black\" stroke=\"black\" points=\"197.65,-255.69 187.28,-253.52 194.04,-261.68 197.65,-255.69\"/>\n",
       "</g>\n",
       "<!-- 5 -->\n",
       "<g id=\"node6\" class=\"node\">\n",
       "<title>5</title>\n",
       "<path fill=\"#fefcfa\" stroke=\"black\" d=\"M377.5,-261C377.5,-261 250.5,-261 250.5,-261 244.5,-261 238.5,-255 238.5,-249 238.5,-249 238.5,-205 238.5,-205 238.5,-199 244.5,-193 250.5,-193 250.5,-193 377.5,-193 377.5,-193 383.5,-193 389.5,-199 389.5,-205 389.5,-205 389.5,-249 389.5,-249 389.5,-255 383.5,-261 377.5,-261\"/>\n",
       "<text text-anchor=\"middle\" x=\"314\" y=\"-245.8\" font-family=\"Helvetica,sans-Serif\" font-size=\"14.00\">distance &lt;= &#45;0.865</text>\n",
       "<text text-anchor=\"middle\" x=\"314\" y=\"-230.8\" font-family=\"Helvetica,sans-Serif\" font-size=\"14.00\">squared_error = 0.005</text>\n",
       "<text text-anchor=\"middle\" x=\"314\" y=\"-215.8\" font-family=\"Helvetica,sans-Serif\" font-size=\"14.00\">samples = 1728</text>\n",
       "<text text-anchor=\"middle\" x=\"314\" y=\"-200.8\" font-family=\"Helvetica,sans-Serif\" font-size=\"14.00\">value = &#45;0.835</text>\n",
       "</g>\n",
       "<!-- 3&#45;&gt;5 -->\n",
       "<g id=\"edge5\" class=\"edge\">\n",
       "<title>3&#45;&gt;5</title>\n",
       "<path fill=\"none\" stroke=\"black\" d=\"M314,-296.88C314,-288.78 314,-279.98 314,-271.47\"/>\n",
       "<polygon fill=\"black\" stroke=\"black\" points=\"317.5,-271.3 314,-261.3 310.5,-271.3 317.5,-271.3\"/>\n",
       "</g>\n",
       "<!-- 6 -->\n",
       "<g id=\"node7\" class=\"node\">\n",
       "<title>6</title>\n",
       "<path fill=\"#fffdfc\" stroke=\"black\" d=\"M208.5,-157C208.5,-157 81.5,-157 81.5,-157 75.5,-157 69.5,-151 69.5,-145 69.5,-145 69.5,-101 69.5,-101 69.5,-95 75.5,-89 81.5,-89 81.5,-89 208.5,-89 208.5,-89 214.5,-89 220.5,-95 220.5,-101 220.5,-101 220.5,-145 220.5,-145 220.5,-151 214.5,-157 208.5,-157\"/>\n",
       "<text text-anchor=\"middle\" x=\"145\" y=\"-141.8\" font-family=\"Helvetica,sans-Serif\" font-size=\"14.00\">distance &lt;= &#45;0.869</text>\n",
       "<text text-anchor=\"middle\" x=\"145\" y=\"-126.8\" font-family=\"Helvetica,sans-Serif\" font-size=\"14.00\">squared_error = 0.003</text>\n",
       "<text text-anchor=\"middle\" x=\"145\" y=\"-111.8\" font-family=\"Helvetica,sans-Serif\" font-size=\"14.00\">samples = 1152</text>\n",
       "<text text-anchor=\"middle\" x=\"145\" y=\"-96.8\" font-family=\"Helvetica,sans-Serif\" font-size=\"14.00\">value = &#45;0.864</text>\n",
       "</g>\n",
       "<!-- 5&#45;&gt;6 -->\n",
       "<g id=\"edge6\" class=\"edge\">\n",
       "<title>5&#45;&gt;6</title>\n",
       "<path fill=\"none\" stroke=\"black\" d=\"M259.13,-192.88C242.96,-183.12 225.14,-172.37 208.47,-162.31\"/>\n",
       "<polygon fill=\"black\" stroke=\"black\" points=\"210.25,-159.3 199.88,-157.12 206.64,-165.29 210.25,-159.3\"/>\n",
       "</g>\n",
       "<!-- 9 -->\n",
       "<g id=\"node10\" class=\"node\">\n",
       "<title>9</title>\n",
       "<path fill=\"#fef9f6\" stroke=\"black\" d=\"M377.5,-149.5C377.5,-149.5 250.5,-149.5 250.5,-149.5 244.5,-149.5 238.5,-143.5 238.5,-137.5 238.5,-137.5 238.5,-108.5 238.5,-108.5 238.5,-102.5 244.5,-96.5 250.5,-96.5 250.5,-96.5 377.5,-96.5 377.5,-96.5 383.5,-96.5 389.5,-102.5 389.5,-108.5 389.5,-108.5 389.5,-137.5 389.5,-137.5 389.5,-143.5 383.5,-149.5 377.5,-149.5\"/>\n",
       "<text text-anchor=\"middle\" x=\"314\" y=\"-134.3\" font-family=\"Helvetica,sans-Serif\" font-size=\"14.00\">squared_error = 0.003</text>\n",
       "<text text-anchor=\"middle\" x=\"314\" y=\"-119.3\" font-family=\"Helvetica,sans-Serif\" font-size=\"14.00\">samples = 576</text>\n",
       "<text text-anchor=\"middle\" x=\"314\" y=\"-104.3\" font-family=\"Helvetica,sans-Serif\" font-size=\"14.00\">value = &#45;0.775</text>\n",
       "</g>\n",
       "<!-- 5&#45;&gt;9 -->\n",
       "<g id=\"edge9\" class=\"edge\">\n",
       "<title>5&#45;&gt;9</title>\n",
       "<path fill=\"none\" stroke=\"black\" d=\"M314,-192.88C314,-182.33 314,-170.6 314,-159.85\"/>\n",
       "<polygon fill=\"black\" stroke=\"black\" points=\"317.5,-159.52 314,-149.52 310.5,-159.52 317.5,-159.52\"/>\n",
       "</g>\n",
       "<!-- 7 -->\n",
       "<g id=\"node8\" class=\"node\">\n",
       "<title>7</title>\n",
       "<path fill=\"#fefbf8\" stroke=\"black\" d=\"M124,-53C124,-53 12,-53 12,-53 6,-53 0,-47 0,-41 0,-41 0,-12 0,-12 0,-6 6,0 12,0 12,0 124,0 124,0 130,0 136,-6 136,-12 136,-12 136,-41 136,-41 136,-47 130,-53 124,-53\"/>\n",
       "<text text-anchor=\"middle\" x=\"68\" y=\"-37.8\" font-family=\"Helvetica,sans-Serif\" font-size=\"14.00\">squared_error = 0.0</text>\n",
       "<text text-anchor=\"middle\" x=\"68\" y=\"-22.8\" font-family=\"Helvetica,sans-Serif\" font-size=\"14.00\">samples = 576</text>\n",
       "<text text-anchor=\"middle\" x=\"68\" y=\"-7.8\" font-family=\"Helvetica,sans-Serif\" font-size=\"14.00\">value = &#45;0.812</text>\n",
       "</g>\n",
       "<!-- 6&#45;&gt;7 -->\n",
       "<g id=\"edge7\" class=\"edge\">\n",
       "<title>6&#45;&gt;7</title>\n",
       "<path fill=\"none\" stroke=\"black\" d=\"M118.07,-88.95C110.76,-79.98 102.85,-70.27 95.51,-61.26\"/>\n",
       "<polygon fill=\"black\" stroke=\"black\" points=\"98,-58.78 88.97,-53.24 92.57,-63.2 98,-58.78\"/>\n",
       "</g>\n",
       "<!-- 8 -->\n",
       "<g id=\"node9\" class=\"node\">\n",
       "<title>8</title>\n",
       "<path fill=\"#ffffff\" stroke=\"black\" d=\"M278,-53C278,-53 166,-53 166,-53 160,-53 154,-47 154,-41 154,-41 154,-12 154,-12 154,-6 160,0 166,0 166,0 278,0 278,0 284,0 290,-6 290,-12 290,-12 290,-41 290,-41 290,-47 284,-53 278,-53\"/>\n",
       "<text text-anchor=\"middle\" x=\"222\" y=\"-37.8\" font-family=\"Helvetica,sans-Serif\" font-size=\"14.00\">squared_error = 0.0</text>\n",
       "<text text-anchor=\"middle\" x=\"222\" y=\"-22.8\" font-family=\"Helvetica,sans-Serif\" font-size=\"14.00\">samples = 576</text>\n",
       "<text text-anchor=\"middle\" x=\"222\" y=\"-7.8\" font-family=\"Helvetica,sans-Serif\" font-size=\"14.00\">value = &#45;0.916</text>\n",
       "</g>\n",
       "<!-- 6&#45;&gt;8 -->\n",
       "<g id=\"edge8\" class=\"edge\">\n",
       "<title>6&#45;&gt;8</title>\n",
       "<path fill=\"none\" stroke=\"black\" d=\"M171.93,-88.95C179.24,-79.98 187.15,-70.27 194.49,-61.26\"/>\n",
       "<polygon fill=\"black\" stroke=\"black\" points=\"197.43,-63.2 201.03,-53.24 192,-58.78 197.43,-63.2\"/>\n",
       "</g>\n",
       "<!-- 11 -->\n",
       "<g id=\"node12\" class=\"node\">\n",
       "<title>11</title>\n",
       "<path fill=\"#fdf6f1\" stroke=\"black\" d=\"M553.5,-261C553.5,-261 426.5,-261 426.5,-261 420.5,-261 414.5,-255 414.5,-249 414.5,-249 414.5,-205 414.5,-205 414.5,-199 420.5,-193 426.5,-193 426.5,-193 553.5,-193 553.5,-193 559.5,-193 565.5,-199 565.5,-205 565.5,-205 565.5,-249 565.5,-249 565.5,-255 559.5,-261 553.5,-261\"/>\n",
       "<text text-anchor=\"middle\" x=\"490\" y=\"-245.8\" font-family=\"Helvetica,sans-Serif\" font-size=\"14.00\">distance &lt;= &#45;0.731</text>\n",
       "<text text-anchor=\"middle\" x=\"490\" y=\"-230.8\" font-family=\"Helvetica,sans-Serif\" font-size=\"14.00\">squared_error = 0.004</text>\n",
       "<text text-anchor=\"middle\" x=\"490\" y=\"-215.8\" font-family=\"Helvetica,sans-Serif\" font-size=\"14.00\">samples = 1728</text>\n",
       "<text text-anchor=\"middle\" x=\"490\" y=\"-200.8\" font-family=\"Helvetica,sans-Serif\" font-size=\"14.00\">value = &#45;0.687</text>\n",
       "</g>\n",
       "<!-- 10&#45;&gt;11 -->\n",
       "<g id=\"edge11\" class=\"edge\">\n",
       "<title>10&#45;&gt;11</title>\n",
       "<path fill=\"none\" stroke=\"black\" d=\"M544.7,-296.88C537.7,-288.07 530.05,-278.43 522.75,-269.24\"/>\n",
       "<polygon fill=\"black\" stroke=\"black\" points=\"525.4,-266.95 516.44,-261.3 519.92,-271.31 525.4,-266.95\"/>\n",
       "</g>\n",
       "<!-- 16 -->\n",
       "<g id=\"node17\" class=\"node\">\n",
       "<title>16</title>\n",
       "<path fill=\"#fef9f5\" stroke=\"black\" d=\"M708,-253.5C708,-253.5 596,-253.5 596,-253.5 590,-253.5 584,-247.5 584,-241.5 584,-241.5 584,-212.5 584,-212.5 584,-206.5 590,-200.5 596,-200.5 596,-200.5 708,-200.5 708,-200.5 714,-200.5 720,-206.5 720,-212.5 720,-212.5 720,-241.5 720,-241.5 720,-247.5 714,-253.5 708,-253.5\"/>\n",
       "<text text-anchor=\"middle\" x=\"652\" y=\"-238.3\" font-family=\"Helvetica,sans-Serif\" font-size=\"14.00\">squared_error = 0.0</text>\n",
       "<text text-anchor=\"middle\" x=\"652\" y=\"-223.3\" font-family=\"Helvetica,sans-Serif\" font-size=\"14.00\">samples = 576</text>\n",
       "<text text-anchor=\"middle\" x=\"652\" y=\"-208.3\" font-family=\"Helvetica,sans-Serif\" font-size=\"14.00\">value = &#45;0.761</text>\n",
       "</g>\n",
       "<!-- 10&#45;&gt;16 -->\n",
       "<g id=\"edge16\" class=\"edge\">\n",
       "<title>10&#45;&gt;16</title>\n",
       "<path fill=\"none\" stroke=\"black\" d=\"M597.3,-296.88C606.29,-285.56 616.36,-272.88 625.38,-261.52\"/>\n",
       "<polygon fill=\"black\" stroke=\"black\" points=\"628.26,-263.53 631.73,-253.52 622.77,-259.17 628.26,-263.53\"/>\n",
       "</g>\n",
       "<!-- 12 -->\n",
       "<g id=\"node13\" class=\"node\">\n",
       "<title>12</title>\n",
       "<path fill=\"#fdf7f3\" stroke=\"black\" d=\"M546.5,-157C546.5,-157 419.5,-157 419.5,-157 413.5,-157 407.5,-151 407.5,-145 407.5,-145 407.5,-101 407.5,-101 407.5,-95 413.5,-89 419.5,-89 419.5,-89 546.5,-89 546.5,-89 552.5,-89 558.5,-95 558.5,-101 558.5,-101 558.5,-145 558.5,-145 558.5,-151 552.5,-157 546.5,-157\"/>\n",
       "<text text-anchor=\"middle\" x=\"483\" y=\"-141.8\" font-family=\"Helvetica,sans-Serif\" font-size=\"14.00\">distance &lt;= &#45;0.776</text>\n",
       "<text text-anchor=\"middle\" x=\"483\" y=\"-126.8\" font-family=\"Helvetica,sans-Serif\" font-size=\"14.00\">squared_error = 0.003</text>\n",
       "<text text-anchor=\"middle\" x=\"483\" y=\"-111.8\" font-family=\"Helvetica,sans-Serif\" font-size=\"14.00\">samples = 1152</text>\n",
       "<text text-anchor=\"middle\" x=\"483\" y=\"-96.8\" font-family=\"Helvetica,sans-Serif\" font-size=\"14.00\">value = &#45;0.717</text>\n",
       "</g>\n",
       "<!-- 11&#45;&gt;12 -->\n",
       "<g id=\"edge12\" class=\"edge\">\n",
       "<title>11&#45;&gt;12</title>\n",
       "<path fill=\"none\" stroke=\"black\" d=\"M487.73,-192.88C487.17,-184.78 486.57,-175.98 485.98,-167.47\"/>\n",
       "<polygon fill=\"black\" stroke=\"black\" points=\"489.46,-167.04 485.29,-157.3 482.48,-167.52 489.46,-167.04\"/>\n",
       "</g>\n",
       "<!-- 15 -->\n",
       "<g id=\"node16\" class=\"node\">\n",
       "<title>15</title>\n",
       "<path fill=\"#fdf3ed\" stroke=\"black\" d=\"M715.5,-149.5C715.5,-149.5 588.5,-149.5 588.5,-149.5 582.5,-149.5 576.5,-143.5 576.5,-137.5 576.5,-137.5 576.5,-108.5 576.5,-108.5 576.5,-102.5 582.5,-96.5 588.5,-96.5 588.5,-96.5 715.5,-96.5 715.5,-96.5 721.5,-96.5 727.5,-102.5 727.5,-108.5 727.5,-108.5 727.5,-137.5 727.5,-137.5 727.5,-143.5 721.5,-149.5 715.5,-149.5\"/>\n",
       "<text text-anchor=\"middle\" x=\"652\" y=\"-134.3\" font-family=\"Helvetica,sans-Serif\" font-size=\"14.00\">squared_error = 0.001</text>\n",
       "<text text-anchor=\"middle\" x=\"652\" y=\"-119.3\" font-family=\"Helvetica,sans-Serif\" font-size=\"14.00\">samples = 576</text>\n",
       "<text text-anchor=\"middle\" x=\"652\" y=\"-104.3\" font-family=\"Helvetica,sans-Serif\" font-size=\"14.00\">value = &#45;0.625</text>\n",
       "</g>\n",
       "<!-- 11&#45;&gt;15 -->\n",
       "<g id=\"edge15\" class=\"edge\">\n",
       "<title>11&#45;&gt;15</title>\n",
       "<path fill=\"none\" stroke=\"black\" d=\"M542.6,-192.88C561.99,-180.68 583.86,-166.9 602.93,-154.9\"/>\n",
       "<polygon fill=\"black\" stroke=\"black\" points=\"604.87,-157.81 611.47,-149.52 601.14,-151.89 604.87,-157.81\"/>\n",
       "</g>\n",
       "<!-- 13 -->\n",
       "<g id=\"node14\" class=\"node\">\n",
       "<title>13</title>\n",
       "<path fill=\"#fdf6f1\" stroke=\"black\" d=\"M497.5,-53C497.5,-53 370.5,-53 370.5,-53 364.5,-53 358.5,-47 358.5,-41 358.5,-41 358.5,-12 358.5,-12 358.5,-6 364.5,0 370.5,0 370.5,0 497.5,0 497.5,0 503.5,0 509.5,-6 509.5,-12 509.5,-12 509.5,-41 509.5,-41 509.5,-47 503.5,-53 497.5,-53\"/>\n",
       "<text text-anchor=\"middle\" x=\"434\" y=\"-37.8\" font-family=\"Helvetica,sans-Serif\" font-size=\"14.00\">squared_error = 0.005</text>\n",
       "<text text-anchor=\"middle\" x=\"434\" y=\"-22.8\" font-family=\"Helvetica,sans-Serif\" font-size=\"14.00\">samples = 576</text>\n",
       "<text text-anchor=\"middle\" x=\"434\" y=\"-7.8\" font-family=\"Helvetica,sans-Serif\" font-size=\"14.00\">value = &#45;0.7</text>\n",
       "</g>\n",
       "<!-- 12&#45;&gt;13 -->\n",
       "<g id=\"edge13\" class=\"edge\">\n",
       "<title>12&#45;&gt;13</title>\n",
       "<path fill=\"none\" stroke=\"black\" d=\"M465.86,-88.95C461.4,-80.35 456.59,-71.06 452.08,-62.37\"/>\n",
       "<polygon fill=\"black\" stroke=\"black\" points=\"455.06,-60.5 447.34,-53.24 448.84,-63.73 455.06,-60.5\"/>\n",
       "</g>\n",
       "<!-- 14 -->\n",
       "<g id=\"node15\" class=\"node\">\n",
       "<title>14</title>\n",
       "<path fill=\"#fef8f4\" stroke=\"black\" d=\"M666.5,-53C666.5,-53 539.5,-53 539.5,-53 533.5,-53 527.5,-47 527.5,-41 527.5,-41 527.5,-12 527.5,-12 527.5,-6 533.5,0 539.5,0 539.5,0 666.5,0 666.5,0 672.5,0 678.5,-6 678.5,-12 678.5,-12 678.5,-41 678.5,-41 678.5,-47 672.5,-53 666.5,-53\"/>\n",
       "<text text-anchor=\"middle\" x=\"603\" y=\"-37.8\" font-family=\"Helvetica,sans-Serif\" font-size=\"14.00\">squared_error = 0.001</text>\n",
       "<text text-anchor=\"middle\" x=\"603\" y=\"-22.8\" font-family=\"Helvetica,sans-Serif\" font-size=\"14.00\">samples = 576</text>\n",
       "<text text-anchor=\"middle\" x=\"603\" y=\"-7.8\" font-family=\"Helvetica,sans-Serif\" font-size=\"14.00\">value = &#45;0.735</text>\n",
       "</g>\n",
       "<!-- 12&#45;&gt;14 -->\n",
       "<g id=\"edge14\" class=\"edge\">\n",
       "<title>12&#45;&gt;14</title>\n",
       "<path fill=\"none\" stroke=\"black\" d=\"M524.97,-88.95C537.05,-79.43 550.21,-69.07 562.22,-59.62\"/>\n",
       "<polygon fill=\"black\" stroke=\"black\" points=\"564.63,-62.17 570.32,-53.24 560.3,-56.67 564.63,-62.17\"/>\n",
       "</g>\n",
       "<!-- 18 -->\n",
       "<g id=\"node19\" class=\"node\">\n",
       "<title>18</title>\n",
       "<path fill=\"#fbede3\" stroke=\"black\" d=\"M1053.5,-365C1053.5,-365 926.5,-365 926.5,-365 920.5,-365 914.5,-359 914.5,-353 914.5,-353 914.5,-309 914.5,-309 914.5,-303 920.5,-297 926.5,-297 926.5,-297 1053.5,-297 1053.5,-297 1059.5,-297 1065.5,-303 1065.5,-309 1065.5,-309 1065.5,-353 1065.5,-353 1065.5,-359 1059.5,-365 1053.5,-365\"/>\n",
       "<text text-anchor=\"middle\" x=\"990\" y=\"-349.8\" font-family=\"Helvetica,sans-Serif\" font-size=\"14.00\">distance &lt;= &#45;0.51</text>\n",
       "<text text-anchor=\"middle\" x=\"990\" y=\"-334.8\" font-family=\"Helvetica,sans-Serif\" font-size=\"14.00\">squared_error = 0.008</text>\n",
       "<text text-anchor=\"middle\" x=\"990\" y=\"-319.8\" font-family=\"Helvetica,sans-Serif\" font-size=\"14.00\">samples = 2287</text>\n",
       "<text text-anchor=\"middle\" x=\"990\" y=\"-304.8\" font-family=\"Helvetica,sans-Serif\" font-size=\"14.00\">value = &#45;0.463</text>\n",
       "</g>\n",
       "<!-- 17&#45;&gt;18 -->\n",
       "<g id=\"edge18\" class=\"edge\">\n",
       "<title>17&#45;&gt;18</title>\n",
       "<path fill=\"none\" stroke=\"black\" d=\"M1046.73,-400.88C1039.47,-392.07 1031.53,-382.43 1023.96,-373.24\"/>\n",
       "<polygon fill=\"black\" stroke=\"black\" points=\"1026.48,-370.79 1017.42,-365.3 1021.08,-375.24 1026.48,-370.79\"/>\n",
       "</g>\n",
       "<!-- 25 -->\n",
       "<g id=\"node26\" class=\"node\">\n",
       "<title>25</title>\n",
       "<path fill=\"#f9e3d3\" stroke=\"black\" d=\"M1222.5,-365C1222.5,-365 1095.5,-365 1095.5,-365 1089.5,-365 1083.5,-359 1083.5,-353 1083.5,-353 1083.5,-309 1083.5,-309 1083.5,-303 1089.5,-297 1095.5,-297 1095.5,-297 1222.5,-297 1222.5,-297 1228.5,-297 1234.5,-303 1234.5,-309 1234.5,-309 1234.5,-353 1234.5,-353 1234.5,-359 1228.5,-365 1222.5,-365\"/>\n",
       "<text text-anchor=\"middle\" x=\"1159\" y=\"-349.8\" font-family=\"Helvetica,sans-Serif\" font-size=\"14.00\">distance &lt;= &#45;0.189</text>\n",
       "<text text-anchor=\"middle\" x=\"1159\" y=\"-334.8\" font-family=\"Helvetica,sans-Serif\" font-size=\"14.00\">squared_error = 0.008</text>\n",
       "<text text-anchor=\"middle\" x=\"1159\" y=\"-319.8\" font-family=\"Helvetica,sans-Serif\" font-size=\"14.00\">samples = 1152</text>\n",
       "<text text-anchor=\"middle\" x=\"1159\" y=\"-304.8\" font-family=\"Helvetica,sans-Serif\" font-size=\"14.00\">value = &#45;0.218</text>\n",
       "</g>\n",
       "<!-- 17&#45;&gt;25 -->\n",
       "<g id=\"edge25\" class=\"edge\">\n",
       "<title>17&#45;&gt;25</title>\n",
       "<path fill=\"none\" stroke=\"black\" d=\"M1101.6,-400.88C1108.95,-392.07 1116.97,-382.43 1124.64,-373.24\"/>\n",
       "<polygon fill=\"black\" stroke=\"black\" points=\"1127.54,-375.22 1131.25,-365.3 1122.16,-370.74 1127.54,-375.22\"/>\n",
       "</g>\n",
       "<!-- 19 -->\n",
       "<g id=\"node20\" class=\"node\">\n",
       "<title>19</title>\n",
       "<path fill=\"#fceee5\" stroke=\"black\" d=\"M884.5,-261C884.5,-261 757.5,-261 757.5,-261 751.5,-261 745.5,-255 745.5,-249 745.5,-249 745.5,-205 745.5,-205 745.5,-199 751.5,-193 757.5,-193 757.5,-193 884.5,-193 884.5,-193 890.5,-193 896.5,-199 896.5,-205 896.5,-205 896.5,-249 896.5,-249 896.5,-255 890.5,-261 884.5,-261\"/>\n",
       "<text text-anchor=\"middle\" x=\"821\" y=\"-245.8\" font-family=\"Helvetica,sans-Serif\" font-size=\"14.00\">distance &lt;= &#45;0.616</text>\n",
       "<text text-anchor=\"middle\" x=\"821\" y=\"-230.8\" font-family=\"Helvetica,sans-Serif\" font-size=\"14.00\">squared_error = 0.006</text>\n",
       "<text text-anchor=\"middle\" x=\"821\" y=\"-215.8\" font-family=\"Helvetica,sans-Serif\" font-size=\"14.00\">samples = 1720</text>\n",
       "<text text-anchor=\"middle\" x=\"821\" y=\"-200.8\" font-family=\"Helvetica,sans-Serif\" font-size=\"14.00\">value = &#45;0.494</text>\n",
       "</g>\n",
       "<!-- 18&#45;&gt;19 -->\n",
       "<g id=\"edge19\" class=\"edge\">\n",
       "<title>18&#45;&gt;19</title>\n",
       "<path fill=\"none\" stroke=\"black\" d=\"M935.13,-296.88C918.96,-287.12 901.14,-276.37 884.47,-266.31\"/>\n",
       "<polygon fill=\"black\" stroke=\"black\" points=\"886.25,-263.3 875.88,-261.12 882.64,-269.29 886.25,-263.3\"/>\n",
       "</g>\n",
       "<!-- 24 -->\n",
       "<g id=\"node25\" class=\"node\">\n",
       "<title>24</title>\n",
       "<path fill=\"#fbe9dd\" stroke=\"black\" d=\"M1053.5,-253.5C1053.5,-253.5 926.5,-253.5 926.5,-253.5 920.5,-253.5 914.5,-247.5 914.5,-241.5 914.5,-241.5 914.5,-212.5 914.5,-212.5 914.5,-206.5 920.5,-200.5 926.5,-200.5 926.5,-200.5 1053.5,-200.5 1053.5,-200.5 1059.5,-200.5 1065.5,-206.5 1065.5,-212.5 1065.5,-212.5 1065.5,-241.5 1065.5,-241.5 1065.5,-247.5 1059.5,-253.5 1053.5,-253.5\"/>\n",
       "<text text-anchor=\"middle\" x=\"990\" y=\"-238.3\" font-family=\"Helvetica,sans-Serif\" font-size=\"14.00\">squared_error = 0.004</text>\n",
       "<text text-anchor=\"middle\" x=\"990\" y=\"-223.3\" font-family=\"Helvetica,sans-Serif\" font-size=\"14.00\">samples = 567</text>\n",
       "<text text-anchor=\"middle\" x=\"990\" y=\"-208.3\" font-family=\"Helvetica,sans-Serif\" font-size=\"14.00\">value = &#45;0.369</text>\n",
       "</g>\n",
       "<!-- 18&#45;&gt;24 -->\n",
       "<g id=\"edge24\" class=\"edge\">\n",
       "<title>18&#45;&gt;24</title>\n",
       "<path fill=\"none\" stroke=\"black\" d=\"M990,-296.88C990,-286.33 990,-274.6 990,-263.85\"/>\n",
       "<polygon fill=\"black\" stroke=\"black\" points=\"993.5,-263.52 990,-253.52 986.5,-263.52 993.5,-263.52\"/>\n",
       "</g>\n",
       "<!-- 20 -->\n",
       "<g id=\"node21\" class=\"node\">\n",
       "<title>20</title>\n",
       "<path fill=\"#fcf0e7\" stroke=\"black\" d=\"M884.5,-149.5C884.5,-149.5 757.5,-149.5 757.5,-149.5 751.5,-149.5 745.5,-143.5 745.5,-137.5 745.5,-137.5 745.5,-108.5 745.5,-108.5 745.5,-102.5 751.5,-96.5 757.5,-96.5 757.5,-96.5 884.5,-96.5 884.5,-96.5 890.5,-96.5 896.5,-102.5 896.5,-108.5 896.5,-108.5 896.5,-137.5 896.5,-137.5 896.5,-143.5 890.5,-149.5 884.5,-149.5\"/>\n",
       "<text text-anchor=\"middle\" x=\"821\" y=\"-134.3\" font-family=\"Helvetica,sans-Serif\" font-size=\"14.00\">squared_error = 0.001</text>\n",
       "<text text-anchor=\"middle\" x=\"821\" y=\"-119.3\" font-family=\"Helvetica,sans-Serif\" font-size=\"14.00\">samples = 576</text>\n",
       "<text text-anchor=\"middle\" x=\"821\" y=\"-104.3\" font-family=\"Helvetica,sans-Serif\" font-size=\"14.00\">value = &#45;0.532</text>\n",
       "</g>\n",
       "<!-- 19&#45;&gt;20 -->\n",
       "<g id=\"edge20\" class=\"edge\">\n",
       "<title>19&#45;&gt;20</title>\n",
       "<path fill=\"none\" stroke=\"black\" d=\"M821,-192.88C821,-182.33 821,-170.6 821,-159.85\"/>\n",
       "<polygon fill=\"black\" stroke=\"black\" points=\"824.5,-159.52 821,-149.52 817.5,-159.52 824.5,-159.52\"/>\n",
       "</g>\n",
       "<!-- 21 -->\n",
       "<g id=\"node22\" class=\"node\">\n",
       "<title>21</title>\n",
       "<path fill=\"#fbede3\" stroke=\"black\" d=\"M1053.5,-157C1053.5,-157 926.5,-157 926.5,-157 920.5,-157 914.5,-151 914.5,-145 914.5,-145 914.5,-101 914.5,-101 914.5,-95 920.5,-89 926.5,-89 926.5,-89 1053.5,-89 1053.5,-89 1059.5,-89 1065.5,-95 1065.5,-101 1065.5,-101 1065.5,-145 1065.5,-145 1065.5,-151 1059.5,-157 1053.5,-157\"/>\n",
       "<text text-anchor=\"middle\" x=\"990\" y=\"-141.8\" font-family=\"Helvetica,sans-Serif\" font-size=\"14.00\">distance &lt;= &#45;0.608</text>\n",
       "<text text-anchor=\"middle\" x=\"990\" y=\"-126.8\" font-family=\"Helvetica,sans-Serif\" font-size=\"14.00\">squared_error = 0.007</text>\n",
       "<text text-anchor=\"middle\" x=\"990\" y=\"-111.8\" font-family=\"Helvetica,sans-Serif\" font-size=\"14.00\">samples = 1144</text>\n",
       "<text text-anchor=\"middle\" x=\"990\" y=\"-96.8\" font-family=\"Helvetica,sans-Serif\" font-size=\"14.00\">value = &#45;0.475</text>\n",
       "</g>\n",
       "<!-- 19&#45;&gt;21 -->\n",
       "<g id=\"edge21\" class=\"edge\">\n",
       "<title>19&#45;&gt;21</title>\n",
       "<path fill=\"none\" stroke=\"black\" d=\"M875.87,-192.88C892.04,-183.12 909.86,-172.37 926.53,-162.31\"/>\n",
       "<polygon fill=\"black\" stroke=\"black\" points=\"928.36,-165.29 935.12,-157.12 924.75,-159.3 928.36,-165.29\"/>\n",
       "</g>\n",
       "<!-- 22 -->\n",
       "<g id=\"node23\" class=\"node\">\n",
       "<title>22</title>\n",
       "<path fill=\"#fbece1\" stroke=\"black\" d=\"M970.5,-53C970.5,-53 843.5,-53 843.5,-53 837.5,-53 831.5,-47 831.5,-41 831.5,-41 831.5,-12 831.5,-12 831.5,-6 837.5,0 843.5,0 843.5,0 970.5,0 970.5,0 976.5,0 982.5,-6 982.5,-12 982.5,-12 982.5,-41 982.5,-41 982.5,-47 976.5,-53 970.5,-53\"/>\n",
       "<text text-anchor=\"middle\" x=\"907\" y=\"-37.8\" font-family=\"Helvetica,sans-Serif\" font-size=\"14.00\">squared_error = 0.002</text>\n",
       "<text text-anchor=\"middle\" x=\"907\" y=\"-22.8\" font-family=\"Helvetica,sans-Serif\" font-size=\"14.00\">samples = 576</text>\n",
       "<text text-anchor=\"middle\" x=\"907\" y=\"-7.8\" font-family=\"Helvetica,sans-Serif\" font-size=\"14.00\">value = &#45;0.435</text>\n",
       "</g>\n",
       "<!-- 21&#45;&gt;22 -->\n",
       "<g id=\"edge22\" class=\"edge\">\n",
       "<title>21&#45;&gt;22</title>\n",
       "<path fill=\"none\" stroke=\"black\" d=\"M960.97,-88.95C953.02,-79.89 944.39,-70.07 936.41,-60.99\"/>\n",
       "<polygon fill=\"black\" stroke=\"black\" points=\"938.83,-58.44 929.6,-53.24 933.57,-63.06 938.83,-58.44\"/>\n",
       "</g>\n",
       "<!-- 23 -->\n",
       "<g id=\"node24\" class=\"node\">\n",
       "<title>23</title>\n",
       "<path fill=\"#fcefe6\" stroke=\"black\" d=\"M1131.5,-53C1131.5,-53 1012.5,-53 1012.5,-53 1006.5,-53 1000.5,-47 1000.5,-41 1000.5,-41 1000.5,-12 1000.5,-12 1000.5,-6 1006.5,0 1012.5,0 1012.5,0 1131.5,0 1131.5,0 1137.5,0 1143.5,-6 1143.5,-12 1143.5,-12 1143.5,-41 1143.5,-41 1143.5,-47 1137.5,-53 1131.5,-53\"/>\n",
       "<text text-anchor=\"middle\" x=\"1072\" y=\"-37.8\" font-family=\"Helvetica,sans-Serif\" font-size=\"14.00\">squared_error = 0.01</text>\n",
       "<text text-anchor=\"middle\" x=\"1072\" y=\"-22.8\" font-family=\"Helvetica,sans-Serif\" font-size=\"14.00\">samples = 568</text>\n",
       "<text text-anchor=\"middle\" x=\"1072\" y=\"-7.8\" font-family=\"Helvetica,sans-Serif\" font-size=\"14.00\">value = &#45;0.516</text>\n",
       "</g>\n",
       "<!-- 21&#45;&gt;23 -->\n",
       "<g id=\"edge23\" class=\"edge\">\n",
       "<title>21&#45;&gt;23</title>\n",
       "<path fill=\"none\" stroke=\"black\" d=\"M1018.68,-88.95C1026.54,-79.89 1035.06,-70.07 1042.94,-60.99\"/>\n",
       "<polygon fill=\"black\" stroke=\"black\" points=\"1045.76,-63.08 1049.67,-53.24 1040.47,-58.5 1045.76,-63.08\"/>\n",
       "</g>\n",
       "<!-- 26 -->\n",
       "<g id=\"node27\" class=\"node\">\n",
       "<title>26</title>\n",
       "<path fill=\"#f9e0ce\" stroke=\"black\" d=\"M1222.5,-253.5C1222.5,-253.5 1095.5,-253.5 1095.5,-253.5 1089.5,-253.5 1083.5,-247.5 1083.5,-241.5 1083.5,-241.5 1083.5,-212.5 1083.5,-212.5 1083.5,-206.5 1089.5,-200.5 1095.5,-200.5 1095.5,-200.5 1222.5,-200.5 1222.5,-200.5 1228.5,-200.5 1234.5,-206.5 1234.5,-212.5 1234.5,-212.5 1234.5,-241.5 1234.5,-241.5 1234.5,-247.5 1228.5,-253.5 1222.5,-253.5\"/>\n",
       "<text text-anchor=\"middle\" x=\"1159\" y=\"-238.3\" font-family=\"Helvetica,sans-Serif\" font-size=\"14.00\">squared_error = 0.001</text>\n",
       "<text text-anchor=\"middle\" x=\"1159\" y=\"-223.3\" font-family=\"Helvetica,sans-Serif\" font-size=\"14.00\">samples = 576</text>\n",
       "<text text-anchor=\"middle\" x=\"1159\" y=\"-208.3\" font-family=\"Helvetica,sans-Serif\" font-size=\"14.00\">value = &#45;0.137</text>\n",
       "</g>\n",
       "<!-- 25&#45;&gt;26 -->\n",
       "<g id=\"edge26\" class=\"edge\">\n",
       "<title>25&#45;&gt;26</title>\n",
       "<path fill=\"none\" stroke=\"black\" d=\"M1159,-296.88C1159,-286.33 1159,-274.6 1159,-263.85\"/>\n",
       "<polygon fill=\"black\" stroke=\"black\" points=\"1162.5,-263.52 1159,-253.52 1155.5,-263.52 1162.5,-263.52\"/>\n",
       "</g>\n",
       "<!-- 27 -->\n",
       "<g id=\"node28\" class=\"node\">\n",
       "<title>27</title>\n",
       "<path fill=\"#fae6d8\" stroke=\"black\" d=\"M1391.5,-253.5C1391.5,-253.5 1264.5,-253.5 1264.5,-253.5 1258.5,-253.5 1252.5,-247.5 1252.5,-241.5 1252.5,-241.5 1252.5,-212.5 1252.5,-212.5 1252.5,-206.5 1258.5,-200.5 1264.5,-200.5 1264.5,-200.5 1391.5,-200.5 1391.5,-200.5 1397.5,-200.5 1403.5,-206.5 1403.5,-212.5 1403.5,-212.5 1403.5,-241.5 1403.5,-241.5 1403.5,-247.5 1397.5,-253.5 1391.5,-253.5\"/>\n",
       "<text text-anchor=\"middle\" x=\"1328\" y=\"-238.3\" font-family=\"Helvetica,sans-Serif\" font-size=\"14.00\">squared_error = 0.002</text>\n",
       "<text text-anchor=\"middle\" x=\"1328\" y=\"-223.3\" font-family=\"Helvetica,sans-Serif\" font-size=\"14.00\">samples = 576</text>\n",
       "<text text-anchor=\"middle\" x=\"1328\" y=\"-208.3\" font-family=\"Helvetica,sans-Serif\" font-size=\"14.00\">value = &#45;0.298</text>\n",
       "</g>\n",
       "<!-- 25&#45;&gt;27 -->\n",
       "<g id=\"edge27\" class=\"edge\">\n",
       "<title>25&#45;&gt;27</title>\n",
       "<path fill=\"none\" stroke=\"black\" d=\"M1213.87,-296.88C1234.19,-284.62 1257.12,-270.78 1277.07,-258.74\"/>\n",
       "<polygon fill=\"black\" stroke=\"black\" points=\"1278.96,-261.68 1285.72,-253.52 1275.35,-255.69 1278.96,-261.68\"/>\n",
       "</g>\n",
       "<!-- 29 -->\n",
       "<g id=\"node30\" class=\"node\">\n",
       "<title>29</title>\n",
       "<path fill=\"#e88e4e\" stroke=\"black\" d=\"M1644.5,-469C1644.5,-469 1517.5,-469 1517.5,-469 1511.5,-469 1505.5,-463 1505.5,-457 1505.5,-457 1505.5,-413 1505.5,-413 1505.5,-407 1511.5,-401 1517.5,-401 1517.5,-401 1644.5,-401 1644.5,-401 1650.5,-401 1656.5,-407 1656.5,-413 1656.5,-413 1656.5,-457 1656.5,-457 1656.5,-463 1650.5,-469 1644.5,-469\"/>\n",
       "<text text-anchor=\"middle\" x=\"1581\" y=\"-453.8\" font-family=\"Helvetica,sans-Serif\" font-size=\"14.00\">distance &lt;= 0.835</text>\n",
       "<text text-anchor=\"middle\" x=\"1581\" y=\"-438.8\" font-family=\"Helvetica,sans-Serif\" font-size=\"14.00\">squared_error = 0.195</text>\n",
       "<text text-anchor=\"middle\" x=\"1581\" y=\"-423.8\" font-family=\"Helvetica,sans-Serif\" font-size=\"14.00\">samples = 1598</text>\n",
       "<text text-anchor=\"middle\" x=\"1581\" y=\"-408.8\" font-family=\"Helvetica,sans-Serif\" font-size=\"14.00\">value = 1.909</text>\n",
       "</g>\n",
       "<!-- 28&#45;&gt;29 -->\n",
       "<g id=\"edge29\" class=\"edge\">\n",
       "<title>28&#45;&gt;29</title>\n",
       "<path fill=\"none\" stroke=\"black\" d=\"M1581,-504.88C1581,-496.78 1581,-487.98 1581,-479.47\"/>\n",
       "<polygon fill=\"black\" stroke=\"black\" points=\"1584.5,-479.3 1581,-469.3 1577.5,-479.3 1584.5,-479.3\"/>\n",
       "</g>\n",
       "<!-- 34 -->\n",
       "<g id=\"node35\" class=\"node\">\n",
       "<title>34</title>\n",
       "<path fill=\"#efb388\" stroke=\"black\" d=\"M1898.5,-469C1898.5,-469 1771.5,-469 1771.5,-469 1765.5,-469 1759.5,-463 1759.5,-457 1759.5,-457 1759.5,-413 1759.5,-413 1759.5,-407 1765.5,-401 1771.5,-401 1771.5,-401 1898.5,-401 1898.5,-401 1904.5,-401 1910.5,-407 1910.5,-413 1910.5,-413 1910.5,-457 1910.5,-457 1910.5,-463 1904.5,-469 1898.5,-469\"/>\n",
       "<text text-anchor=\"middle\" x=\"1835\" y=\"-453.8\" font-family=\"Helvetica,sans-Serif\" font-size=\"14.00\">distance &lt;= 1.986</text>\n",
       "<text text-anchor=\"middle\" x=\"1835\" y=\"-438.8\" font-family=\"Helvetica,sans-Serif\" font-size=\"14.00\">squared_error = 0.208</text>\n",
       "<text text-anchor=\"middle\" x=\"1835\" y=\"-423.8\" font-family=\"Helvetica,sans-Serif\" font-size=\"14.00\">samples = 1725</text>\n",
       "<text text-anchor=\"middle\" x=\"1835\" y=\"-408.8\" font-family=\"Helvetica,sans-Serif\" font-size=\"14.00\">value = 0.988</text>\n",
       "</g>\n",
       "<!-- 28&#45;&gt;34 -->\n",
       "<g id=\"edge34\" class=\"edge\">\n",
       "<title>28&#45;&gt;34</title>\n",
       "<path fill=\"none\" stroke=\"black\" d=\"M1656.52,-507.67C1685.81,-495.91 1719.51,-482.38 1749.67,-470.27\"/>\n",
       "<polygon fill=\"black\" stroke=\"black\" points=\"1751.36,-473.36 1759.33,-466.39 1748.75,-466.87 1751.36,-473.36\"/>\n",
       "</g>\n",
       "<!-- 30 -->\n",
       "<g id=\"node31\" class=\"node\">\n",
       "<title>30</title>\n",
       "<path fill=\"#e99559\" stroke=\"black\" d=\"M1560.5,-365C1560.5,-365 1433.5,-365 1433.5,-365 1427.5,-365 1421.5,-359 1421.5,-353 1421.5,-353 1421.5,-309 1421.5,-309 1421.5,-303 1427.5,-297 1433.5,-297 1433.5,-297 1560.5,-297 1560.5,-297 1566.5,-297 1572.5,-303 1572.5,-309 1572.5,-309 1572.5,-353 1572.5,-353 1572.5,-359 1566.5,-365 1560.5,-365\"/>\n",
       "<text text-anchor=\"middle\" x=\"1497\" y=\"-349.8\" font-family=\"Helvetica,sans-Serif\" font-size=\"14.00\">distance &lt;= 0.679</text>\n",
       "<text text-anchor=\"middle\" x=\"1497\" y=\"-334.8\" font-family=\"Helvetica,sans-Serif\" font-size=\"14.00\">squared_error = 0.172</text>\n",
       "<text text-anchor=\"middle\" x=\"1497\" y=\"-319.8\" font-family=\"Helvetica,sans-Serif\" font-size=\"14.00\">samples = 1066</text>\n",
       "<text text-anchor=\"middle\" x=\"1497\" y=\"-304.8\" font-family=\"Helvetica,sans-Serif\" font-size=\"14.00\">value = 1.741</text>\n",
       "</g>\n",
       "<!-- 29&#45;&gt;30 -->\n",
       "<g id=\"edge30\" class=\"edge\">\n",
       "<title>29&#45;&gt;30</title>\n",
       "<path fill=\"none\" stroke=\"black\" d=\"M1553.73,-400.88C1546.47,-392.07 1538.53,-382.43 1530.96,-373.24\"/>\n",
       "<polygon fill=\"black\" stroke=\"black\" points=\"1533.48,-370.79 1524.42,-365.3 1528.08,-375.24 1533.48,-370.79\"/>\n",
       "</g>\n",
       "<!-- 33 -->\n",
       "<g id=\"node34\" class=\"node\">\n",
       "<title>33</title>\n",
       "<path fill=\"#e58139\" stroke=\"black\" d=\"M1729.5,-357.5C1729.5,-357.5 1602.5,-357.5 1602.5,-357.5 1596.5,-357.5 1590.5,-351.5 1590.5,-345.5 1590.5,-345.5 1590.5,-316.5 1590.5,-316.5 1590.5,-310.5 1596.5,-304.5 1602.5,-304.5 1602.5,-304.5 1729.5,-304.5 1729.5,-304.5 1735.5,-304.5 1741.5,-310.5 1741.5,-316.5 1741.5,-316.5 1741.5,-345.5 1741.5,-345.5 1741.5,-351.5 1735.5,-357.5 1729.5,-357.5\"/>\n",
       "<text text-anchor=\"middle\" x=\"1666\" y=\"-342.3\" font-family=\"Helvetica,sans-Serif\" font-size=\"14.00\">squared_error = 0.069</text>\n",
       "<text text-anchor=\"middle\" x=\"1666\" y=\"-327.3\" font-family=\"Helvetica,sans-Serif\" font-size=\"14.00\">samples = 532</text>\n",
       "<text text-anchor=\"middle\" x=\"1666\" y=\"-312.3\" font-family=\"Helvetica,sans-Serif\" font-size=\"14.00\">value = 2.247</text>\n",
       "</g>\n",
       "<!-- 29&#45;&gt;33 -->\n",
       "<g id=\"edge33\" class=\"edge\">\n",
       "<title>29&#45;&gt;33</title>\n",
       "<path fill=\"none\" stroke=\"black\" d=\"M1608.6,-400.88C1618.04,-389.56 1628.6,-376.88 1638.07,-365.52\"/>\n",
       "<polygon fill=\"black\" stroke=\"black\" points=\"1641.02,-367.44 1644.73,-357.52 1635.64,-362.96 1641.02,-367.44\"/>\n",
       "</g>\n",
       "<!-- 31 -->\n",
       "<g id=\"node32\" class=\"node\">\n",
       "<title>31</title>\n",
       "<path fill=\"#e99559\" stroke=\"black\" d=\"M1560.5,-253.5C1560.5,-253.5 1433.5,-253.5 1433.5,-253.5 1427.5,-253.5 1421.5,-247.5 1421.5,-241.5 1421.5,-241.5 1421.5,-212.5 1421.5,-212.5 1421.5,-206.5 1427.5,-200.5 1433.5,-200.5 1433.5,-200.5 1560.5,-200.5 1560.5,-200.5 1566.5,-200.5 1572.5,-206.5 1572.5,-212.5 1572.5,-212.5 1572.5,-241.5 1572.5,-241.5 1572.5,-247.5 1566.5,-253.5 1560.5,-253.5\"/>\n",
       "<text text-anchor=\"middle\" x=\"1497\" y=\"-238.3\" font-family=\"Helvetica,sans-Serif\" font-size=\"14.00\">squared_error = 0.137</text>\n",
       "<text text-anchor=\"middle\" x=\"1497\" y=\"-223.3\" font-family=\"Helvetica,sans-Serif\" font-size=\"14.00\">samples = 533</text>\n",
       "<text text-anchor=\"middle\" x=\"1497\" y=\"-208.3\" font-family=\"Helvetica,sans-Serif\" font-size=\"14.00\">value = 1.74</text>\n",
       "</g>\n",
       "<!-- 30&#45;&gt;31 -->\n",
       "<g id=\"edge31\" class=\"edge\">\n",
       "<title>30&#45;&gt;31</title>\n",
       "<path fill=\"none\" stroke=\"black\" d=\"M1497,-296.88C1497,-286.33 1497,-274.6 1497,-263.85\"/>\n",
       "<polygon fill=\"black\" stroke=\"black\" points=\"1500.5,-263.52 1497,-253.52 1493.5,-263.52 1500.5,-263.52\"/>\n",
       "</g>\n",
       "<!-- 32 -->\n",
       "<g id=\"node33\" class=\"node\">\n",
       "<title>32</title>\n",
       "<path fill=\"#e99559\" stroke=\"black\" d=\"M1729.5,-253.5C1729.5,-253.5 1602.5,-253.5 1602.5,-253.5 1596.5,-253.5 1590.5,-247.5 1590.5,-241.5 1590.5,-241.5 1590.5,-212.5 1590.5,-212.5 1590.5,-206.5 1596.5,-200.5 1602.5,-200.5 1602.5,-200.5 1729.5,-200.5 1729.5,-200.5 1735.5,-200.5 1741.5,-206.5 1741.5,-212.5 1741.5,-212.5 1741.5,-241.5 1741.5,-241.5 1741.5,-247.5 1735.5,-253.5 1729.5,-253.5\"/>\n",
       "<text text-anchor=\"middle\" x=\"1666\" y=\"-238.3\" font-family=\"Helvetica,sans-Serif\" font-size=\"14.00\">squared_error = 0.206</text>\n",
       "<text text-anchor=\"middle\" x=\"1666\" y=\"-223.3\" font-family=\"Helvetica,sans-Serif\" font-size=\"14.00\">samples = 533</text>\n",
       "<text text-anchor=\"middle\" x=\"1666\" y=\"-208.3\" font-family=\"Helvetica,sans-Serif\" font-size=\"14.00\">value = 1.741</text>\n",
       "</g>\n",
       "<!-- 30&#45;&gt;32 -->\n",
       "<g id=\"edge32\" class=\"edge\">\n",
       "<title>30&#45;&gt;32</title>\n",
       "<path fill=\"none\" stroke=\"black\" d=\"M1551.87,-296.88C1572.19,-284.62 1595.12,-270.78 1615.07,-258.74\"/>\n",
       "<polygon fill=\"black\" stroke=\"black\" points=\"1616.96,-261.68 1623.72,-253.52 1613.35,-255.69 1616.96,-261.68\"/>\n",
       "</g>\n",
       "<!-- 35 -->\n",
       "<g id=\"node36\" class=\"node\">\n",
       "<title>35</title>\n",
       "<path fill=\"#f5ccaf\" stroke=\"black\" d=\"M1898.5,-357.5C1898.5,-357.5 1771.5,-357.5 1771.5,-357.5 1765.5,-357.5 1759.5,-351.5 1759.5,-345.5 1759.5,-345.5 1759.5,-316.5 1759.5,-316.5 1759.5,-310.5 1765.5,-304.5 1771.5,-304.5 1771.5,-304.5 1898.5,-304.5 1898.5,-304.5 1904.5,-304.5 1910.5,-310.5 1910.5,-316.5 1910.5,-316.5 1910.5,-345.5 1910.5,-345.5 1910.5,-351.5 1904.5,-357.5 1898.5,-357.5\"/>\n",
       "<text text-anchor=\"middle\" x=\"1835\" y=\"-342.3\" font-family=\"Helvetica,sans-Serif\" font-size=\"14.00\">squared_error = 0.006</text>\n",
       "<text text-anchor=\"middle\" x=\"1835\" y=\"-327.3\" font-family=\"Helvetica,sans-Serif\" font-size=\"14.00\">samples = 576</text>\n",
       "<text text-anchor=\"middle\" x=\"1835\" y=\"-312.3\" font-family=\"Helvetica,sans-Serif\" font-size=\"14.00\">value = 0.356</text>\n",
       "</g>\n",
       "<!-- 34&#45;&gt;35 -->\n",
       "<g id=\"edge35\" class=\"edge\">\n",
       "<title>34&#45;&gt;35</title>\n",
       "<path fill=\"none\" stroke=\"black\" d=\"M1835,-400.88C1835,-390.33 1835,-378.6 1835,-367.85\"/>\n",
       "<polygon fill=\"black\" stroke=\"black\" points=\"1838.5,-367.52 1835,-357.52 1831.5,-367.52 1838.5,-367.52\"/>\n",
       "</g>\n",
       "<!-- 36 -->\n",
       "<g id=\"node37\" class=\"node\">\n",
       "<title>36</title>\n",
       "<path fill=\"#eda774\" stroke=\"black\" d=\"M2067.5,-365C2067.5,-365 1940.5,-365 1940.5,-365 1934.5,-365 1928.5,-359 1928.5,-353 1928.5,-353 1928.5,-309 1928.5,-309 1928.5,-303 1934.5,-297 1940.5,-297 1940.5,-297 2067.5,-297 2067.5,-297 2073.5,-297 2079.5,-303 2079.5,-309 2079.5,-309 2079.5,-353 2079.5,-353 2079.5,-359 2073.5,-365 2067.5,-365\"/>\n",
       "<text text-anchor=\"middle\" x=\"2004\" y=\"-349.8\" font-family=\"Helvetica,sans-Serif\" font-size=\"14.00\">distance &lt;= 2.705</text>\n",
       "<text text-anchor=\"middle\" x=\"2004\" y=\"-334.8\" font-family=\"Helvetica,sans-Serif\" font-size=\"14.00\">squared_error = 0.008</text>\n",
       "<text text-anchor=\"middle\" x=\"2004\" y=\"-319.8\" font-family=\"Helvetica,sans-Serif\" font-size=\"14.00\">samples = 1149</text>\n",
       "<text text-anchor=\"middle\" x=\"2004\" y=\"-304.8\" font-family=\"Helvetica,sans-Serif\" font-size=\"14.00\">value = 1.305</text>\n",
       "</g>\n",
       "<!-- 34&#45;&gt;36 -->\n",
       "<g id=\"edge36\" class=\"edge\">\n",
       "<title>34&#45;&gt;36</title>\n",
       "<path fill=\"none\" stroke=\"black\" d=\"M1889.87,-400.88C1906.04,-391.12 1923.86,-380.37 1940.53,-370.31\"/>\n",
       "<polygon fill=\"black\" stroke=\"black\" points=\"1942.36,-373.29 1949.12,-365.12 1938.75,-367.3 1942.36,-373.29\"/>\n",
       "</g>\n",
       "<!-- 37 -->\n",
       "<g id=\"node38\" class=\"node\">\n",
       "<title>37</title>\n",
       "<path fill=\"#eda977\" stroke=\"black\" d=\"M1983.5,-253.5C1983.5,-253.5 1856.5,-253.5 1856.5,-253.5 1850.5,-253.5 1844.5,-247.5 1844.5,-241.5 1844.5,-241.5 1844.5,-212.5 1844.5,-212.5 1844.5,-206.5 1850.5,-200.5 1856.5,-200.5 1856.5,-200.5 1983.5,-200.5 1983.5,-200.5 1989.5,-200.5 1995.5,-206.5 1995.5,-212.5 1995.5,-212.5 1995.5,-241.5 1995.5,-241.5 1995.5,-247.5 1989.5,-253.5 1983.5,-253.5\"/>\n",
       "<text text-anchor=\"middle\" x=\"1920\" y=\"-238.3\" font-family=\"Helvetica,sans-Serif\" font-size=\"14.00\">squared_error = 0.007</text>\n",
       "<text text-anchor=\"middle\" x=\"1920\" y=\"-223.3\" font-family=\"Helvetica,sans-Serif\" font-size=\"14.00\">samples = 574</text>\n",
       "<text text-anchor=\"middle\" x=\"1920\" y=\"-208.3\" font-family=\"Helvetica,sans-Serif\" font-size=\"14.00\">value = 1.254</text>\n",
       "</g>\n",
       "<!-- 36&#45;&gt;37 -->\n",
       "<g id=\"edge37\" class=\"edge\">\n",
       "<title>36&#45;&gt;37</title>\n",
       "<path fill=\"none\" stroke=\"black\" d=\"M1976.73,-296.88C1967.4,-285.56 1956.96,-272.88 1947.61,-261.52\"/>\n",
       "<polygon fill=\"black\" stroke=\"black\" points=\"1950.08,-259.01 1941.02,-253.52 1944.67,-263.46 1950.08,-259.01\"/>\n",
       "</g>\n",
       "<!-- 38 -->\n",
       "<g id=\"node39\" class=\"node\">\n",
       "<title>38</title>\n",
       "<path fill=\"#eca571\" stroke=\"black\" d=\"M2152.5,-253.5C2152.5,-253.5 2025.5,-253.5 2025.5,-253.5 2019.5,-253.5 2013.5,-247.5 2013.5,-241.5 2013.5,-241.5 2013.5,-212.5 2013.5,-212.5 2013.5,-206.5 2019.5,-200.5 2025.5,-200.5 2025.5,-200.5 2152.5,-200.5 2152.5,-200.5 2158.5,-200.5 2164.5,-206.5 2164.5,-212.5 2164.5,-212.5 2164.5,-241.5 2164.5,-241.5 2164.5,-247.5 2158.5,-253.5 2152.5,-253.5\"/>\n",
       "<text text-anchor=\"middle\" x=\"2089\" y=\"-238.3\" font-family=\"Helvetica,sans-Serif\" font-size=\"14.00\">squared_error = 0.004</text>\n",
       "<text text-anchor=\"middle\" x=\"2089\" y=\"-223.3\" font-family=\"Helvetica,sans-Serif\" font-size=\"14.00\">samples = 575</text>\n",
       "<text text-anchor=\"middle\" x=\"2089\" y=\"-208.3\" font-family=\"Helvetica,sans-Serif\" font-size=\"14.00\">value = 1.355</text>\n",
       "</g>\n",
       "<!-- 36&#45;&gt;38 -->\n",
       "<g id=\"edge38\" class=\"edge\">\n",
       "<title>36&#45;&gt;38</title>\n",
       "<path fill=\"none\" stroke=\"black\" d=\"M2031.6,-296.88C2041.04,-285.56 2051.6,-272.88 2061.07,-261.52\"/>\n",
       "<polygon fill=\"black\" stroke=\"black\" points=\"2064.02,-263.44 2067.73,-253.52 2058.64,-258.96 2064.02,-263.44\"/>\n",
       "</g>\n",
       "</g>\n",
       "</svg>\n"
      ],
      "text/plain": [
       "<graphviz.sources.Source at 0x2394eb114c0>"
      ]
     },
     "execution_count": 38,
     "metadata": {},
     "output_type": "execute_result"
    }
   ],
   "source": [
    "# Viewing the Decision Tree\n",
    "from sklearn.tree import export_graphviz\n",
    "import graphviz\n",
    "\n",
    "## Generating the scheme of the tree based on the distance, with some extra parameters\n",
    "tree_dot = export_graphviz(model,feature_names =[\"distance\"],out_file=None, rounded=True, filled=True)\n",
    "\n",
    "# Visualize the tree using Graphviz\n",
    "graph = graphviz.Source(tree_dot)\n",
    "graph"
   ]
  },
  {
   "cell_type": "markdown",
   "metadata": {},
   "source": [
    "It will probably appear too big for the window. Don't worry, you can save the image to better understand it. \n",
    "It is quite simple: The model consists of a series of True/False questions, each \"leaf\" (end node) leads you to a predicted value.\n"
   ]
  },
  {
   "cell_type": "markdown",
   "metadata": {},
   "source": [
    "After seeing the decision tree solution, we start evaluating a <b>LSTM Model<b>.\n",
    "\n",
    "Long short-term memory networks are recurrent neural networks (RNN) that are a very good fit to time-series forecasting, as their output depends on past decisions.\n",
    "    \n",
    "For that, we also need to import the required libraries that allow us to implement the method."
   ]
  },
  {
   "cell_type": "code",
   "execution_count": 55,
   "metadata": {},
   "outputs": [],
   "source": [
    "# LSTM Modelling \n",
    "# If you want to know more about RNN & LSTM, you can follow this 20 minutes tutorial: https://www.youtube.com/watch?v=BSpXCRTOLJA\n",
    "import tensorflow as tf\n",
    "from tensorflow. keras.models import Sequential\n",
    "from tensorflow.keras.layers import Dense, LSTM, Dropout\n",
    "\n",
    "# We are going to use also one function from numpy package\n",
    "from numpy import array\n"
   ]
  },
  {
   "cell_type": "markdown",
   "metadata": {},
   "source": [
    "Importantly, RNN receive as input <b> Sequences <b>. This means that we have to re-structure the data such that each one of the input sets are time-ordered sequences. For that, we define the following function.\n",
    "\n",
    "This function, \"split_sequence\", receives a time series and outputs the last \"n_steps\" samples for each one of the time samples. "
   ]
  },
  {
   "cell_type": "code",
   "execution_count": 140,
   "metadata": {},
   "outputs": [],
   "source": [
    "## Creating sequences of past samples. \n",
    "\n",
    "# n_steps = number of previous samples to consider\n",
    "\n",
    "# since we need n_steps previous samples, the prediction will start after the first n_steps time slots.\n",
    "\n",
    "def split_sequence(sequence, n_steps):\n",
    "    X = list()\n",
    "    for i in range(len(sequence)-n_steps):\n",
    "        seq_x = sequence[i:i + n_steps]\n",
    "        X.append(seq_x)\n",
    "    \n",
    "    # Important! Shuffling to help the method to learn different patterns\n",
    "    shuffled_X = np.array(X)\n",
    "    np.random.shuffle(shuffled_X)\n",
    "\n",
    "    return shuffled_X\n"
   ]
  },
  {
   "cell_type": "markdown",
   "metadata": {},
   "source": [
    "Now that we have the function defined, we can pass the train and test data through it"
   ]
  },
  {
   "cell_type": "code",
   "execution_count": 142,
   "metadata": {},
   "outputs": [
    {
     "name": "stdout",
     "output_type": "stream",
     "text": [
      "The new shape of our training data is: (11340, 30, 1)\n"
     ]
    }
   ],
   "source": [
    "n_pastSamples = 30 # Number of past values that are taken into account for predicting. \n",
    "\n",
    "Xtrain_3d = split_sequence(X_train, n_pastSamples)\n",
    "Xtest_3d  = split_sequence(X_test,  n_pastSamples)\n",
    "\n",
    "print(f\"The new shape of our training data is: {Xtrain_3d.shape}\")"
   ]
  },
  {
   "cell_type": "markdown",
   "metadata": {},
   "source": [
    "Now it is turn to define the neural network architecture and the learning parameters. \n",
    "\n",
    "Let us start with a simple architecture. "
   ]
  },
  {
   "cell_type": "code",
   "execution_count": null,
   "metadata": {},
   "outputs": [],
   "source": [
    "## define model\n",
    "n_features   = 1  # number of input features; in our case, only one: distance\n",
    "n_neurons    = 50 # number of neurons per layer\n",
    "\n",
    "model = Sequential() # Tipe of model\n",
    "\n",
    "# We add one LSTM layer. The activation function is the Rectified Linear function.\n",
    "# We also need to add the correct shape of the input values\n",
    "model.add(LSTM(n_neurons, activation='relu', input_shape=(n_steps, n_features)))\n",
    "\n",
    "model.add(Dense(1))\n",
    "\n",
    "model.compile(optimizer='adam', loss='mse')\n",
    "\n"
   ]
  },
  {
   "cell_type": "code",
   "execution_count": 96,
   "metadata": {},
   "outputs": [],
   "source": [
    "# define model\n",
    "n_features   = 1\n",
    "n_steps      = 10 \n",
    "n_neurons    = 50\n",
    "dropout_prob = 0.2\n",
    "\n",
    "\n",
    "model = Sequential() # Tipe of model\n",
    "\n",
    "model.add(LSTM(n_neurons, activation='relu', input_shape=(n_steps, n_features), return_sequences = True))\n",
    "model.add(Dropout(dropout_prob))\n",
    "\n",
    "model.add(LSTM(n_neurons, activation='relu'))\n",
    "model.add(Dropout(dropout_prob))\n",
    "\n",
    "model.add(Dense(32, activation='relu'))\n",
    "model.add(Dropout(dropout_prob))\n",
    "\n",
    "model.add(Dense(1))\n",
    "\n",
    "model.compile(optimizer='adam', loss='mse')\n",
    "\n"
   ]
  },
  {
   "cell_type": "markdown",
   "metadata": {},
   "source": [
    "Time to fit (train) the model!\n",
    "\n",
    "The parameter \"epochs\" denotes the number of \"rounds\" we pass through the training set"
   ]
  },
  {
   "cell_type": "code",
   "execution_count": 98,
   "metadata": {},
   "outputs": [
    {
     "data": {
      "text/plain": [
       "<keras.callbacks.History at 0x2396aafcf10>"
      ]
     },
     "execution_count": 98,
     "metadata": {},
     "output_type": "execute_result"
    }
   ],
   "source": [
    "# fit model\n",
    "num_epochs = 2\n",
    "\n",
    "model.fit(Xtrain_3d, y_train[0:len(Xtrain_3d)], epochs=num_epochs, verbose=0)"
   ]
  },
  {
   "cell_type": "markdown",
   "metadata": {},
   "source": [
    "And we can predict the test labels!"
   ]
  },
  {
   "cell_type": "code",
   "execution_count": 103,
   "metadata": {},
   "outputs": [
    {
     "name": "stdout",
     "output_type": "stream",
     "text": [
      "180/180 [==============================] - 0s 3ms/step\n"
     ]
    }
   ],
   "source": [
    "y_pred = model.predict(Xtest_3d, verbose=1)"
   ]
  },
  {
   "cell_type": "markdown",
   "metadata": {},
   "source": [
    "And, of course, evaluate the MSE:"
   ]
  },
  {
   "cell_type": "code",
   "execution_count": 102,
   "metadata": {},
   "outputs": [
    {
     "name": "stdout",
     "output_type": "stream",
     "text": [
      "Mean Squared Error of the decision tree: 0.44 normalized MSE\n",
      "Mean Squared Error of the decision tree: 14.91 ms\n"
     ]
    }
   ],
   "source": [
    "mse_lstm = mean_squared_error(y_pred,y_test[0:len(y_pred)])\n",
    "\n",
    "print(f\"Mean Squared Error of the decision tree: {mse_lstm:.2f} normalized MSE\")\n",
    "print(f\"Mean Squared Error of the decision tree: {mse_lstm*train_df['distance'].mean():.2f} ms\")"
   ]
  },
  {
   "cell_type": "code",
   "execution_count": null,
   "metadata": {},
   "outputs": [],
   "source": []
  }
 ],
 "metadata": {
  "kernelspec": {
   "display_name": "Python 3 (ipykernel)",
   "language": "python",
   "name": "python3"
  },
  "language_info": {
   "codemirror_mode": {
    "name": "ipython",
    "version": 3
   },
   "file_extension": ".py",
   "mimetype": "text/x-python",
   "name": "python",
   "nbconvert_exporter": "python",
   "pygments_lexer": "ipython3",
   "version": "3.9.15"
  }
 },
 "nbformat": 4,
 "nbformat_minor": 2
}
