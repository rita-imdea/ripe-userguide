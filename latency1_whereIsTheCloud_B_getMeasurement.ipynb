{
 "cells": [
  {
   "cell_type": "markdown",
   "metadata": {},
   "source": [
    "# RIPE Atlas:  Can we find where the Cloud is?\n",
    "This project is accesible at: https://github.com/rita-imdea/ripe-userguide\n",
    "\n",
    "Please read the guide document at https://github.com/rita-imdea/ripe-userguide/blob/main/latency1_whereIsTheCloud_GUIDE_student.pdf to help you understand this notebook. \n",
    "\n",
    "If you want to know how to create your own customized measurements, please go to https://github.com/rita-imdea/ripe-userguide/blob/main/latency1_whereIsTheCloud_A_createMeasurement.ipynb. \n",
    "\n",
    "\n",
    "## II) Retrieving data from RIPE Atlas\n",
    "\n",
    "In this notebook, we are going to see how to retrieve measurements fron RIPE Atlas and also how to parse measurements from JSON files (which have been pre-downloaded from RIPE Atlas). \n",
    "We recommend the reader to first take a look at the PDF document that contains the guide for the whole course. \n",
    "\n",
    "------------------------------\n",
    "\n",
    "\n",
    "#### A) ACCESSING PUBLICLY AVAILABLE MEASUREMENTS\n",
    "\n",
    "   We will show how to retrieve the data from any measurement available in the public RIPE Atlas measurement dataset (in https://atlas.ripe.net/measurements/). The data is stored in JSON format and can be easily parsed.\n",
    "    \n",
    "\n"
   ]
  },
  {
   "cell_type": "markdown",
   "metadata": {},
   "source": [
    "First of all, we need to install some python packages that are required to contact with the RIPE Atlas server and to parse JSON files. Some other packages will be imported later on when they are needed. Make sure that you have installed the packages (see the guide that is accessible from the link on top of this file)."
   ]
  },
  {
   "cell_type": "code",
   "execution_count": null,
   "metadata": {},
   "outputs": [],
   "source": [
    "import requests # to create http requests from Python\n",
    "import json     # Library to write and ready JSON files in PYthon"
   ]
  },
  {
   "cell_type": "markdown",
   "metadata": {},
   "source": [
    "### A) ACCESSING PUBLICLY AVAILABLE MEASUREMENTS"
   ]
  },
  {
   "cell_type": "markdown",
   "metadata": {},
   "source": [
    "Retrieving data from the RIPE Atlas database in Python is very simple. \n",
    "One only needs to know the ID that indentifies the measurement. Then, it is enough to run the following code.\n",
    "The id provided is a ramdom id measurement that you can substitute with your measurement's ids if you create customized measurements. "
   ]
  },
  {
   "cell_type": "markdown",
   "metadata": {},
   "source": [
    "First, we set the IDs of the measurements we want to retrieve."
   ]
  },
  {
   "cell_type": "code",
   "execution_count": null,
   "metadata": {},
   "outputs": [],
   "source": [
    "# Set the measurement IDs you want to retrieve\n",
    "measurement_ids = [\"61142052\"] # example of measurement ID # example of measurement ID\n"
   ]
  },
  {
   "cell_type": "markdown",
   "metadata": {},
   "source": [
    "Now, for each measurement, we save the data in a json file."
   ]
  },
  {
   "cell_type": "code",
   "execution_count": null,
   "metadata": {},
   "outputs": [],
   "source": [
    "\n",
    "# Loop through the measurement IDs and retrieve the JSON files\n",
    "for measurement_id in measurement_ids:\n",
    "        url = f\"https://atlas.ripe.net/api/v2/measurements/{measurement_id}/results/?format=json\" # The url where the file is\n",
    "        headers=f\"\"\n",
    "        response = requests.get(url, headers=headers)\n",
    "\n",
    "        # Check if the request was successful\n",
    "        if response.status_code == 200:\n",
    "                json_data = response.json()\n",
    "                \n",
    "                measurement_file = f\"RIPE-Atlas-measurement-{measurement_id}.json\" # Name of the JSON file where the data will be stored. \n",
    "                \n",
    "                # Write the JSON data to a file\n",
    "                with open(measurement_file, \"w\") as f:\n",
    "                        json.dump(json_data, f, indent=4)\n",
    "                \n",
    "                print(f\"Measurement {measurement_id} successfully retrieved\")\n",
    "                        \n",
    "        else: # We have not been able to retrieve the data\n",
    "                print(f\"Failed to retrieve measurement {measurement_id}. Error code: {response.status_code}\")\n"
   ]
  },
  {
   "cell_type": "markdown",
   "metadata": {},
   "source": [
    "Now that we have all the data available in a JSON file, we can play with it as we want and understand how the network works.\n",
    "\n",
    "-----------------------------------------------------------"
   ]
  },
  {
   "cell_type": "markdown",
   "metadata": {},
   "source": [
    "--------------------------------\n",
    "\n",
    "IMPORTANT!!\n",
    "\n",
    "If you are interested in understanding how to analyze the data we have just retrieved, please visit the guide at https://github.com/rita-imdea/ripe-userguide/blob/main/latency2_cloudDataAnalysis_GUIDE_student.pdf and the corresponding material. \n",
    "\n",
    "In that guide, we explain how to analyze the characteristics of the data in space and time, and how we can predict the future values with statistical and machine learning algorithms. "
   ]
  }
 ],
 "metadata": {
  "kernelspec": {
   "display_name": "Python 3 (ipykernel)",
   "language": "python",
   "name": "python3"
  },
  "language_info": {
   "codemirror_mode": {
    "name": "ipython",
    "version": 3
   },
   "file_extension": ".py",
   "mimetype": "text/x-python",
   "name": "python",
   "nbconvert_exporter": "python",
   "pygments_lexer": "ipython3",
   "version": "3.9.15"
  }
 },
 "nbformat": 4,
 "nbformat_minor": 2
}
